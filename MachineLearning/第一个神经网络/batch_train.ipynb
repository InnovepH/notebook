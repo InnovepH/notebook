{
 "cells": [
  {
   "cell_type": "code",
   "execution_count": 1,
   "metadata": {},
   "outputs": [
    {
     "data": {
      "text/plain": [
       "<torch._C.Generator at 0x1ed79c25310>"
      ]
     },
     "execution_count": 1,
     "metadata": {},
     "output_type": "execute_result"
    }
   ],
   "source": [
    "import torch\n",
    "import torch.utils.data as Data\n",
    "from tqdm import tqdm\n",
    "import time\n",
    "\n",
    "torch.manual_seed(1)    # reproducible"
   ]
  },
  {
   "cell_type": "code",
   "execution_count": 2,
   "metadata": {},
   "outputs": [],
   "source": [
    "x = torch.linspace(1, 80, 80)       # this is x data (torch tensor)\n",
    "y = torch.linspace(80, 1, 80)       # this is y data (torch tensor)"
   ]
  },
  {
   "cell_type": "code",
   "execution_count": 3,
   "metadata": {},
   "outputs": [
    {
     "name": "stdout",
     "output_type": "stream",
     "text": [
      "tensor([ 1.,  2.,  3.,  4.,  5.,  6.,  7.,  8.,  9., 10., 11., 12., 13., 14.,\n",
      "        15., 16., 17., 18., 19., 20., 21., 22., 23., 24., 25., 26., 27., 28.,\n",
      "        29., 30., 31., 32., 33., 34., 35., 36., 37., 38., 39., 40., 41., 42.,\n",
      "        43., 44., 45., 46., 47., 48., 49., 50., 51., 52., 53., 54., 55., 56.,\n",
      "        57., 58., 59., 60., 61., 62., 63., 64., 65., 66., 67., 68., 69., 70.,\n",
      "        71., 72., 73., 74., 75., 76., 77., 78., 79., 80.])\n",
      "tensor([80., 79., 78., 77., 76., 75., 74., 73., 72., 71., 70., 69., 68., 67.,\n",
      "        66., 65., 64., 63., 62., 61., 60., 59., 58., 57., 56., 55., 54., 53.,\n",
      "        52., 51., 50., 49., 48., 47., 46., 45., 44., 43., 42., 41., 40., 39.,\n",
      "        38., 37., 36., 35., 34., 33., 32., 31., 30., 29., 28., 27., 26., 25.,\n",
      "        24., 23., 22., 21., 20., 19., 18., 17., 16., 15., 14., 13., 12., 11.,\n",
      "        10.,  9.,  8.,  7.,  6.,  5.,  4.,  3.,  2.,  1.])\n"
     ]
    }
   ],
   "source": [
    "print(x)\n",
    "print(y)"
   ]
  },
  {
   "cell_type": "code",
   "execution_count": 4,
   "metadata": {},
   "outputs": [
    {
     "name": "stderr",
     "output_type": "stream",
     "text": [
      "Epoch: 0 | batch x: [76. 77. 78. 79. 80.] | batch y:  [5. 4. 3. 2. 1.]: 100%|██████████| 16/16 [00:08<00:00,  1.78it/s]\n",
      "Epoch: 1 | batch x: [76. 77. 78. 79. 80.] | batch y:  [5. 4. 3. 2. 1.]: 100%|██████████| 16/16 [00:08<00:00,  1.80it/s]\n",
      "Epoch: 2 | batch x: [76. 77. 78. 79. 80.] | batch y:  [5. 4. 3. 2. 1.]: 100%|██████████| 16/16 [00:08<00:00,  1.80it/s]\n",
      "Epoch: 3 | batch x: [76. 77. 78. 79. 80.] | batch y:  [5. 4. 3. 2. 1.]: 100%|██████████| 16/16 [00:08<00:00,  1.80it/s]\n",
      "Epoch: 4 | batch x: [76. 77. 78. 79. 80.] | batch y:  [5. 4. 3. 2. 1.]: 100%|██████████| 16/16 [00:08<00:00,  1.80it/s]\n",
      "Epoch: 5 | batch x: [76. 77. 78. 79. 80.] | batch y:  [5. 4. 3. 2. 1.]: 100%|██████████| 16/16 [00:08<00:00,  1.80it/s]\n",
      "Epoch: 6 | batch x: [76. 77. 78. 79. 80.] | batch y:  [5. 4. 3. 2. 1.]: 100%|██████████| 16/16 [00:08<00:00,  1.80it/s]\n",
      "Epoch: 7 | batch x: [76. 77. 78. 79. 80.] | batch y:  [5. 4. 3. 2. 1.]: 100%|██████████| 16/16 [00:08<00:00,  1.80it/s]\n",
      "Epoch: 8 | batch x: [76. 77. 78. 79. 80.] | batch y:  [5. 4. 3. 2. 1.]: 100%|██████████| 16/16 [00:08<00:00,  1.80it/s]\n",
      "Epoch: 9 | batch x: [76. 77. 78. 79. 80.] | batch y:  [5. 4. 3. 2. 1.]: 100%|██████████| 16/16 [00:08<00:00,  1.80it/s]\n"
     ]
    }
   ],
   "source": [
    "BATCH_SIZE = 5\n",
    "torch_dataset = Data.TensorDataset(x, y)\n",
    "loader = Data.DataLoader(\n",
    "    dataset=torch_dataset,      # torch TensorDataset format\n",
    "    batch_size=BATCH_SIZE,      # mini batch size\n",
    "#     shuffle=True,               # random shuffle for training\n",
    "    num_workers=2,              # subprocesses for loading data\n",
    ")\n",
    "for epoch in range(10):   # train entire dataset 3 times\n",
    "    with tqdm(loader) as pbar:\n",
    "        for step, (batch_x, batch_y) in enumerate(pbar):  # for each training step\n",
    "            # train your data...\n",
    "            time.sleep(0.5)\n",
    "            pbar.set_description(f'Epoch: {epoch} | batch x: {batch_x.numpy()} | batch y:  {batch_y.numpy()}')"
   ]
  },
  {
   "cell_type": "code",
   "execution_count": 5,
   "metadata": {},
   "outputs": [
    {
     "name": "stderr",
     "output_type": "stream",
     "text": [
      "Epoch: 0 | batch x: [68. 37. 40. 75. 31. 45. 12. 76.] | batch y:  [13. 44. 41.  6. 50. 36. 69.  5.]: 100%|█| 10/10 [00:00<00:00, 12.84it/s]\n",
      "Epoch: 1 | batch x: [71. 24. 11.  2. 64. 36. 17. 16.] | batch y:  [10. 57. 70. 79. 17. 45. 64. 65.]: 100%|█| 10/10 [00:00<00:00, 13.27it/s]\n",
      "Epoch: 2 | batch x: [69. 68. 75.  1. 70. 36. 23. 77.] | batch y:  [12. 13.  6. 80. 11. 45. 58.  4.]: 100%|█| 10/10 [00:00<00:00, 13.16it/s]\n",
      "Epoch: 3 | batch x: [31.  2. 74. 18. 50.  9. 16. 73.] | batch y:  [50. 79.  7. 63. 31. 72. 65.  8.]: 100%|█| 10/10 [00:00<00:00, 13.17it/s]\n",
      "Epoch: 4 | batch x: [61. 44.  1. 65.  5. 52. 18. 63.] | batch y:  [20. 37. 80. 16. 76. 29. 63. 18.]: 100%|█| 10/10 [00:00<00:00, 13.36it/s]\n",
      "Epoch: 5 | batch x: [44. 22. 67. 64. 32. 48. 31. 45.] | batch y:  [37. 59. 14. 17. 49. 33. 50. 36.]: 100%|█| 10/10 [00:00<00:00, 13.17it/s]\n",
      "Epoch: 6 | batch x: [28. 19. 48. 18. 23. 76. 69. 41.] | batch y:  [53. 62. 33. 63. 58.  5. 12. 40.]: 100%|█| 10/10 [00:00<00:00, 13.34it/s]\n",
      "Epoch: 7 | batch x: [78.  3. 57. 49. 66. 74. 21. 59.] | batch y:  [ 3. 78. 24. 32. 15.  7. 60. 22.]: 100%|█| 10/10 [00:00<00:00, 13.38it/s]\n",
      "Epoch: 8 | batch x: [ 6.  3. 37. 44. 67. 72. 62. 23.] | batch y:  [75. 78. 44. 37. 14.  9. 19. 58.]: 100%|█| 10/10 [00:00<00:00, 13.37it/s]\n",
      "Epoch: 9 | batch x: [21. 42.  2. 12. 39. 26.  9. 47.] | batch y:  [60. 39. 79. 69. 42. 55. 72. 34.]: 100%|█| 10/10 [00:00<00:00, 13.45it/s]\n"
     ]
    }
   ],
   "source": [
    "BATCH_SIZE = 8\n",
    "torch_dataset = Data.TensorDataset(x, y)\n",
    "loader = Data.DataLoader(\n",
    "    dataset=torch_dataset,      # torch TensorDataset format\n",
    "    batch_size=BATCH_SIZE,      # mini batch size\n",
    "    shuffle=True,               # random shuffle for training\n",
    "    num_workers=2,              # subprocesses for loading data\n",
    ")\n",
    "for epoch in range(10):   # train entire dataset 3 times\n",
    "    with tqdm(loader) as pbar:\n",
    "        for step, (batch_x, batch_y) in enumerate(pbar):  # for each training step\n",
    "            # train your data...\n",
    "            pbar.set_description(f'Epoch: {epoch} | batch x: {batch_x.numpy()} | batch y:  {batch_y.numpy()}')"
   ]
  }
 ],
 "metadata": {
  "kernelspec": {
   "display_name": "ml",
   "language": "python",
   "name": "tf-gpu"
  },
  "language_info": {
   "codemirror_mode": {
    "name": "ipython",
    "version": 3
   },
   "file_extension": ".py",
   "mimetype": "text/x-python",
   "name": "python",
   "nbconvert_exporter": "python",
   "pygments_lexer": "ipython3",
   "version": "3.6.9"
  },
  "latex_envs": {
   "LaTeX_envs_menu_present": true,
   "autoclose": false,
   "autocomplete": true,
   "bibliofile": "biblio.bib",
   "cite_by": "apalike",
   "current_citInitial": 1,
   "eqLabelWithNumbers": true,
   "eqNumInitial": 1,
   "hotkeys": {
    "equation": "Ctrl-E",
    "itemize": "Ctrl-I"
   },
   "labels_anchors": false,
   "latex_user_defs": false,
   "report_style_numbering": false,
   "user_envs_cfg": false
  },
  "toc": {
   "base_numbering": 1,
   "nav_menu": {},
   "number_sections": true,
   "sideBar": true,
   "skip_h1_title": false,
   "title_cell": "Table of Contents",
   "title_sidebar": "Contents",
   "toc_cell": false,
   "toc_position": {},
   "toc_section_display": true,
   "toc_window_display": false
  },
  "varInspector": {
   "cols": {
    "lenName": 16,
    "lenType": 16,
    "lenVar": 40
   },
   "kernels_config": {
    "python": {
     "delete_cmd_postfix": "",
     "delete_cmd_prefix": "del ",
     "library": "var_list.py",
     "varRefreshCmd": "print(var_dic_list())"
    },
    "r": {
     "delete_cmd_postfix": ") ",
     "delete_cmd_prefix": "rm(",
     "library": "var_list.r",
     "varRefreshCmd": "cat(var_dic_list()) "
    }
   },
   "types_to_exclude": [
    "module",
    "function",
    "builtin_function_or_method",
    "instance",
    "_Feature"
   ],
   "window_display": false
  }
 },
 "nbformat": 4,
 "nbformat_minor": 2
}
