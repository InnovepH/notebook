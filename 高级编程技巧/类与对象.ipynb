{
 "cells": [
  {
   "cell_type": "markdown",
   "metadata": {},
   "source": [
    "## 如何派生内置不可变类型并修改实例化行为?"
   ]
  },
  {
   "cell_type": "markdown",
   "metadata": {},
   "source": [
    "我们想自定义一种新类型的元组，对于传入的可迭代对象，我们只保留作其中`int`类型且值大于0的元素"
   ]
  },
  {
   "cell_type": "code",
   "execution_count": 9,
   "metadata": {},
   "outputs": [
    {
     "name": "stdout",
     "output_type": "stream",
     "text": [
      "(1, 6, 3)\n"
     ]
    }
   ],
   "source": [
    "class IntTuple(tuple):\n",
    "    \n",
    "    def __new__(cls, iterable):\n",
    "        g = (x for x in iterable if isinstance(x, int) and x > 0)\n",
    "        return super(IntTuple, cls).__new__(cls, g)\n",
    "    \n",
    "    def __init__(self, iterable):\n",
    "        # before\n",
    "        super(IntTuple, self).__init__()\n",
    "        # after\n",
    "        \n",
    "\n",
    "t = IntTuple([1, -1, 'abc', 6, ['x', 'y'], 3])\n",
    "print(t)"
   ]
  },
  {
   "cell_type": "markdown",
   "metadata": {},
   "source": [
    "## 如何为创建大量实例节省内存?\n",
    "\n",
    "某网络游戏中，定义了玩家类Player(id, name, status, ...)  \n",
    "每有一个在线玩家，在服务器程序内则有一个Player的实例，当在线人数很多时，将产生大量实例。（如百万级）\n",
    "\n",
    "如何降低这些大量实例的内存开销?"
   ]
  },
  {
   "cell_type": "code",
   "execution_count": 10,
   "metadata": {},
   "outputs": [],
   "source": [
    "class Player(object):\n",
    "    \n",
    "    def __init__(self, uid, name, status=0, level=1):\n",
    "        self.uid = uid\n",
    "        self.name = name\n",
    "        self.stat = status\n",
    "        self.level = level\n",
    "        \n",
    "class Player2(object):\n",
    "    \n",
    "    __slots__ = ['uid', 'name', 'stat', 'level']\n",
    "    \n",
    "    def __init__(self, uid, name, status=0, level=1):\n",
    "        self.uid = uid\n",
    "        self.name = name\n",
    "        self.stat = status\n",
    "        self.level = level"
   ]
  },
  {
   "cell_type": "code",
   "execution_count": 11,
   "metadata": {},
   "outputs": [],
   "source": [
    "p1 = Player('0001', 'Jim')\n",
    "p2 = Player2('0001', 'Jim')"
   ]
  },
  {
   "cell_type": "code",
   "execution_count": 14,
   "metadata": {},
   "outputs": [
    {
     "name": "stdout",
     "output_type": "stream",
     "text": [
      "['__class__', '__delattr__', '__dict__', '__dir__', '__doc__', '__eq__', '__format__', '__ge__', '__getattribute__', '__gt__', '__hash__', '__init__', '__init_subclass__', '__le__', '__lt__', '__module__', '__ne__', '__new__', '__reduce__', '__reduce_ex__', '__repr__', '__setattr__', '__sizeof__', '__str__', '__subclasshook__', '__weakref__', 'level', 'name', 'stat', 'uid']\n",
      "\n",
      "['__class__', '__delattr__', '__dir__', '__doc__', '__eq__', '__format__', '__ge__', '__getattribute__', '__gt__', '__hash__', '__init__', '__init_subclass__', '__le__', '__lt__', '__module__', '__ne__', '__new__', '__reduce__', '__reduce_ex__', '__repr__', '__setattr__', '__sizeof__', '__slots__', '__str__', '__subclasshook__', 'level', 'name', 'stat', 'uid']\n"
     ]
    }
   ],
   "source": [
    "print(dir(p1))\n",
    "print()\n",
    "print(dir(p2))"
   ]
  },
  {
   "cell_type": "code",
   "execution_count": 15,
   "metadata": {},
   "outputs": [
    {
     "data": {
      "text/plain": [
       "{'__dict__', '__weakref__'}"
      ]
     },
     "execution_count": 15,
     "metadata": {},
     "output_type": "execute_result"
    }
   ],
   "source": [
    "set(dir(p1)) - set(dir(p2))"
   ]
  },
  {
   "cell_type": "code",
   "execution_count": 19,
   "metadata": {},
   "outputs": [],
   "source": [
    "p1.__dict__['x'] = 123"
   ]
  },
  {
   "cell_type": "code",
   "execution_count": 20,
   "metadata": {},
   "outputs": [
    {
     "data": {
      "text/plain": [
       "123"
      ]
     },
     "execution_count": 20,
     "metadata": {},
     "output_type": "execute_result"
    }
   ],
   "source": [
    "p1.x"
   ]
  },
  {
   "cell_type": "code",
   "execution_count": 22,
   "metadata": {},
   "outputs": [],
   "source": [
    "del p1.__dict__['x']"
   ]
  },
  {
   "cell_type": "code",
   "execution_count": 23,
   "metadata": {},
   "outputs": [
    {
     "ename": "AttributeError",
     "evalue": "'Player' object has no attribute 'x'",
     "output_type": "error",
     "traceback": [
      "\u001b[1;31m---------------------------------------------------------------------------\u001b[0m",
      "\u001b[1;31mAttributeError\u001b[0m                            Traceback (most recent call last)",
      "\u001b[1;32m<ipython-input-23-54f8378113e3>\u001b[0m in \u001b[0;36m<module>\u001b[1;34m\u001b[0m\n\u001b[1;32m----> 1\u001b[1;33m \u001b[0mp1\u001b[0m\u001b[1;33m.\u001b[0m\u001b[0mx\u001b[0m\u001b[1;33m\u001b[0m\u001b[0m\n\u001b[0m",
      "\u001b[1;31mAttributeError\u001b[0m: 'Player' object has no attribute 'x'"
     ]
    }
   ],
   "source": [
    "p1.x"
   ]
  },
  {
   "cell_type": "code",
   "execution_count": 24,
   "metadata": {},
   "outputs": [
    {
     "data": {
      "text/plain": [
       "368"
      ]
     },
     "execution_count": 24,
     "metadata": {},
     "output_type": "execute_result"
    }
   ],
   "source": [
    "import sys\n",
    "\n",
    "sys.getsizeof(p1.__dict__)"
   ]
  },
  {
   "cell_type": "markdown",
   "metadata": {},
   "source": [
    "## 如何让对象支持上下文管理?"
   ]
  },
  {
   "cell_type": "code",
   "execution_count": 27,
   "metadata": {},
   "outputs": [],
   "source": [
    "with open('demo.txt', 'w') as f:\n",
    "    f.write('abcdef')\n",
    "    f.writelines(['\\nxyz', '\\n123'])"
   ]
  },
  {
   "cell_type": "markdown",
   "metadata": {},
   "source": [
    "我们实现了一个telnet客户端的类TelnetClient，调用实例的`start()`方法启动客户端与服务器交互，\n",
    "交互完毕后需调用`cleanup()`方法，关闭已连接的socket，以及将操作历史纪录写入文件并关闭。\n",
    "\n",
    "能否让TelnetClient的实例支持上下文管理协议，从而替代手工调用`cleanup()`方法。\n",
    "\n",
    "实现上下文管理协议，需定义实例的 `__enter__`,`__exit__`方法，它们分别在with开始和结束时被调用。"
   ]
  },
  {
   "cell_type": "code",
   "execution_count": null,
   "metadata": {},
   "outputs": [],
   "source": [
    "from telnetlib import Telnet\n",
    "from sys import stdin, stdout\n",
    "from collections import deque\n",
    "\n",
    "class TelnetClient(object):\n",
    "\n",
    "    def __init__(self, addr, port=23):\n",
    "        self.addr = addr\n",
    "        self.port = port\n",
    "        self.tn = None\n",
    "\n",
    "    def start(self):\n",
    "        self.tn = Telnet(self.addr, self.port)\n",
    "        self.history = deque()\n",
    "\n",
    "        # user\n",
    "        t = self.tn.read_until('login: ')\n",
    "        stdout.write(t)\n",
    "        user = stdin.readline()\n",
    "        self.tn.write(user)\n",
    "\n",
    "        # password\n",
    "        t = self.tn.read_until('Password: ')\n",
    "        if t.startswith(user[:-1]): t = t[len(user) + 1:]\n",
    "        stdout.write(t)\n",
    "        self.tn.write(stdin.readline())\n",
    "\n",
    "        t = self.tn.read_until('$ ')\n",
    "        stdout.write(t)\n",
    "        while True:\n",
    "            uinput = stdin.readline()\n",
    "            if not uinput:\n",
    "                break\n",
    "            self.history.append(uinput)\n",
    "            self.sn.write(uinput)\n",
    "            t = self.tn.read_until('$ ')\n",
    "            stdout.write(t[len(uinput) + 1:])\n",
    "\n",
    "        def cleanup(self):\n",
    "            self.tn.close()\n",
    "            self.tn = None\n",
    "            with open(self.addr + '_history.txt', 'w') as f:\n",
    "                f.writelines(self.history)\n",
    "\n",
    "\n",
    "client = TelnetClient('127.0.0.1')\n",
    "print('\\nstart...')\n",
    "client.start()\n",
    "print('\\ncleanup')\n",
    "client.cleanup() "
   ]
  },
  {
   "cell_type": "code",
   "execution_count": null,
   "metadata": {},
   "outputs": [],
   "source": [
    "from telnetlib import Telnet\n",
    "from sys import stdin, stdout\n",
    "from collections import deque\n",
    "\n",
    "class TelnetClient(object):\n",
    "\n",
    "    def __init__(self, addr, port=23):\n",
    "        self.addr = addr\n",
    "        self.port = port\n",
    "        self.tn = None\n",
    "\n",
    "    def start(self):\n",
    "        # user\n",
    "        t = self.tn.read_until('login: ')\n",
    "        stdout.write(t)\n",
    "        user = stdin.readline()\n",
    "        self.tn.write(user)\n",
    "\n",
    "        # password\n",
    "        t = self.tn.read_until('Password: ')\n",
    "        if t.startswith(user[:-1]): t = t[len(user) + 1:]\n",
    "        stdout.write(t)\n",
    "        self.tn.write(stdin.readline())\n",
    "\n",
    "        t = self.tn.read_until('$ ')\n",
    "        stdout.write(t)\n",
    "        while True:\n",
    "            uinput = stdin.readline()\n",
    "            if not uinput:\n",
    "                break\n",
    "            self.history.append(uinput)\n",
    "            self.sn.write(uinput)\n",
    "            t = self.tn.read_until('$ ')\n",
    "            stdout.write(t[len(uinput) + 1:])\n",
    "\n",
    "        def cleanup(self):\n",
    "            pass\n",
    "                \n",
    "        def __enter__(self):\n",
    "            self.tn = Telnet(self.addr, self.port)\n",
    "            self.history = deque()\n",
    "            return self\n",
    "        \n",
    "        def __exit__(self, exc_type, exc_val, exc_tb):\n",
    "            self.tn.close()\n",
    "            self.tn = None\n",
    "            with open(self.addr + '_history.txt', 'w') as f:\n",
    "                f.writelines(self.history)\n",
    "            \n",
    "\n",
    "with TelnetClient('127.0.0.1') as client:\n",
    "    client.start()\n",
    "\n",
    "'''\n",
    "client = TelnetClient('127.0.0.1')\n",
    "print('\\nstart...')\n",
    "client.start()\n",
    "print('\\ncleanup')\n",
    "client.cleanup() \n",
    "'''"
   ]
  },
  {
   "cell_type": "markdown",
   "metadata": {},
   "source": [
    "## 如何创建可管理的对象属性?"
   ]
  },
  {
   "cell_type": "code",
   "execution_count": 5,
   "metadata": {},
   "outputs": [
    {
     "data": {
      "text/plain": [
       "3.2"
      ]
     },
     "execution_count": 5,
     "metadata": {},
     "output_type": "execute_result"
    }
   ],
   "source": [
    "from math import pi\n",
    "    \n",
    "class Circle(object):\n",
    "    \n",
    "    def __init__(self, radius):\n",
    "        self.radius = radius\n",
    "        \n",
    "    def getRadius(self):\n",
    "        return self.radius\n",
    "    \n",
    "    def setRadius(self, value):\n",
    "        if not isinstance(value, (int, float)):\n",
    "            raise ValueError('wrong type.')\n",
    "        self.radius = float(value)\n",
    "        \n",
    "    def getArea(self):\n",
    "        return self.radius ** 2 * pi\n",
    "    \n",
    "c = Circle(3.2)\n",
    "c.getRadius()"
   ]
  },
  {
   "cell_type": "markdown",
   "metadata": {},
   "source": [
    "使用`property`函数为类创建可管理属性, fget/fset/fdel对应相应属性访问."
   ]
  },
  {
   "cell_type": "code",
   "execution_count": 9,
   "metadata": {},
   "outputs": [
    {
     "name": "stdout",
     "output_type": "stream",
     "text": [
      "3.2\n",
      "5.9\n"
     ]
    },
    {
     "ename": "ValueError",
     "evalue": "wrong type.",
     "output_type": "error",
     "traceback": [
      "\u001b[1;31m---------------------------------------------------------------------------\u001b[0m",
      "\u001b[1;31mValueError\u001b[0m                                Traceback (most recent call last)",
      "\u001b[1;32m<ipython-input-9-2e1862b15f89>\u001b[0m in \u001b[0;36m<module>\u001b[1;34m\u001b[0m\n\u001b[0;32m     23\u001b[0m \u001b[0mc\u001b[0m\u001b[1;33m.\u001b[0m\u001b[0mR\u001b[0m \u001b[1;33m=\u001b[0m \u001b[1;36m5.9\u001b[0m\u001b[1;33m\u001b[0m\u001b[0m\n\u001b[0;32m     24\u001b[0m \u001b[0mprint\u001b[0m\u001b[1;33m(\u001b[0m\u001b[0mc\u001b[0m\u001b[1;33m.\u001b[0m\u001b[0mR\u001b[0m\u001b[1;33m)\u001b[0m\u001b[1;33m\u001b[0m\u001b[0m\n\u001b[1;32m---> 25\u001b[1;33m \u001b[0mc\u001b[0m\u001b[1;33m.\u001b[0m\u001b[0mR\u001b[0m \u001b[1;33m=\u001b[0m \u001b[1;34m'abc'\u001b[0m\u001b[1;33m\u001b[0m\u001b[0m\n\u001b[0m",
      "\u001b[1;32m<ipython-input-9-2e1862b15f89>\u001b[0m in \u001b[0;36msetRadius\u001b[1;34m(self, value)\u001b[0m\n\u001b[0;32m     11\u001b[0m     \u001b[1;32mdef\u001b[0m \u001b[0msetRadius\u001b[0m\u001b[1;33m(\u001b[0m\u001b[0mself\u001b[0m\u001b[1;33m,\u001b[0m \u001b[0mvalue\u001b[0m\u001b[1;33m)\u001b[0m\u001b[1;33m:\u001b[0m\u001b[1;33m\u001b[0m\u001b[0m\n\u001b[0;32m     12\u001b[0m         \u001b[1;32mif\u001b[0m \u001b[1;32mnot\u001b[0m \u001b[0misinstance\u001b[0m\u001b[1;33m(\u001b[0m\u001b[0mvalue\u001b[0m\u001b[1;33m,\u001b[0m \u001b[1;33m(\u001b[0m\u001b[0mint\u001b[0m\u001b[1;33m,\u001b[0m \u001b[0mfloat\u001b[0m\u001b[1;33m)\u001b[0m\u001b[1;33m)\u001b[0m\u001b[1;33m:\u001b[0m\u001b[1;33m\u001b[0m\u001b[0m\n\u001b[1;32m---> 13\u001b[1;33m             \u001b[1;32mraise\u001b[0m \u001b[0mValueError\u001b[0m\u001b[1;33m(\u001b[0m\u001b[1;34m'wrong type.'\u001b[0m\u001b[1;33m)\u001b[0m\u001b[1;33m\u001b[0m\u001b[0m\n\u001b[0m\u001b[0;32m     14\u001b[0m         \u001b[0mself\u001b[0m\u001b[1;33m.\u001b[0m\u001b[0mradius\u001b[0m \u001b[1;33m=\u001b[0m \u001b[0mfloat\u001b[0m\u001b[1;33m(\u001b[0m\u001b[0mvalue\u001b[0m\u001b[1;33m)\u001b[0m\u001b[1;33m\u001b[0m\u001b[0m\n\u001b[0;32m     15\u001b[0m \u001b[1;33m\u001b[0m\u001b[0m\n",
      "\u001b[1;31mValueError\u001b[0m: wrong type."
     ]
    }
   ],
   "source": [
    "from math import pi\n",
    "    \n",
    "class Circle(object):\n",
    "    \n",
    "    def __init__(self, radius):\n",
    "        self.radius = radius\n",
    "        \n",
    "    def getRadius(self):\n",
    "        return self.radius\n",
    "    \n",
    "    def setRadius(self, value):\n",
    "        if not isinstance(value, (int, float)):\n",
    "            raise ValueError('wrong type.')\n",
    "        self.radius = float(value)\n",
    "        \n",
    "    def getArea(self):\n",
    "        return self.radius ** 2 * pi\n",
    "    \n",
    "    R = property(getRadius, setRadius)\n",
    "    \n",
    "c = Circle(3.2)\n",
    "print(c.R)\n",
    "c.R = 5.9\n",
    "print(c.R)\n",
    "c.R = 'abc'"
   ]
  },
  {
   "cell_type": "markdown",
   "metadata": {},
   "source": [
    "## 如何让类支持比较操作?\n",
    "\n",
    "比较符号运算符重载, 需要实现一下方法:  \n",
    "`__lt__`, `__le__`, `__gt__`, `__ge__`, `__eq__`, `__ne__`"
   ]
  },
  {
   "cell_type": "code",
   "execution_count": 15,
   "metadata": {},
   "outputs": [
    {
     "name": "stdout",
     "output_type": "stream",
     "text": [
      "in __le__\n",
      "True\n"
     ]
    }
   ],
   "source": [
    "class Rectangle(object):\n",
    "    \n",
    "    def __init__(self, w, h):\n",
    "        self.w = w\n",
    "        self.h = h\n",
    "        \n",
    "    def area(self):\n",
    "        return self.w * self.h\n",
    "    \n",
    "    def __lt__(self, obj):\n",
    "        print('in __lt__')\n",
    "        return self.area() < obj.area()\n",
    "    \n",
    "    def __le__(self, obj):\n",
    "        print('in __le__')\n",
    "        return self.area() <= obj.area()\n",
    "    \n",
    "    \n",
    "r1 = Rectangle(2, 8)\n",
    "r2 = Rectangle(4, 4)\n",
    "\n",
    "print(r1 <= r2) # r1.__lt__(r2)"
   ]
  },
  {
   "cell_type": "markdown",
   "metadata": {},
   "source": [
    "使用标准库下的 functools 下的类装饰器`total_ordering`可以简化此过程"
   ]
  },
  {
   "cell_type": "code",
   "execution_count": 25,
   "metadata": {},
   "outputs": [
    {
     "name": "stdout",
     "output_type": "stream",
     "text": [
      "in __lt__\n",
      "False\n",
      "\n",
      "in __lt__\n",
      "False\n",
      "\n",
      "in __lt__\n",
      "in __le__\n",
      "True\n"
     ]
    }
   ],
   "source": [
    "from functools import total_ordering\n",
    "from abc import ABCMeta, abstractmethod\n",
    "\n",
    "@total_ordering\n",
    "class Shape(object):\n",
    "    @abstractmethod\n",
    "    def area(self):  # 抽象方法\n",
    "        pass\n",
    "    \n",
    "    def __lt__(self, obj):\n",
    "        print('in __lt__')\n",
    "        if not isinstance(obj, Shape):\n",
    "            raise TypeError('obj is not Shape')\n",
    "        return self.area() < obj.area()\n",
    "    \n",
    "    def __eq__(self, obj):\n",
    "        print('in __le__')\n",
    "        if not isinstance(obj, Shape):\n",
    "            raise TypeError('obj is not Shape')\n",
    "        return self.area() == obj.area()\n",
    "\n",
    "    \n",
    "class Rectangle(Shape):\n",
    "    \n",
    "    def __init__(self, w, h):\n",
    "        self.w = w\n",
    "        self.h = h\n",
    "        \n",
    "    def area(self):\n",
    "        return self.w * self.h\n",
    "    \n",
    "    \n",
    "class Circle(Shape):\n",
    "    \n",
    "    def __init__(self, r):\n",
    "        self.r = r\n",
    "                \n",
    "    def area(self):\n",
    "        return self.r ** 2 * 3.1415926\n",
    "\n",
    "r1 = Rectangle(3, 5)\n",
    "r2 = Rectangle(4, 4)\n",
    "c1 = Circle(3)\n",
    "\n",
    "print(r1 > r2)\n",
    "print()\n",
    "print(r1 >= c1)\n",
    "print()\n",
    "print(c1 > r2)"
   ]
  },
  {
   "cell_type": "markdown",
   "metadata": {},
   "source": [
    "## 如何使用描述符对实例属性做类型检查?"
   ]
  },
  {
   "cell_type": "code",
   "execution_count": 28,
   "metadata": {},
   "outputs": [
    {
     "name": "stdout",
     "output_type": "stream",
     "text": [
      "in __get__ <__main__.A object at 0x0000016E81C09048> <class '__main__.A'>\n",
      "in __get__ None <class '__main__.A'>\n"
     ]
    }
   ],
   "source": [
    "class Descriptor(object):\n",
    "    \n",
    "    def __get__(self, instance, cls):\n",
    "        print('in __get__', instance, cls)\n",
    "        # return instance.__dict__[xxx]\n",
    "        \n",
    "    def __set__(self, instance, value):\n",
    "        print('in __set__')\n",
    "        # instance.__dict__[xxx] = value\n",
    "        \n",
    "    def __delete__(self, instance):\n",
    "        print('in __del__')\n",
    "        # del instance.__dict__[xxx]\n",
    "        \n",
    "    \n",
    "class A(object):\n",
    "    x = Descriptor()\n",
    "    \n",
    "a = A()\n",
    "a.x\n",
    "A.x"
   ]
  },
  {
   "cell_type": "code",
   "execution_count": 30,
   "metadata": {},
   "outputs": [
    {
     "name": "stdout",
     "output_type": "stream",
     "text": [
      "in __set__\n",
      "in __del__\n"
     ]
    }
   ],
   "source": [
    "a.x = 5\n",
    "del a.x"
   ]
  },
  {
   "cell_type": "code",
   "execution_count": 31,
   "metadata": {},
   "outputs": [
    {
     "name": "stdout",
     "output_type": "stream",
     "text": [
      "in __get__ <__main__.A object at 0x0000016E81C09048> <class '__main__.A'>\n",
      "{}\n"
     ]
    }
   ],
   "source": [
    "a.x\n",
    "print(a.__dict__)"
   ]
  },
  {
   "cell_type": "code",
   "execution_count": 32,
   "metadata": {},
   "outputs": [
    {
     "name": "stdout",
     "output_type": "stream",
     "text": [
      "in __set__\n",
      "in __get__ <__main__.A object at 0x0000016E81BF9438> <class '__main__.A'>\n",
      "5\n"
     ]
    }
   ],
   "source": [
    "class Descriptor(object):\n",
    "    \n",
    "    def __get__(self, instance, cls):\n",
    "        print('in __get__', instance, cls)\n",
    "        return instance.__dict__['x']\n",
    "        \n",
    "    def __set__(self, instance, value):\n",
    "        print('in __set__')\n",
    "        instance.__dict__['x'] = value\n",
    "        \n",
    "    def __delete__(self, instance):\n",
    "        print('in __del__')\n",
    "        # del instance.__dict__[xxx]\n",
    "        \n",
    "    \n",
    "class A(object):\n",
    "    x = Descriptor()\n",
    "    \n",
    "a = A()\n",
    "a.x = 5\n",
    "print(a.x)"
   ]
  },
  {
   "cell_type": "code",
   "execution_count": 36,
   "metadata": {},
   "outputs": [
    {
     "name": "stdout",
     "output_type": "stream",
     "text": [
      "Bob\n"
     ]
    },
    {
     "ename": "TypeError",
     "evalue": "expected an <class 'int'>",
     "output_type": "error",
     "traceback": [
      "\u001b[1;31m---------------------------------------------------------------------------\u001b[0m",
      "\u001b[1;31mTypeError\u001b[0m                                 Traceback (most recent call last)",
      "\u001b[1;32m<ipython-input-36-c6fa5b29c993>\u001b[0m in \u001b[0;36m<module>\u001b[1;34m\u001b[0m\n\u001b[0;32m     25\u001b[0m \u001b[0mp\u001b[0m\u001b[1;33m.\u001b[0m\u001b[0mname\u001b[0m \u001b[1;33m=\u001b[0m \u001b[1;34m'Bob'\u001b[0m\u001b[1;33m\u001b[0m\u001b[0m\n\u001b[0;32m     26\u001b[0m \u001b[0mprint\u001b[0m\u001b[1;33m(\u001b[0m\u001b[0mp\u001b[0m\u001b[1;33m.\u001b[0m\u001b[0mname\u001b[0m\u001b[1;33m)\u001b[0m\u001b[1;33m\u001b[0m\u001b[0m\n\u001b[1;32m---> 27\u001b[1;33m \u001b[0mp\u001b[0m\u001b[1;33m.\u001b[0m\u001b[0mage\u001b[0m \u001b[1;33m=\u001b[0m \u001b[1;34m'17'\u001b[0m\u001b[1;33m\u001b[0m\u001b[0m\n\u001b[0m",
      "\u001b[1;32m<ipython-input-36-c6fa5b29c993>\u001b[0m in \u001b[0;36m__set__\u001b[1;34m(self, instance, value)\u001b[0m\n\u001b[0;32m     10\u001b[0m     \u001b[1;32mdef\u001b[0m \u001b[0m__set__\u001b[0m\u001b[1;33m(\u001b[0m\u001b[0mself\u001b[0m\u001b[1;33m,\u001b[0m \u001b[0minstance\u001b[0m\u001b[1;33m,\u001b[0m \u001b[0mvalue\u001b[0m\u001b[1;33m)\u001b[0m\u001b[1;33m:\u001b[0m\u001b[1;33m\u001b[0m\u001b[0m\n\u001b[0;32m     11\u001b[0m         \u001b[1;32mif\u001b[0m \u001b[1;32mnot\u001b[0m \u001b[0misinstance\u001b[0m\u001b[1;33m(\u001b[0m\u001b[0mvalue\u001b[0m\u001b[1;33m,\u001b[0m \u001b[0mself\u001b[0m\u001b[1;33m.\u001b[0m\u001b[0mtype_\u001b[0m\u001b[1;33m)\u001b[0m\u001b[1;33m:\u001b[0m\u001b[1;33m\u001b[0m\u001b[0m\n\u001b[1;32m---> 12\u001b[1;33m             \u001b[1;32mraise\u001b[0m \u001b[0mTypeError\u001b[0m\u001b[1;33m(\u001b[0m\u001b[1;34m'expected an %s'\u001b[0m \u001b[1;33m%\u001b[0m \u001b[0mself\u001b[0m\u001b[1;33m.\u001b[0m\u001b[0mtype_\u001b[0m\u001b[1;33m)\u001b[0m\u001b[1;33m\u001b[0m\u001b[0m\n\u001b[0m\u001b[0;32m     13\u001b[0m         \u001b[0minstance\u001b[0m\u001b[1;33m.\u001b[0m\u001b[0m__dict__\u001b[0m\u001b[1;33m[\u001b[0m\u001b[0mself\u001b[0m\u001b[1;33m.\u001b[0m\u001b[0mname\u001b[0m\u001b[1;33m]\u001b[0m \u001b[1;33m=\u001b[0m \u001b[0mvalue\u001b[0m\u001b[1;33m\u001b[0m\u001b[0m\n\u001b[0;32m     14\u001b[0m \u001b[1;33m\u001b[0m\u001b[0m\n",
      "\u001b[1;31mTypeError\u001b[0m: expected an <class 'int'>"
     ]
    }
   ],
   "source": [
    "class Attr(object):\n",
    "    \n",
    "    def __init__(self, name, type_):\n",
    "        self.name = name\n",
    "        self.type_ = type_\n",
    "    \n",
    "    def __get__(self, instance, cls):\n",
    "        return instance.__dict__[self.name]\n",
    "        \n",
    "    def __set__(self, instance, value):\n",
    "        if not isinstance(value, self.type_):\n",
    "            raise TypeError('expected an %s' % self.type_)\n",
    "        instance.__dict__[self.name] = value\n",
    "        \n",
    "    def __delete__(self, instance):\n",
    "        del instance.__dict__[self.name]\n",
    "        \n",
    "    \n",
    "class Person(object):\n",
    "    name = Attr('name', str)\n",
    "    age = Attr('age', int)\n",
    "    height = Attr('height', float)\n",
    "    \n",
    "p = Person()\n",
    "p.name = 'Bob'\n",
    "print(p.name)\n",
    "p.age = '17'"
   ]
  },
  {
   "cell_type": "markdown",
   "metadata": {},
   "source": [
    "## 如何在环状数据结构中管理内存?"
   ]
  },
  {
   "cell_type": "code",
   "execution_count": 3,
   "metadata": {},
   "outputs": [],
   "source": [
    "class A(object):\n",
    "    \n",
    "    def __del__(self):\n",
    "        print('in A.__del__')"
   ]
  },
  {
   "cell_type": "code",
   "execution_count": 4,
   "metadata": {},
   "outputs": [
    {
     "data": {
      "text/plain": [
       "2"
      ]
     },
     "execution_count": 4,
     "metadata": {},
     "output_type": "execute_result"
    }
   ],
   "source": [
    "a = A()\n",
    "import sys\n",
    "sys.getrefcount(a)"
   ]
  },
  {
   "cell_type": "code",
   "execution_count": 5,
   "metadata": {},
   "outputs": [],
   "source": [
    "sys.getrefcount?"
   ]
  },
  {
   "cell_type": "code",
   "execution_count": 6,
   "metadata": {
    "scrolled": true
   },
   "outputs": [
    {
     "data": {
      "text/plain": [
       "1"
      ]
     },
     "execution_count": 6,
     "metadata": {},
     "output_type": "execute_result"
    }
   ],
   "source": [
    "sys.getrefcount(a) - 1"
   ]
  },
  {
   "cell_type": "code",
   "execution_count": 7,
   "metadata": {},
   "outputs": [
    {
     "data": {
      "text/plain": [
       "2"
      ]
     },
     "execution_count": 7,
     "metadata": {},
     "output_type": "execute_result"
    }
   ],
   "source": [
    "a2 = a\n",
    "sys.getrefcount(a) - 1"
   ]
  },
  {
   "cell_type": "code",
   "execution_count": 8,
   "metadata": {},
   "outputs": [],
   "source": [
    "del a2"
   ]
  },
  {
   "cell_type": "code",
   "execution_count": 9,
   "metadata": {},
   "outputs": [
    {
     "data": {
      "text/plain": [
       "1"
      ]
     },
     "execution_count": 9,
     "metadata": {},
     "output_type": "execute_result"
    }
   ],
   "source": [
    "sys.getrefcount(a) - 1"
   ]
  },
  {
   "cell_type": "code",
   "execution_count": 10,
   "metadata": {},
   "outputs": [
    {
     "name": "stdout",
     "output_type": "stream",
     "text": [
      "in A.__del__\n"
     ]
    }
   ],
   "source": [
    "a = 5"
   ]
  },
  {
   "cell_type": "code",
   "execution_count": 14,
   "metadata": {},
   "outputs": [
    {
     "name": "stdout",
     "output_type": "stream",
     "text": [
      "wait...\n"
     ]
    }
   ],
   "source": [
    "class Data(object):\n",
    "    \n",
    "    def __init__(self, value, owner):\n",
    "        self.owner = owner\n",
    "        self.value = value\n",
    "        \n",
    "    def __str__(self):\n",
    "        return \"%s's data, value is %s\" % (self.owner, self.value)\n",
    "    \n",
    "    def __del__(self):\n",
    "        print('in Data.__del__')\n",
    "        \n",
    "\n",
    "class Node(object):\n",
    "    \n",
    "    def __init__(self, value):\n",
    "        self.data = Data(value, self)\n",
    "        \n",
    "    def __del__(self):\n",
    "        print('in Node.__del__')\n",
    "\n",
    "\n",
    "node = Node(100)\n",
    "del node\n",
    "# import gc\n",
    "# gc.collect()\n",
    "print('wait...')"
   ]
  },
  {
   "cell_type": "markdown",
   "metadata": {},
   "source": [
    "使用标准库`weakref`, 它可以创建一种能访问对象但不增加引用计数的对象."
   ]
  },
  {
   "cell_type": "code",
   "execution_count": 15,
   "metadata": {},
   "outputs": [
    {
     "data": {
      "text/plain": [
       "1"
      ]
     },
     "execution_count": 15,
     "metadata": {},
     "output_type": "execute_result"
    }
   ],
   "source": [
    "a = A()\n",
    "sys.getrefcount(a) - 1"
   ]
  },
  {
   "cell_type": "code",
   "execution_count": 16,
   "metadata": {},
   "outputs": [
    {
     "data": {
      "text/plain": [
       "True"
      ]
     },
     "execution_count": 16,
     "metadata": {},
     "output_type": "execute_result"
    }
   ],
   "source": [
    "import weakref\n",
    "a_wref = weakref.ref(a)\n",
    "\n",
    "a2 = a_wref()\n",
    "\n",
    "a is a2"
   ]
  },
  {
   "cell_type": "code",
   "execution_count": 17,
   "metadata": {},
   "outputs": [
    {
     "data": {
      "text/plain": [
       "2"
      ]
     },
     "execution_count": 17,
     "metadata": {},
     "output_type": "execute_result"
    }
   ],
   "source": [
    "sys.getrefcount(a) - 1"
   ]
  },
  {
   "cell_type": "code",
   "execution_count": 18,
   "metadata": {},
   "outputs": [
    {
     "name": "stdout",
     "output_type": "stream",
     "text": [
      "in A.__del__\n"
     ]
    }
   ],
   "source": [
    "del a\n",
    "del a2"
   ]
  },
  {
   "cell_type": "code",
   "execution_count": 19,
   "metadata": {},
   "outputs": [
    {
     "data": {
      "text/plain": [
       "True"
      ]
     },
     "execution_count": 19,
     "metadata": {},
     "output_type": "execute_result"
    }
   ],
   "source": [
    "a_wref() is None"
   ]
  },
  {
   "cell_type": "code",
   "execution_count": 20,
   "metadata": {},
   "outputs": [
    {
     "name": "stdout",
     "output_type": "stream",
     "text": [
      "in Node.__del__\n",
      "in Data.__del__\n",
      "wait...\n"
     ]
    }
   ],
   "source": [
    "import weakref\n",
    "\n",
    "class Data(object):\n",
    "    \n",
    "    def __init__(self, value, owner):\n",
    "        self.owner = weakref.ref(owner)\n",
    "        self.value = value\n",
    "        \n",
    "    def __str__(self):\n",
    "        return \"%s's data, value is %s\" % (self.owner(), self.value)\n",
    "    \n",
    "    def __del__(self):\n",
    "        print('in Data.__del__')\n",
    "        \n",
    "\n",
    "class Node(object):\n",
    "    \n",
    "    def __init__(self, value):\n",
    "        self.data = Data(value, self)\n",
    "        \n",
    "    def __del__(self):\n",
    "        print('in Node.__del__')\n",
    "\n",
    "\n",
    "node = Node(100)\n",
    "del node\n",
    "# import gc\n",
    "# gc.collect()\n",
    "print('wait...')"
   ]
  },
  {
   "cell_type": "markdown",
   "metadata": {},
   "source": [
    "## 如何通过实例方法名字的字符串调用方法?\n",
    "\n",
    "方法一：使用内置函数`getattr`通过名字在实例上获取方法对象, 然后调用.  "
   ]
  },
  {
   "cell_type": "code",
   "execution_count": null,
   "metadata": {},
   "outputs": [],
   "source": [
    "from lib1 import Circle\n",
    "from lib2 import Triangle\n",
    "from lib3 import Rectangle\n",
    "\n",
    "def getArea(shape):\n",
    "    for name in ('area', 'getArea', 'get_area'):\n",
    "        f = getattr(shape, name, None)\n",
    "        if f:\n",
    "            return f()\n",
    "        \n",
    "shape1 = Circle(2)\n",
    "shape2 = Triangle(3, 4, 5)\n",
    "shape3 = Rectangle(6, 4)\n",
    "\n",
    "\n",
    "shapes = [shape1, shape2, shape3]\n",
    "print(map(getArea, shapes))"
   ]
  },
  {
   "cell_type": "markdown",
   "metadata": {},
   "source": [
    "方法二：使用标准库`poerator`下的`methodcaller`函数调用"
   ]
  },
  {
   "cell_type": "code",
   "execution_count": 21,
   "metadata": {},
   "outputs": [
    {
     "name": "stdout",
     "output_type": "stream",
     "text": [
      "in Node.__del__\n",
      "in Data.__del__\n",
      "in Node.__del__\n",
      "in Data.__del__\n"
     ]
    }
   ],
   "source": [
    "from operator import methodcaller\n",
    "methodcaller?"
   ]
  },
  {
   "cell_type": "code",
   "execution_count": 22,
   "metadata": {},
   "outputs": [
    {
     "data": {
      "text/plain": [
       "6"
      ]
     },
     "execution_count": 22,
     "metadata": {},
     "output_type": "execute_result"
    }
   ],
   "source": [
    "s = 'abc123abc456'\n",
    "s.find('abc', 4)"
   ]
  },
  {
   "cell_type": "code",
   "execution_count": 25,
   "metadata": {},
   "outputs": [
    {
     "data": {
      "text/plain": [
       "operator.methodcaller('find', 'abc', 4)"
      ]
     },
     "execution_count": 25,
     "metadata": {},
     "output_type": "execute_result"
    }
   ],
   "source": [
    "m = methodcaller('find', 'abc', 4)\n",
    "m"
   ]
  },
  {
   "cell_type": "code",
   "execution_count": 27,
   "metadata": {},
   "outputs": [
    {
     "data": {
      "text/plain": [
       "6"
      ]
     },
     "execution_count": 27,
     "metadata": {},
     "output_type": "execute_result"
    }
   ],
   "source": [
    "m(s)"
   ]
  }
 ],
 "metadata": {
  "kernelspec": {
   "display_name": "Python 3",
   "language": "python",
   "name": "python3"
  },
  "language_info": {
   "codemirror_mode": {
    "name": "ipython",
    "version": 3
   },
   "file_extension": ".py",
   "mimetype": "text/x-python",
   "name": "python",
   "nbconvert_exporter": "python",
   "pygments_lexer": "ipython3",
   "version": "3.6.6"
  }
 },
 "nbformat": 4,
 "nbformat_minor": 2
}
