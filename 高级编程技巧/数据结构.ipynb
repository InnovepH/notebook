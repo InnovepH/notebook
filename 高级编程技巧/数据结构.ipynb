{
 "cells": [
  {
   "cell_type": "markdown",
   "metadata": {},
   "source": [
    "## 如何在列表，字典，集合中根据条件筛选数据？"
   ]
  },
  {
   "cell_type": "markdown",
   "metadata": {},
   "source": [
    "**列表**"
   ]
  },
  {
   "cell_type": "code",
   "execution_count": 15,
   "metadata": {},
   "outputs": [
    {
     "name": "stdout",
     "output_type": "stream",
     "text": [
      "[2, 6, 8, 7, -4, -1, 0, 6, 9, -2]\n"
     ]
    }
   ],
   "source": [
    "from random import randint\n",
    "data = [randint(-10, 10) for _ in range(10)]\n",
    "print(data)"
   ]
  },
  {
   "cell_type": "code",
   "execution_count": 24,
   "metadata": {},
   "outputs": [],
   "source": [
    "result_0 = filter(lambda x:x>=0, data)\n",
    "result_1 = [x for x in data if x >= 0]"
   ]
  },
  {
   "cell_type": "code",
   "execution_count": 25,
   "metadata": {},
   "outputs": [
    {
     "name": "stdout",
     "output_type": "stream",
     "text": [
      "[2, 6, 8, 7, 0, 6, 9]\n",
      "[2, 6, 8, 7, 0, 6, 9]\n"
     ]
    }
   ],
   "source": [
    "print([res for res in result_0])\n",
    "print(result_1)"
   ]
  },
  {
   "cell_type": "code",
   "execution_count": 26,
   "metadata": {},
   "outputs": [
    {
     "name": "stdout",
     "output_type": "stream",
     "text": [
      "257 ns ± 0.563 ns per loop (mean ± std. dev. of 7 runs, 1000000 loops each)\n"
     ]
    }
   ],
   "source": [
    "timeit filter(lambda x:x>=0, data)"
   ]
  },
  {
   "cell_type": "code",
   "execution_count": 27,
   "metadata": {},
   "outputs": [
    {
     "name": "stdout",
     "output_type": "stream",
     "text": [
      "703 ns ± 6.4 ns per loop (mean ± std. dev. of 7 runs, 1000000 loops each)\n"
     ]
    }
   ],
   "source": [
    "timeit [x for x in data if x >= 0]"
   ]
  },
  {
   "cell_type": "markdown",
   "metadata": {},
   "source": [
    "**字典**"
   ]
  },
  {
   "cell_type": "code",
   "execution_count": 28,
   "metadata": {},
   "outputs": [],
   "source": [
    "d = {x: randint(60,100) for x in range(1, 21)}"
   ]
  },
  {
   "cell_type": "code",
   "execution_count": 29,
   "metadata": {},
   "outputs": [
    {
     "name": "stdout",
     "output_type": "stream",
     "text": [
      "{1: 96, 2: 76, 3: 68, 4: 80, 5: 87, 6: 83, 7: 76, 8: 92, 9: 76, 10: 70, 11: 88, 12: 93, 13: 64, 14: 97, 15: 61, 16: 83, 17: 76, 18: 74, 19: 69, 20: 78}\n"
     ]
    }
   ],
   "source": [
    "print(d)"
   ]
  },
  {
   "cell_type": "code",
   "execution_count": 31,
   "metadata": {},
   "outputs": [
    {
     "data": {
      "text/plain": [
       "{1: 96, 8: 92, 12: 93, 14: 97}"
      ]
     },
     "execution_count": 31,
     "metadata": {},
     "output_type": "execute_result"
    }
   ],
   "source": [
    "{k:v for k,v in d.items() if v >= 90}"
   ]
  },
  {
   "cell_type": "markdown",
   "metadata": {},
   "source": [
    "**集合**"
   ]
  },
  {
   "cell_type": "code",
   "execution_count": 34,
   "metadata": {},
   "outputs": [
    {
     "name": "stdout",
     "output_type": "stream",
     "text": [
      "{0, 2, 6, 7, 8, 9, -2, -4, -1}\n"
     ]
    }
   ],
   "source": [
    "s = set(data)\n",
    "print(s)"
   ]
  },
  {
   "cell_type": "code",
   "execution_count": 35,
   "metadata": {},
   "outputs": [
    {
     "data": {
      "text/plain": [
       "{0, 6, 9}"
      ]
     },
     "execution_count": 35,
     "metadata": {},
     "output_type": "execute_result"
    }
   ],
   "source": [
    "{x for x in s if x%3 == 0}"
   ]
  },
  {
   "cell_type": "markdown",
   "metadata": {},
   "source": [
    "## 如何为元组中的每个元素命名，提高程序可读性？"
   ]
  },
  {
   "cell_type": "code",
   "execution_count": 37,
   "metadata": {},
   "outputs": [
    {
     "name": "stdout",
     "output_type": "stream",
     "text": [
      "Jim\n"
     ]
    }
   ],
   "source": [
    "NAME ,AGE, SEX, EMAIL = range(4)\n",
    "\n",
    "student = ('Jim', 16, 'male', 'jim8721@gmail.com')\n",
    "\n",
    "print(student[NAME])"
   ]
  },
  {
   "cell_type": "code",
   "execution_count": 42,
   "metadata": {},
   "outputs": [
    {
     "name": "stdout",
     "output_type": "stream",
     "text": [
      "Student(name='Jim', age=16, sex='male', email='jim8721@gmail.com')\n"
     ]
    }
   ],
   "source": [
    "from collections import namedtuple\n",
    "\n",
    "Student = namedtuple('Student', ['name', 'age', 'sex', 'email'])\n",
    "\n",
    "s = Student(*student)\n",
    "\n",
    "print(s)"
   ]
  },
  {
   "cell_type": "code",
   "execution_count": 43,
   "metadata": {},
   "outputs": [
    {
     "name": "stdout",
     "output_type": "stream",
     "text": [
      "Jim\n",
      "16\n",
      "male\n",
      "jim8721@gmail.com\n"
     ]
    }
   ],
   "source": [
    "print(s.name)\n",
    "print(s.age)\n",
    "print(s.sex)\n",
    "print(s.email)"
   ]
  },
  {
   "cell_type": "code",
   "execution_count": 44,
   "metadata": {},
   "outputs": [
    {
     "data": {
      "text/plain": [
       "True"
      ]
     },
     "execution_count": 44,
     "metadata": {},
     "output_type": "execute_result"
    }
   ],
   "source": [
    "isinstance(s, tuple)"
   ]
  },
  {
   "cell_type": "markdown",
   "metadata": {},
   "source": [
    "## 如何统计出序列中元素的出现频度？"
   ]
  },
  {
   "cell_type": "code",
   "execution_count": 47,
   "metadata": {},
   "outputs": [
    {
     "name": "stdout",
     "output_type": "stream",
     "text": [
      "[2, 6, 1, 9, 2, 9, 1, 1, 0, 6, 1, 7, 10, 9, 9, 9, 0, 9, 8, 1]\n"
     ]
    }
   ],
   "source": [
    "from random import randint\n",
    "\n",
    "data = [randint(0, 10) for _ in range(20)]\n",
    "print(data)"
   ]
  },
  {
   "cell_type": "code",
   "execution_count": 53,
   "metadata": {},
   "outputs": [
    {
     "name": "stdout",
     "output_type": "stream",
     "text": [
      "{2: 0, 6: 0, 1: 0, 9: 0, 0: 0, 7: 0, 10: 0, 8: 0} \n",
      "\n",
      "{2: 2, 6: 2, 1: 5, 9: 6, 0: 2, 7: 1, 10: 1, 8: 1}\n"
     ]
    }
   ],
   "source": [
    "c = dict.fromkeys(data, 0)\n",
    "print(c, '\\n')\n",
    "\n",
    "for x in data:\n",
    "    c[x] += 1\n",
    "\n",
    "print(c)"
   ]
  },
  {
   "cell_type": "code",
   "execution_count": 57,
   "metadata": {},
   "outputs": [
    {
     "name": "stdout",
     "output_type": "stream",
     "text": [
      "Counter({9: 6, 1: 5, 2: 2, 6: 2, 0: 2, 7: 1, 10: 1, 8: 1}) \n",
      "\n",
      "[(9, 6), (1, 5), (2, 2)]\n",
      "9\n"
     ]
    }
   ],
   "source": [
    "from collections import Counter\n",
    "\n",
    "c2 = Counter(data)\n",
    "print(c2, '\\n')\n",
    "\n",
    "print(c2.most_common(3))\n",
    "print(c2.most_common(1)[0][0])"
   ]
  },
  {
   "cell_type": "code",
   "execution_count": 84,
   "metadata": {},
   "outputs": [
    {
     "name": "stdout",
     "output_type": "stream",
     "text": [
      "Counter({2: 6, 3: 3, 5: 3, 4: 2, 1: 1, 6: 1}) \n",
      "\n",
      "[(2, 6), (3, 3), (5, 3)]\n",
      "2\n"
     ]
    }
   ],
   "source": [
    "tu = (2,3,2,3,1,5,2,4,5,2,3,2,5,6,2,4)\n",
    "c3 = Counter(tu)\n",
    "print(c3, '\\n')\n",
    "\n",
    "print(c3.most_common(3))\n",
    "print(c3.most_common(1)[0][0])"
   ]
  },
  {
   "cell_type": "code",
   "execution_count": 48,
   "metadata": {},
   "outputs": [
    {
     "name": "stdout",
     "output_type": "stream",
     "text": [
      "{0: 2, 1: 5, 2: 2, 6: 2, 7: 1, 8: 1, 9: 6, 10: 1}\n"
     ]
    }
   ],
   "source": [
    "s = set(data)\n",
    "d = {}\n",
    "for i in s:\n",
    "    c = data.count(i)\n",
    "    d[i] = c\n",
    "    \n",
    "print(d)"
   ]
  },
  {
   "cell_type": "markdown",
   "metadata": {},
   "source": [
    "## 如何根据字典中值的大小，对字典中的项排序"
   ]
  },
  {
   "cell_type": "code",
   "execution_count": 58,
   "metadata": {},
   "outputs": [
    {
     "name": "stdout",
     "output_type": "stream",
     "text": [
      "{'x': 75, 'y': 61, 'z': 88, 'a': 82, 'b': 83, 'c': 89}\n"
     ]
    }
   ],
   "source": [
    "from random import randint\n",
    "d = {x:randint(60,100) for x in 'xyzabc'}\n",
    "print(d)"
   ]
  },
  {
   "cell_type": "code",
   "execution_count": 59,
   "metadata": {},
   "outputs": [
    {
     "data": {
      "text/plain": [
       "['a', 'b', 'c', 'x', 'y', 'z']"
      ]
     },
     "execution_count": 59,
     "metadata": {},
     "output_type": "execute_result"
    }
   ],
   "source": [
    "sorted(d)"
   ]
  },
  {
   "cell_type": "code",
   "execution_count": 60,
   "metadata": {},
   "outputs": [
    {
     "name": "stdout",
     "output_type": "stream",
     "text": [
      "<dict_keyiterator object at 0x0000020115EC22C8>\n",
      "['x', 'y', 'z', 'a', 'b', 'c']\n"
     ]
    }
   ],
   "source": [
    "print(iter(d))\n",
    "print(list(iter(d)))"
   ]
  },
  {
   "cell_type": "code",
   "execution_count": 62,
   "metadata": {},
   "outputs": [
    {
     "name": "stdout",
     "output_type": "stream",
     "text": [
      "True\n",
      "False\n"
     ]
    }
   ],
   "source": [
    "print((97, 'a') > (69, 'b'))\n",
    "print((97, 'a') > (97, 'b'))"
   ]
  },
  {
   "cell_type": "code",
   "execution_count": 63,
   "metadata": {},
   "outputs": [
    {
     "data": {
      "text/plain": [
       "dict_keys(['x', 'y', 'z', 'a', 'b', 'c'])"
      ]
     },
     "execution_count": 63,
     "metadata": {},
     "output_type": "execute_result"
    }
   ],
   "source": [
    "d.keys()"
   ]
  },
  {
   "cell_type": "code",
   "execution_count": 70,
   "metadata": {},
   "outputs": [
    {
     "data": {
      "text/plain": [
       "dict_values([75, 61, 88, 82, 83, 89])"
      ]
     },
     "execution_count": 70,
     "metadata": {},
     "output_type": "execute_result"
    }
   ],
   "source": [
    "d.values()"
   ]
  },
  {
   "cell_type": "code",
   "execution_count": 76,
   "metadata": {},
   "outputs": [
    {
     "name": "stdout",
     "output_type": "stream",
     "text": [
      "<zip object at 0x0000020115EBB6C8>\n"
     ]
    },
    {
     "data": {
      "text/plain": [
       "[(75, 'x'), (61, 'y'), (88, 'z'), (82, 'a'), (83, 'b'), (89, 'c')]"
      ]
     },
     "execution_count": 76,
     "metadata": {},
     "output_type": "execute_result"
    }
   ],
   "source": [
    "z = zip(d.values(), d.keys())\n",
    "print(z)\n",
    "[i for i in z]"
   ]
  },
  {
   "cell_type": "code",
   "execution_count": 78,
   "metadata": {},
   "outputs": [
    {
     "data": {
      "text/plain": [
       "[(61, 'y'), (75, 'x'), (82, 'a'), (83, 'b'), (88, 'z'), (89, 'c')]"
      ]
     },
     "execution_count": 78,
     "metadata": {},
     "output_type": "execute_result"
    }
   ],
   "source": [
    "sorted(zip(d.values(), d.keys()))"
   ]
  },
  {
   "cell_type": "code",
   "execution_count": 79,
   "metadata": {},
   "outputs": [
    {
     "data": {
      "text/plain": [
       "[(89, 'c'), (88, 'z'), (83, 'b'), (82, 'a'), (75, 'x'), (61, 'y')]"
      ]
     },
     "execution_count": 79,
     "metadata": {},
     "output_type": "execute_result"
    }
   ],
   "source": [
    "sorted(zip(d.values(), d.keys()), reverse=True)"
   ]
  },
  {
   "cell_type": "code",
   "execution_count": 80,
   "metadata": {},
   "outputs": [
    {
     "data": {
      "text/plain": [
       "dict_items([('x', 75), ('y', 61), ('z', 88), ('a', 82), ('b', 83), ('c', 89)])"
      ]
     },
     "execution_count": 80,
     "metadata": {},
     "output_type": "execute_result"
    }
   ],
   "source": [
    "d.items()"
   ]
  },
  {
   "cell_type": "code",
   "execution_count": 81,
   "metadata": {},
   "outputs": [
    {
     "data": {
      "text/plain": [
       "[('y', 61), ('x', 75), ('a', 82), ('b', 83), ('z', 88), ('c', 89)]"
      ]
     },
     "execution_count": 81,
     "metadata": {},
     "output_type": "execute_result"
    }
   ],
   "source": [
    "sorted(d.items(), key=lambda x: x[1])"
   ]
  },
  {
   "cell_type": "code",
   "execution_count": 82,
   "metadata": {},
   "outputs": [
    {
     "data": {
      "text/plain": [
       "[('c', 89), ('z', 88), ('b', 83), ('a', 82), ('x', 75), ('y', 61)]"
      ]
     },
     "execution_count": 82,
     "metadata": {},
     "output_type": "execute_result"
    }
   ],
   "source": [
    "sorted(d.items(), key=lambda x: x[1], reverse=True)"
   ]
  },
  {
   "cell_type": "markdown",
   "metadata": {},
   "source": [
    "## 如果快速找到多个字典中的公共键(key)？"
   ]
  },
  {
   "cell_type": "code",
   "execution_count": 85,
   "metadata": {},
   "outputs": [
    {
     "data": {
      "text/plain": [
       "['g', 'd', 'b']"
      ]
     },
     "execution_count": 85,
     "metadata": {},
     "output_type": "execute_result"
    }
   ],
   "source": [
    "from random import randint, sample\n",
    "\n",
    "sample('abcdefg', 3)"
   ]
  },
  {
   "cell_type": "code",
   "execution_count": 87,
   "metadata": {},
   "outputs": [
    {
     "data": {
      "text/plain": [
       "['e', 'b', 'a', 'c', 'f']"
      ]
     },
     "execution_count": 87,
     "metadata": {},
     "output_type": "execute_result"
    }
   ],
   "source": [
    "sample('abcdefg', randint(3, 6))"
   ]
  },
  {
   "cell_type": "code",
   "execution_count": 92,
   "metadata": {},
   "outputs": [],
   "source": [
    "s1 = {x: randint(1,4) for x in sample('abcdefg', randint(3, 6))}\n",
    "s2 = {x: randint(1,4) for x in sample('abcdefg', randint(3, 6))}\n",
    "s3 = {x: randint(1,4) for x in sample('abcdefg', randint(3, 6))}"
   ]
  },
  {
   "cell_type": "code",
   "execution_count": 93,
   "metadata": {},
   "outputs": [
    {
     "name": "stdout",
     "output_type": "stream",
     "text": [
      "{'g': 4, 'a': 2, 'e': 4, 'c': 1, 'd': 4, 'f': 1} \n",
      " {'d': 4, 'e': 1, 'g': 2, 'b': 4} \n",
      " {'g': 3, 'd': 2, 'b': 2, 'e': 3, 'c': 4, 'f': 4}\n"
     ]
    }
   ],
   "source": [
    "print(s1, '\\n', s2, '\\n', s3)"
   ]
  },
  {
   "cell_type": "code",
   "execution_count": 97,
   "metadata": {},
   "outputs": [
    {
     "data": {
      "text/plain": [
       "{'d', 'e', 'g'}"
      ]
     },
     "execution_count": 97,
     "metadata": {},
     "output_type": "execute_result"
    }
   ],
   "source": [
    "s1.keys() & s2.keys() & s3.keys()"
   ]
  },
  {
   "cell_type": "code",
   "execution_count": 99,
   "metadata": {},
   "outputs": [
    {
     "data": {
      "text/plain": [
       "<map at 0x20115ec0240>"
      ]
     },
     "execution_count": 99,
     "metadata": {},
     "output_type": "execute_result"
    }
   ],
   "source": [
    "map(dict.keys, [s1, s2, s3])"
   ]
  },
  {
   "cell_type": "code",
   "execution_count": 101,
   "metadata": {},
   "outputs": [
    {
     "data": {
      "text/plain": [
       "{'d', 'e', 'g'}"
      ]
     },
     "execution_count": 101,
     "metadata": {},
     "output_type": "execute_result"
    }
   ],
   "source": [
    "from functools import reduce\n",
    "reduce(lambda a, b: a & b, map(dict.keys, [s1, s2, s3]))"
   ]
  },
  {
   "cell_type": "markdown",
   "metadata": {},
   "source": [
    "## 如何让字典保持有序？"
   ]
  },
  {
   "cell_type": "code",
   "execution_count": 103,
   "metadata": {},
   "outputs": [
    {
     "name": "stdout",
     "output_type": "stream",
     "text": [
      "Jim\n",
      "Leo\n",
      "Bob\n"
     ]
    }
   ],
   "source": [
    "from collections import OrderedDict\n",
    "d = OrderedDict()\n",
    "d['Jim'] = (1, 35)\n",
    "d['Leo'] = (2, 37)\n",
    "d['Bob'] = (3, 40)\n",
    "for k in d:\n",
    "    print(k)"
   ]
  },
  {
   "cell_type": "code",
   "execution_count": 108,
   "metadata": {},
   "outputs": [
    {
     "name": "stdout",
     "output_type": "stream",
     "text": [
      "\n",
      "1 C 2.554182529449463\n",
      "\n",
      "2 E 2.7892580032348633\n",
      "\n",
      "3 A 2.9614369869232178\n",
      "\n",
      "4 D 3.409101724624634\n",
      "\n",
      "5 B 4.213754653930664\n",
      "\n",
      "6 G 4.857817888259888\n",
      "\n",
      "7 F 5.205532550811768\n",
      "\n",
      "8 H 5.747766733169556\n",
      "\n",
      " ------------------------ \n",
      "\n",
      "C (1, 2.554182529449463)\n",
      "E (2, 2.7892580032348633)\n",
      "A (3, 2.9614369869232178)\n",
      "D (4, 3.409101724624634)\n",
      "B (5, 4.213754653930664)\n",
      "G (6, 4.857817888259888)\n",
      "F (7, 5.205532550811768)\n",
      "H (8, 5.747766733169556)\n"
     ]
    }
   ],
   "source": [
    "from time import time\n",
    "from random import randint\n",
    "from collections import OrderedDict\n",
    "\n",
    "d = OrderedDict()\n",
    "players = list('ABCDEFGH')\n",
    "start = time()\n",
    "\n",
    "for i in range(8):\n",
    "    input()\n",
    "    p = players.pop(randint(0, 7 - i))\n",
    "    end = time()\n",
    "    print(i + 1, p, end-start)\n",
    "    d[p] = (i+1, end - start)\n",
    "\n",
    "print('\\n', '-' * 24, '\\n')\n",
    "for k in d:\n",
    "    print(k, d[k])"
   ]
  },
  {
   "cell_type": "markdown",
   "metadata": {},
   "source": [
    "## 如何实现用户的历史纪录功能(最多n条)？"
   ]
  },
  {
   "cell_type": "code",
   "execution_count": 112,
   "metadata": {},
   "outputs": [
    {
     "name": "stdout",
     "output_type": "stream",
     "text": [
      "please input a number:50\n",
      "50 is greater-than N\n",
      "please input a number:25\n",
      "25 is less-than N\n",
      "please input a number:30\n",
      "30 is less-than N\n",
      "please input a number:40\n",
      "40 is less-than N\n",
      "please input a number:h?\n",
      "[50, 25, 30, 40]\n",
      "please input a number:45\n",
      "45 is less-than N\n",
      "please input a number:h?\n",
      "[50, 25, 30, 40, 45]\n",
      "please input a number:48\n",
      "48 is greater-than N\n",
      "please input a number:h?\n",
      "[25, 30, 40, 45, 48]\n",
      "please input a number:47\n",
      "47 is greater-than N\n",
      "please input a number:h?\n",
      "[30, 40, 45, 48, 47]\n",
      "please input a number:46\n",
      "right\n"
     ]
    }
   ],
   "source": [
    "from random import randint\n",
    "from collections import deque\n",
    "\n",
    "history = deque([], 5)\n",
    "N = randint(0, 100)\n",
    "\n",
    "def guess(k):\n",
    "    if k == N:\n",
    "        print('right')\n",
    "        return True\n",
    "    if k < N:\n",
    "        print(f'{k} is less-than N')\n",
    "    else:\n",
    "        print(f'{k} is greater-than N')\n",
    "    return False\n",
    "\n",
    "while True:\n",
    "    line = input(\"please input a number:\")\n",
    "    if line.isdigit():\n",
    "        k = int(line)\n",
    "        history.append(k)\n",
    "        if guess(k):\n",
    "            break\n",
    "    elif line == 'history' or line == 'h?':\n",
    "        print(list(history))"
   ]
  },
  {
   "cell_type": "code",
   "execution_count": null,
   "metadata": {},
   "outputs": [],
   "source": []
  }
 ],
 "metadata": {
  "kernelspec": {
   "display_name": "Python 3",
   "language": "python",
   "name": "python3"
  },
  "language_info": {
   "codemirror_mode": {
    "name": "ipython",
    "version": 3
   },
   "file_extension": ".py",
   "mimetype": "text/x-python",
   "name": "python",
   "nbconvert_exporter": "python",
   "pygments_lexer": "ipython3",
   "version": "3.6.6"
  }
 },
 "nbformat": 4,
 "nbformat_minor": 2
}
