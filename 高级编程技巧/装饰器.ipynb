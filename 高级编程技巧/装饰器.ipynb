{
 "cells": [
  {
   "cell_type": "markdown",
   "metadata": {},
   "source": [
    "斐波那契数列( Fibonacci Sequence)，又称黄金分割数列，  \n",
    "指的是这样一个数列：1,1,2,3,5,8,13,21, ... ,  \n",
    "这个数列从第三项开始，每一项都等于前两项之和。求数列第n项。"
   ]
  },
  {
   "cell_type": "code",
   "execution_count": 10,
   "metadata": {},
   "outputs": [],
   "source": [
    "def fibonacci(n):\n",
    "    if n <= 1:\n",
    "        return 1\n",
    "    return fibonacci(n-1) + fibonacci(n-2)"
   ]
  },
  {
   "cell_type": "code",
   "execution_count": 5,
   "metadata": {},
   "outputs": [],
   "source": [
    "def fibonacci(n, cache=None):\n",
    "    if cache is None:\n",
    "        cache = {}\n",
    "    \n",
    "    if n in cache:\n",
    "        return cache[n]\n",
    "    \n",
    "    if n <= 1:\n",
    "        return 1\n",
    "    cache[n] = fibonacci(n-1, cache) + fibonacci(n-2, cache)\n",
    "    return cache[n]"
   ]
  },
  {
   "cell_type": "code",
   "execution_count": 6,
   "metadata": {},
   "outputs": [
    {
     "name": "stdout",
     "output_type": "stream",
     "text": [
      "20365011074\n"
     ]
    }
   ],
   "source": [
    "print(fibonacci(50))"
   ]
  },
  {
   "cell_type": "code",
   "execution_count": 7,
   "metadata": {},
   "outputs": [],
   "source": [
    "def memo(func):\n",
    "    cache = {}\n",
    "    def wrap(*args):\n",
    "        if args not in cache:\n",
    "            cache[args] = func(*args)\n",
    "        return cache[args]\n",
    "    return wrap"
   ]
  },
  {
   "cell_type": "code",
   "execution_count": 14,
   "metadata": {},
   "outputs": [
    {
     "name": "stdout",
     "output_type": "stream",
     "text": [
      "20365011074\n"
     ]
    }
   ],
   "source": [
    "@memo\n",
    "def fibonacci(n):\n",
    "    if n <= 1:\n",
    "        return 1\n",
    "    return fibonacci(n-1) + fibonacci(n-2)\n",
    "\n",
    "print(fibonacci(50))"
   ]
  },
  {
   "cell_type": "markdown",
   "metadata": {},
   "source": [
    "一个共有十个台阶的楼梯，从下面走到上面，一次只能迈1-3个台阶，  \n",
    "并且不能后退，走完这个楼梯共有多少种方法。"
   ]
  },
  {
   "cell_type": "code",
   "execution_count": 3,
   "metadata": {},
   "outputs": [],
   "source": [
    "def climb(n, steps):\n",
    "    count = 0\n",
    "    if n == 0:\n",
    "        count = 1\n",
    "    elif n > 0:\n",
    "        for step in steps:\n",
    "            count += climb(n-step, steps)\n",
    "    return count"
   ]
  },
  {
   "cell_type": "code",
   "execution_count": 13,
   "metadata": {},
   "outputs": [
    {
     "name": "stdout",
     "output_type": "stream",
     "text": [
      "274\n"
     ]
    }
   ],
   "source": [
    "@memo\n",
    "def climb(n, steps):\n",
    "    count = 0\n",
    "    if n == 0:\n",
    "        count = 1\n",
    "    elif n > 0:\n",
    "        for step in steps:\n",
    "            count += climb(n-step, steps)\n",
    "    return count\n",
    "\n",
    "print(climb(10, (1,2,3)))"
   ]
  },
  {
   "cell_type": "markdown",
   "metadata": {},
   "source": [
    "## 如何为被装饰的函数保存元数据?"
   ]
  },
  {
   "cell_type": "code",
   "execution_count": 15,
   "metadata": {},
   "outputs": [],
   "source": [
    "def f(a):\n",
    "    ''' f function '''\n",
    "    return a * 2"
   ]
  },
  {
   "cell_type": "code",
   "execution_count": 16,
   "metadata": {},
   "outputs": [
    {
     "data": {
      "text/plain": [
       "'f'"
      ]
     },
     "execution_count": 16,
     "metadata": {},
     "output_type": "execute_result"
    }
   ],
   "source": [
    "f.__name__"
   ]
  },
  {
   "cell_type": "code",
   "execution_count": 17,
   "metadata": {},
   "outputs": [
    {
     "data": {
      "text/plain": [
       "'f'"
      ]
     },
     "execution_count": 17,
     "metadata": {},
     "output_type": "execute_result"
    }
   ],
   "source": [
    "g = f\n",
    "g.__name__"
   ]
  },
  {
   "cell_type": "code",
   "execution_count": 18,
   "metadata": {},
   "outputs": [
    {
     "data": {
      "text/plain": [
       "' f function '"
      ]
     },
     "execution_count": 18,
     "metadata": {},
     "output_type": "execute_result"
    }
   ],
   "source": [
    "f.__doc__"
   ]
  },
  {
   "cell_type": "code",
   "execution_count": 19,
   "metadata": {},
   "outputs": [
    {
     "data": {
      "text/plain": [
       "'__main__'"
      ]
     },
     "execution_count": 19,
     "metadata": {},
     "output_type": "execute_result"
    }
   ],
   "source": [
    "f.__module__"
   ]
  },
  {
   "cell_type": "code",
   "execution_count": 20,
   "metadata": {},
   "outputs": [],
   "source": [
    "f.__defaults__"
   ]
  },
  {
   "cell_type": "code",
   "execution_count": 21,
   "metadata": {},
   "outputs": [],
   "source": [
    "def f(a, b=1, c=[]):\n",
    "    print(a, b, c)"
   ]
  },
  {
   "cell_type": "code",
   "execution_count": 22,
   "metadata": {},
   "outputs": [
    {
     "data": {
      "text/plain": [
       "(1, [])"
      ]
     },
     "execution_count": 22,
     "metadata": {},
     "output_type": "execute_result"
    }
   ],
   "source": [
    "f.__defaults__  # 保存函数的默认参数"
   ]
  },
  {
   "cell_type": "code",
   "execution_count": 23,
   "metadata": {},
   "outputs": [
    {
     "name": "stdout",
     "output_type": "stream",
     "text": [
      "100 1 ['abc']\n"
     ]
    }
   ],
   "source": [
    "f.__defaults__[1].append('abc')\n",
    "f(100)\n",
    "# 在默认参数中尽量不要使用可变对象"
   ]
  },
  {
   "cell_type": "code",
   "execution_count": 24,
   "metadata": {},
   "outputs": [],
   "source": [
    "f.__closure__"
   ]
  },
  {
   "cell_type": "code",
   "execution_count": 25,
   "metadata": {},
   "outputs": [],
   "source": [
    "def f():\n",
    "    a = 2\n",
    "    return lambda k: a ** k"
   ]
  },
  {
   "cell_type": "code",
   "execution_count": 26,
   "metadata": {},
   "outputs": [],
   "source": [
    "g = f()"
   ]
  },
  {
   "cell_type": "code",
   "execution_count": 27,
   "metadata": {},
   "outputs": [
    {
     "data": {
      "text/plain": [
       "(<cell at 0x000001616A8B74C8: int object at 0x00000000636C6C30>,)"
      ]
     },
     "execution_count": 27,
     "metadata": {},
     "output_type": "execute_result"
    }
   ],
   "source": [
    "g.__closure__"
   ]
  },
  {
   "cell_type": "code",
   "execution_count": 28,
   "metadata": {},
   "outputs": [],
   "source": [
    "c = g.__closure__[0]"
   ]
  },
  {
   "cell_type": "code",
   "execution_count": 30,
   "metadata": {},
   "outputs": [
    {
     "data": {
      "text/plain": [
       "2"
      ]
     },
     "execution_count": 30,
     "metadata": {},
     "output_type": "execute_result"
    }
   ],
   "source": [
    "c.cell_contents"
   ]
  },
  {
   "cell_type": "code",
   "execution_count": 31,
   "metadata": {},
   "outputs": [],
   "source": [
    "def mydecorator(func):\n",
    "    def wrapper(*args, **kargs):\n",
    "        '''wrapper function'''\n",
    "        print('In wrapper')\n",
    "        func(*args, **kargs)\n",
    "    return wrapper"
   ]
  },
  {
   "cell_type": "code",
   "execution_count": 32,
   "metadata": {},
   "outputs": [],
   "source": [
    "@mydecorator\n",
    "def example():\n",
    "    '''example function'''\n",
    "    print('In example')"
   ]
  },
  {
   "cell_type": "code",
   "execution_count": 33,
   "metadata": {},
   "outputs": [
    {
     "name": "stdout",
     "output_type": "stream",
     "text": [
      "wrapper\n"
     ]
    }
   ],
   "source": [
    "print(example.__name__)"
   ]
  },
  {
   "cell_type": "code",
   "execution_count": 34,
   "metadata": {},
   "outputs": [
    {
     "name": "stdout",
     "output_type": "stream",
     "text": [
      "wrapper function\n"
     ]
    }
   ],
   "source": [
    "print(example.__doc__)"
   ]
  },
  {
   "cell_type": "code",
   "execution_count": 38,
   "metadata": {},
   "outputs": [],
   "source": [
    "def mydecorator_new(func):\n",
    "    def wrapper(*args, **kargs):\n",
    "        '''wrapper function'''\n",
    "        print('In wrapper')\n",
    "        func(*args, **kargs)\n",
    "    wrapper.__name__ = func.__name__\n",
    "    return wrapper"
   ]
  },
  {
   "cell_type": "code",
   "execution_count": 39,
   "metadata": {},
   "outputs": [
    {
     "name": "stdout",
     "output_type": "stream",
     "text": [
      "example\n",
      "wrapper function\n"
     ]
    }
   ],
   "source": [
    "@mydecorator_new\n",
    "def example():\n",
    "    '''example function'''\n",
    "    print('In example')\n",
    "print(example.__name__)\n",
    "print(example.__doc__)"
   ]
  },
  {
   "cell_type": "markdown",
   "metadata": {},
   "source": [
    "上面的方式不优雅\n",
    "\n",
    "使用标准库**functools**中的装饰器**wraps**装饰内部包裹函数，  \n",
    "可以指定将原函数的某些属性，更新到包裹函数上面。"
   ]
  },
  {
   "cell_type": "code",
   "execution_count": 50,
   "metadata": {},
   "outputs": [
    {
     "name": "stdout",
     "output_type": "stream",
     "text": [
      "example\n",
      "example function\n"
     ]
    }
   ],
   "source": [
    "from functools import *\n",
    "\n",
    "def mydecorator_tools(func):\n",
    "    def wrapper(*args, **kargs):\n",
    "        '''wrapper function'''\n",
    "        print('In wrapper')\n",
    "        func(*args, **kargs)\n",
    "#     update_wrapper(wrapper, func, ('__name__', '__doc__'), ('__dict__',))\n",
    "#     update_wrapper(wrapper, func, WRAPPER_ASSIGNMENTS, WRAPPER_UPDATES)\n",
    "    update_wrapper(wrapper, func)\n",
    "    return wrapper\n",
    "\n",
    "@mydecorator_tools\n",
    "def example():\n",
    "    '''example function'''\n",
    "    print('In example')\n",
    "print(example.__name__)\n",
    "print(example.__doc__)"
   ]
  },
  {
   "cell_type": "code",
   "execution_count": 46,
   "metadata": {},
   "outputs": [
    {
     "name": "stdout",
     "output_type": "stream",
     "text": [
      "('__module__', '__name__', '__qualname__', '__doc__', '__annotations__')\n",
      "('__dict__',)\n"
     ]
    }
   ],
   "source": [
    "print(WRAPPER_ASSIGNMENTS)\n",
    "print(WRAPPER_UPDATES)"
   ]
  },
  {
   "cell_type": "code",
   "execution_count": 49,
   "metadata": {},
   "outputs": [
    {
     "name": "stdout",
     "output_type": "stream",
     "text": [
      "example\n",
      "example function\n"
     ]
    }
   ],
   "source": [
    "def mydecorator_wraps(func):\n",
    "    @wraps(func)\n",
    "    def wrapper(*args, **kargs):\n",
    "        '''wrapper function'''\n",
    "        print('In wrapper')\n",
    "        func(*args, **kargs)\n",
    "    return wrapper\n",
    "\n",
    "@mydecorator_wraps\n",
    "def example():\n",
    "    '''example function'''\n",
    "    print('In example')\n",
    "print(example.__name__)\n",
    "print(example.__doc__)"
   ]
  },
  {
   "cell_type": "markdown",
   "metadata": {},
   "source": [
    "## 如何定义带参数的装饰器\n",
    "\n",
    "带参数的装饰器，也就是根据参数定制化一个装饰器，可以看成生产装饰器的工厂，  \n",
    "每次调用`typeassert`，返回一个特定的装饰器，然后用它去修饰其它函数。"
   ]
  },
  {
   "cell_type": "code",
   "execution_count": 52,
   "metadata": {
    "scrolled": true
   },
   "outputs": [
    {
     "data": {
      "text/plain": [
       "mappingproxy({'a': <Parameter \"a\">,\n",
       "              'b': <Parameter \"b\">,\n",
       "              'c': <Parameter \"c=1\">})"
      ]
     },
     "execution_count": 52,
     "metadata": {},
     "output_type": "execute_result"
    }
   ],
   "source": [
    "from inspect import signature\n",
    "\n",
    "def f(a, b, c=1): pass\n",
    "sig = signature(f)\n",
    "sig.parameters"
   ]
  },
  {
   "cell_type": "code",
   "execution_count": 53,
   "metadata": {},
   "outputs": [
    {
     "data": {
      "text/plain": [
       "'a'"
      ]
     },
     "execution_count": 53,
     "metadata": {},
     "output_type": "execute_result"
    }
   ],
   "source": [
    "a = sig.parameters['a']\n",
    "a.name"
   ]
  },
  {
   "cell_type": "code",
   "execution_count": 54,
   "metadata": {},
   "outputs": [
    {
     "data": {
      "text/plain": [
       "<_ParameterKind.POSITIONAL_OR_KEYWORD: 1>"
      ]
     },
     "execution_count": 54,
     "metadata": {},
     "output_type": "execute_result"
    }
   ],
   "source": [
    "a.kind"
   ]
  },
  {
   "cell_type": "code",
   "execution_count": 56,
   "metadata": {},
   "outputs": [
    {
     "data": {
      "text/plain": [
       "inspect._empty"
      ]
     },
     "execution_count": 56,
     "metadata": {},
     "output_type": "execute_result"
    }
   ],
   "source": [
    "a.default"
   ]
  },
  {
   "cell_type": "code",
   "execution_count": 57,
   "metadata": {},
   "outputs": [],
   "source": [
    "a = sig.parameters['c']"
   ]
  },
  {
   "cell_type": "code",
   "execution_count": 58,
   "metadata": {},
   "outputs": [
    {
     "data": {
      "text/plain": [
       "1"
      ]
     },
     "execution_count": 58,
     "metadata": {},
     "output_type": "execute_result"
    }
   ],
   "source": [
    "a.default"
   ]
  },
  {
   "cell_type": "code",
   "execution_count": 59,
   "metadata": {},
   "outputs": [],
   "source": [
    "bargs = sig.bind(str, int, int)"
   ]
  },
  {
   "cell_type": "code",
   "execution_count": 60,
   "metadata": {},
   "outputs": [
    {
     "data": {
      "text/plain": [
       "OrderedDict([('a', str), ('b', int), ('c', int)])"
      ]
     },
     "execution_count": 60,
     "metadata": {},
     "output_type": "execute_result"
    }
   ],
   "source": [
    "bargs.arguments"
   ]
  },
  {
   "cell_type": "code",
   "execution_count": 61,
   "metadata": {},
   "outputs": [
    {
     "data": {
      "text/plain": [
       "str"
      ]
     },
     "execution_count": 61,
     "metadata": {},
     "output_type": "execute_result"
    }
   ],
   "source": [
    "bargs.arguments['a']"
   ]
  },
  {
   "cell_type": "code",
   "execution_count": 62,
   "metadata": {},
   "outputs": [
    {
     "data": {
      "text/plain": [
       "int"
      ]
     },
     "execution_count": 62,
     "metadata": {},
     "output_type": "execute_result"
    }
   ],
   "source": [
    "bargs.arguments['b']"
   ]
  },
  {
   "cell_type": "code",
   "execution_count": 63,
   "metadata": {},
   "outputs": [
    {
     "data": {
      "text/plain": [
       "<BoundArguments (a=<class 'str'>)>"
      ]
     },
     "execution_count": 63,
     "metadata": {},
     "output_type": "execute_result"
    }
   ],
   "source": [
    "sig.bind_partial(str)"
   ]
  },
  {
   "cell_type": "code",
   "execution_count": 64,
   "metadata": {},
   "outputs": [
    {
     "name": "stdout",
     "output_type": "stream",
     "text": [
      "1 abc [1, 2, 3]\n"
     ]
    },
    {
     "ename": "TypeError",
     "evalue": "\"b\" must be \"<class 'str'>\"",
     "output_type": "error",
     "traceback": [
      "\u001b[1;31m---------------------------------------------------------------------------\u001b[0m",
      "\u001b[1;31mTypeError\u001b[0m                                 Traceback (most recent call last)",
      "\u001b[1;32m<ipython-input-64-0ce46b23e89b>\u001b[0m in \u001b[0;36m<module>\u001b[1;34m\u001b[0m\n\u001b[0;32m     22\u001b[0m \u001b[1;33m\u001b[0m\u001b[0m\n\u001b[0;32m     23\u001b[0m \u001b[0mf\u001b[0m\u001b[1;33m(\u001b[0m\u001b[1;36m1\u001b[0m\u001b[1;33m,\u001b[0m \u001b[1;34m'abc'\u001b[0m\u001b[1;33m,\u001b[0m \u001b[1;33m[\u001b[0m\u001b[1;36m1\u001b[0m\u001b[1;33m,\u001b[0m\u001b[1;36m2\u001b[0m\u001b[1;33m,\u001b[0m\u001b[1;36m3\u001b[0m\u001b[1;33m]\u001b[0m\u001b[1;33m)\u001b[0m\u001b[1;33m\u001b[0m\u001b[0m\n\u001b[1;32m---> 24\u001b[1;33m \u001b[0mf\u001b[0m\u001b[1;33m(\u001b[0m\u001b[1;36m1\u001b[0m\u001b[1;33m,\u001b[0m \u001b[1;36m2\u001b[0m\u001b[1;33m,\u001b[0m \u001b[1;33m[\u001b[0m\u001b[1;36m1\u001b[0m\u001b[1;33m,\u001b[0m\u001b[1;36m2\u001b[0m\u001b[1;33m,\u001b[0m\u001b[1;36m3\u001b[0m\u001b[1;33m]\u001b[0m\u001b[1;33m)\u001b[0m\u001b[1;33m\u001b[0m\u001b[0m\n\u001b[0m",
      "\u001b[1;32m<ipython-input-64-0ce46b23e89b>\u001b[0m in \u001b[0;36mwrapper\u001b[1;34m(*args, **kargs)\u001b[0m\n\u001b[0;32m     12\u001b[0m                 \u001b[1;32mif\u001b[0m \u001b[0mname\u001b[0m \u001b[1;32min\u001b[0m \u001b[0mbtypes\u001b[0m\u001b[1;33m:\u001b[0m\u001b[1;33m\u001b[0m\u001b[0m\n\u001b[0;32m     13\u001b[0m                     \u001b[1;32mif\u001b[0m \u001b[1;32mnot\u001b[0m \u001b[0misinstance\u001b[0m\u001b[1;33m(\u001b[0m\u001b[0mobj\u001b[0m\u001b[1;33m,\u001b[0m \u001b[0mbtypes\u001b[0m\u001b[1;33m[\u001b[0m\u001b[0mname\u001b[0m\u001b[1;33m]\u001b[0m\u001b[1;33m)\u001b[0m\u001b[1;33m:\u001b[0m\u001b[1;33m\u001b[0m\u001b[0m\n\u001b[1;32m---> 14\u001b[1;33m                         \u001b[1;32mraise\u001b[0m \u001b[0mTypeError\u001b[0m\u001b[1;33m(\u001b[0m\u001b[1;34mf'\"{name}\" must be \"{btypes[name]}\"'\u001b[0m\u001b[1;33m)\u001b[0m\u001b[1;33m\u001b[0m\u001b[0m\n\u001b[0m\u001b[0;32m     15\u001b[0m             \u001b[1;32mreturn\u001b[0m \u001b[0mfunc\u001b[0m\u001b[1;33m(\u001b[0m\u001b[1;33m*\u001b[0m\u001b[0margs\u001b[0m\u001b[1;33m,\u001b[0m \u001b[1;33m**\u001b[0m\u001b[0mkargs\u001b[0m\u001b[1;33m)\u001b[0m\u001b[1;33m\u001b[0m\u001b[0m\n\u001b[0;32m     16\u001b[0m         \u001b[1;32mreturn\u001b[0m \u001b[0mwrapper\u001b[0m\u001b[1;33m\u001b[0m\u001b[0m\n",
      "\u001b[1;31mTypeError\u001b[0m: \"b\" must be \"<class 'str'>\""
     ]
    }
   ],
   "source": [
    "from inspect import signature\n",
    "\n",
    "def typeassert(*ty_args, **ty_kargs):\n",
    "    def decorator(func):\n",
    "        # func -> a,b\n",
    "        # d = {'a':int, 'b':str}\n",
    "        sig = signature(func)\n",
    "        btypes = sig.bind_partial(*ty_args, **ty_kargs).arguments\n",
    "        def wrapper(*args, **kargs):\n",
    "            # arg in d, instance(arg, d[arg])\n",
    "            for name, obj in sig.bind(*args, **kargs).arguments.items():\n",
    "                if name in btypes:\n",
    "                    if not isinstance(obj, btypes[name]):\n",
    "                        raise TypeError(f'\"{name}\" must be \"{btypes[name]}\"')\n",
    "            return func(*args, **kargs)\n",
    "        return wrapper\n",
    "    return decorator\n",
    "\n",
    "@typeassert(int, str, list)\n",
    "def f(a, b, c):\n",
    "    print(a, b, c)\n",
    "    \n",
    "f(1, 'abc', [1,2,3])\n",
    "f(1, 2, [1,2,3])"
   ]
  },
  {
   "cell_type": "markdown",
   "metadata": {},
   "source": [
    "## 如何实现属性可修改的函数装饰器\n",
    "\n",
    "为分析程序内哪些函数执行时间开销较大，我们定义一个带timeout参数的函数装饰器。装饰功能如下：\n",
    "\n",
    "1. 统计被装饰函数单词调用运行时间.\n",
    "2. 时间大于参数timeout的，将此次函数调用记录到log日志中。\n",
    "3. 运行时可修改timeout的值"
   ]
  },
  {
   "cell_type": "code",
   "execution_count": 68,
   "metadata": {
    "scrolled": false
   },
   "outputs": [
    {
     "name": "stdout",
     "output_type": "stream",
     "text": [
      "In test\n",
      "In test\n",
      "In test\n",
      "In test\n",
      "In test\n",
      "In test\n"
     ]
    },
    {
     "name": "stderr",
     "output_type": "stream",
     "text": [
      "C:\\Anaconda\\lib\\site-packages\\ipykernel_launcher.py:13: DeprecationWarning: The 'warn' function is deprecated, use 'warning' instead\n",
      "  del sys.path[0]\n",
      "WARNING:root:test:2.5005686283111572 > 1.5\n"
     ]
    },
    {
     "name": "stdout",
     "output_type": "stream",
     "text": [
      "In test\n",
      "In test\n",
      "In test\n",
      "In test\n",
      "In test\n",
      "In test\n"
     ]
    },
    {
     "name": "stderr",
     "output_type": "stream",
     "text": [
      "WARNING:root:test:1.5016965866088867 > 1.5\n"
     ]
    },
    {
     "name": "stdout",
     "output_type": "stream",
     "text": [
      "In test\n",
      "In test\n",
      "In test\n"
     ]
    },
    {
     "name": "stderr",
     "output_type": "stream",
     "text": [
      "WARNING:root:test:1.5008385181427002 > 1.5\n"
     ]
    },
    {
     "name": "stdout",
     "output_type": "stream",
     "text": [
      "In test\n",
      "In test\n",
      "In test\n",
      "In test\n",
      "In test\n",
      "In test\n",
      "In test\n",
      "In test\n"
     ]
    },
    {
     "name": "stderr",
     "output_type": "stream",
     "text": [
      "WARNING:root:test:2.0013513565063477 > 1.5\n"
     ]
    },
    {
     "name": "stdout",
     "output_type": "stream",
     "text": [
      "In test\n",
      "In test\n",
      "In test\n",
      "In test\n"
     ]
    },
    {
     "name": "stderr",
     "output_type": "stream",
     "text": [
      "WARNING:root:test:2.000215530395508 > 1.5\n"
     ]
    },
    {
     "name": "stdout",
     "output_type": "stream",
     "text": [
      "In test\n",
      "In test\n",
      "In test\n"
     ]
    }
   ],
   "source": [
    "from functools import wraps\n",
    "import time, logging\n",
    "from random import randint\n",
    "\n",
    "def warn(timeout):\n",
    "    def decorator(func):\n",
    "        def wrapper(*args, **kargs):\n",
    "            start = time.time()\n",
    "            res = func(*args, **kargs)\n",
    "            used = time.time() - start\n",
    "            if used > timeout:\n",
    "                msg = f'{func.__name__}:{used} > {timeout}'\n",
    "                logging.warn(msg)\n",
    "            return res\n",
    "        return wrapper\n",
    "    return decorator\n",
    "\n",
    "@warn(1.5)\n",
    "def test():\n",
    "    print('In test')\n",
    "    while randint(0, 1):\n",
    "        time.sleep(0.5)\n",
    "\n",
    "for _ in range(30):\n",
    "    test()"
   ]
  },
  {
   "cell_type": "code",
   "execution_count": 69,
   "metadata": {},
   "outputs": [
    {
     "name": "stdout",
     "output_type": "stream",
     "text": [
      "In test\n",
      "In test\n",
      "In test\n",
      "In test\n",
      "In test\n",
      "In test\n",
      "In test\n",
      "In test\n",
      "In test\n",
      "In test\n",
      "In test\n",
      "In test\n",
      "In test\n",
      "In test\n",
      "In test\n",
      "In test\n",
      "In test\n",
      "In test\n",
      "In test\n",
      "In test\n",
      "In test\n"
     ]
    },
    {
     "name": "stderr",
     "output_type": "stream",
     "text": [
      "C:\\Anaconda\\lib\\site-packages\\ipykernel_launcher.py:13: DeprecationWarning: The 'warn' function is deprecated, use 'warning' instead\n",
      "  del sys.path[0]\n",
      "WARNING:root:test:1.5010740756988525 > 1.5\n"
     ]
    },
    {
     "name": "stdout",
     "output_type": "stream",
     "text": [
      "In test\n",
      "In test\n",
      "In test\n"
     ]
    },
    {
     "name": "stderr",
     "output_type": "stream",
     "text": [
      "WARNING:root:test:1.500519037246704 > 1.5\n"
     ]
    },
    {
     "name": "stdout",
     "output_type": "stream",
     "text": [
      "In test\n",
      "In test\n",
      "In test\n",
      "In test\n",
      "In test\n",
      "In test\n",
      "In test\n",
      "In test\n",
      "In test\n",
      "In test\n",
      "In test\n",
      "In test\n"
     ]
    },
    {
     "name": "stderr",
     "output_type": "stream",
     "text": [
      "WARNING:root:test:2.0006144046783447 > 1\n"
     ]
    },
    {
     "name": "stdout",
     "output_type": "stream",
     "text": [
      "In test\n"
     ]
    },
    {
     "name": "stderr",
     "output_type": "stream",
     "text": [
      "WARNING:root:test:1.5010440349578857 > 1\n"
     ]
    },
    {
     "name": "stdout",
     "output_type": "stream",
     "text": [
      "In test\n",
      "In test\n",
      "In test\n",
      "In test\n"
     ]
    },
    {
     "name": "stderr",
     "output_type": "stream",
     "text": [
      "WARNING:root:test:1.0005707740783691 > 1\n"
     ]
    },
    {
     "name": "stdout",
     "output_type": "stream",
     "text": [
      "In test\n"
     ]
    },
    {
     "name": "stderr",
     "output_type": "stream",
     "text": [
      "WARNING:root:test:5.002460718154907 > 1\n"
     ]
    },
    {
     "name": "stdout",
     "output_type": "stream",
     "text": [
      "In test\n",
      "In test\n",
      "In test\n"
     ]
    },
    {
     "name": "stderr",
     "output_type": "stream",
     "text": [
      "WARNING:root:test:1.0008912086486816 > 1\n"
     ]
    },
    {
     "name": "stdout",
     "output_type": "stream",
     "text": [
      "In test\n"
     ]
    },
    {
     "name": "stderr",
     "output_type": "stream",
     "text": [
      "WARNING:root:test:1.0008463859558105 > 1\n"
     ]
    },
    {
     "name": "stdout",
     "output_type": "stream",
     "text": [
      "In test\n",
      "In test\n",
      "In test\n",
      "In test\n"
     ]
    },
    {
     "name": "stderr",
     "output_type": "stream",
     "text": [
      "WARNING:root:test:1.0017986297607422 > 1\n"
     ]
    },
    {
     "name": "stdout",
     "output_type": "stream",
     "text": [
      "In test\n"
     ]
    },
    {
     "name": "stderr",
     "output_type": "stream",
     "text": [
      "WARNING:root:test:1.0005991458892822 > 1\n"
     ]
    },
    {
     "name": "stdout",
     "output_type": "stream",
     "text": [
      "In test\n",
      "In test\n",
      "In test\n"
     ]
    },
    {
     "name": "stderr",
     "output_type": "stream",
     "text": [
      "WARNING:root:test:1.0007619857788086 > 1\n"
     ]
    },
    {
     "name": "stdout",
     "output_type": "stream",
     "text": [
      "In test\n",
      "In test\n",
      "In test\n",
      "In test\n"
     ]
    },
    {
     "name": "stderr",
     "output_type": "stream",
     "text": [
      "WARNING:root:test:1.5012922286987305 > 1\n"
     ]
    },
    {
     "name": "stdout",
     "output_type": "stream",
     "text": [
      "In test\n",
      "In test\n"
     ]
    }
   ],
   "source": [
    "from functools import wraps\n",
    "import time, logging\n",
    "from random import randint\n",
    "\n",
    "def warn(timeout):\n",
    "    def decorator(func):\n",
    "        def wrapper(*args, **kargs):\n",
    "            start = time.time()\n",
    "            res = func(*args, **kargs)\n",
    "            used = time.time() - start\n",
    "            if used > timeout:\n",
    "                msg = f'{func.__name__}:{used} > {timeout}'\n",
    "                logging.warn(msg)\n",
    "            return res\n",
    "        def setTimeout(k):\n",
    "            nonlocal timeout\n",
    "            timeout = k\n",
    "        wrapper.setTimeout = setTimeout\n",
    "        return wrapper\n",
    "    return decorator\n",
    "\n",
    "@warn(1.5)\n",
    "def test():\n",
    "    print('In test')\n",
    "    while randint(0, 1):\n",
    "        time.sleep(0.5)\n",
    "\n",
    "for _ in range(30):\n",
    "    test()\n",
    "test.setTimeout(1)\n",
    "for _ in range(30):\n",
    "    test()"
   ]
  }
 ],
 "metadata": {
  "kernelspec": {
   "display_name": "Python 3",
   "language": "python",
   "name": "python3"
  },
  "language_info": {
   "codemirror_mode": {
    "name": "ipython",
    "version": 3
   },
   "file_extension": ".py",
   "mimetype": "text/x-python",
   "name": "python",
   "nbconvert_exporter": "python",
   "pygments_lexer": "ipython3",
   "version": "3.6.6"
  }
 },
 "nbformat": 4,
 "nbformat_minor": 2
}
