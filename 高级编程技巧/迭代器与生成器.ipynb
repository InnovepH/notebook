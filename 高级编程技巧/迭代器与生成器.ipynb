{
 "cells": [
  {
   "cell_type": "markdown",
   "metadata": {},
   "source": [
    "## 如何实现可迭代对象和迭代器对象"
   ]
  },
  {
   "cell_type": "code",
   "execution_count": 1,
   "metadata": {},
   "outputs": [],
   "source": [
    "from collections import Iterable, Iterator"
   ]
  },
  {
   "cell_type": "code",
   "execution_count": 2,
   "metadata": {},
   "outputs": [
    {
     "data": {
      "text/plain": [
       "frozenset({'__next__'})"
      ]
     },
     "execution_count": 2,
     "metadata": {},
     "output_type": "execute_result"
    }
   ],
   "source": [
    "Iterator.__abstractmethods__"
   ]
  },
  {
   "cell_type": "code",
   "execution_count": 3,
   "metadata": {},
   "outputs": [
    {
     "data": {
      "text/plain": [
       "frozenset({'__iter__'})"
      ]
     },
     "execution_count": 3,
     "metadata": {},
     "output_type": "execute_result"
    }
   ],
   "source": [
    "Iterable.__abstractmethods__"
   ]
  },
  {
   "cell_type": "markdown",
   "metadata": {},
   "source": [
    "## 如何使用生成器函数实现可迭代对象?"
   ]
  },
  {
   "cell_type": "code",
   "execution_count": 8,
   "metadata": {
    "scrolled": false
   },
   "outputs": [
    {
     "name": "stdout",
     "output_type": "stream",
     "text": [
      "2\n",
      "3\n",
      "5\n",
      "7\n",
      "11\n",
      "13\n",
      "17\n",
      "19\n",
      "23\n",
      "29\n",
      "31\n",
      "37\n",
      "41\n",
      "43\n",
      "47\n",
      "53\n",
      "59\n",
      "61\n",
      "67\n",
      "71\n",
      "73\n",
      "79\n",
      "83\n",
      "89\n",
      "97\n"
     ]
    }
   ],
   "source": [
    "class PrimeNumbers():\n",
    "    \n",
    "    def __init__(self, start, end):\n",
    "        self.start = start\n",
    "        self.end = end\n",
    "        \n",
    "    def isPrimeNum(self, k):\n",
    "        if k < 2:\n",
    "            return False\n",
    "        \n",
    "        for i in range(2, int(k**(1/2))+1):\n",
    "            if k % i == 0:\n",
    "                return False\n",
    "        return True\n",
    "    \n",
    "    def __iter__(self):\n",
    "        for k in range(self.start, self.end + 1):\n",
    "            if self.isPrimeNum(k):\n",
    "                yield k\n",
    "\n",
    "for x in PrimeNumbers(1, 100):\n",
    "    print(x)"
   ]
  },
  {
   "cell_type": "markdown",
   "metadata": {},
   "source": [
    "## 如何进行反向迭代以及如何实现反向迭代?"
   ]
  },
  {
   "cell_type": "code",
   "execution_count": 13,
   "metadata": {},
   "outputs": [
    {
     "name": "stdout",
     "output_type": "stream",
     "text": [
      "1.0\n",
      "1.5\n",
      "2.0\n",
      "2.5\n",
      "3.0\n",
      "3.5\n",
      "4.0\n",
      "\n",
      "4.0\n",
      "3.5\n",
      "3.0\n",
      "2.5\n",
      "2.0\n",
      "1.5\n",
      "1.0\n"
     ]
    }
   ],
   "source": [
    "class FloatRange:\n",
    "    \n",
    "    def __init__(self, start, end, step=0.1):\n",
    "        self.start = start\n",
    "        self.end = end\n",
    "        self.step = step\n",
    "        \n",
    "    def __iter__(self):\n",
    "        t = self.start\n",
    "        while t <= self.end:\n",
    "            yield t\n",
    "            t += self.step\n",
    "    \n",
    "    def __reversed__(self):\n",
    "        t = self.end\n",
    "        while t >= self.start:\n",
    "            yield t\n",
    "            t -= self.step\n",
    "\n",
    "for x in FloatRange(1.0, 4.0, 0.5):\n",
    "    print(x)\n",
    "    \n",
    "print()\n",
    "for x in reversed(FloatRange(1.0, 4.0, 0.5)):\n",
    "    print(x)"
   ]
  },
  {
   "cell_type": "markdown",
   "metadata": {},
   "source": [
    "## 如何对迭代器做切片操作?"
   ]
  },
  {
   "cell_type": "code",
   "execution_count": 44,
   "metadata": {},
   "outputs": [
    {
     "name": "stdout",
     "output_type": "stream",
     "text": [
      "Thirza 。H 黄薇 2 福建 \n",
      "\n",
      "一个花花 郑采薇 2 福建 \n",
      "\n",
      "脾气 王雅 2 陕西 格言条规\n",
      "\n",
      "猫四胡子 刘楚琪 2 福建 自然而茁，无始无终\n",
      "\n",
      "李斤欠宜 李欣宜 2 福建 \n",
      "\n",
      "lslimslim.  1 福建 \n",
      "\n",
      "蓝1b  2 Busan 我在时间里 等你\n",
      "\n",
      "豪 刘豪 1 福建 懒鸟不一定有懒虫吃！\n",
      "\n",
      "程调子  1 福建 Country road-Take me home-To the place-I belong\n",
      "\n",
      "黄振华  1 福建 \n",
      "\n",
      "平天下 爸 1 福建 情义无价\n",
      "\n",
      "yu_617 骆宇琪 1 福建 真的爱有时候抓不来，伪装的总赚不到关怀\n",
      "\n",
      "wyz 由之 1 福建 Toutes les grandes personnes ont d'abord été des enfants.\n",
      "\n",
      "梦想天空分外蓝  1 陕西 心若向阳 无惧伤悲\n",
      "\n",
      "吃大人啊 嘟嘟 1 福建 时间是让人猝不及防的东西\n",
      "\n",
      "Ci, Ci, 2 江西 \n",
      "\n",
      "姗~Freya 姗姐 2  北师数科\n",
      "\n",
      "彤 王岳彤 2 江西 健康、平安、快乐!!!\n",
      "\n",
      "王赓  1 陕西 知世故而不世故才是最善良的成熟。\n",
      "\n",
      "淡雅����（语音不回）  2 广东 \n",
      "\n",
      "你蛮呆 魏静娴 2 福建 GGF～<span class=\"emoji emoji1f495\"></span>\n",
      "\n",
      "心若相依 程腮芳 2 江西 因为心无所恃，所以随遇而安！\n",
      "\n",
      "贵将 林凯杨 1 江西 \n",
      "\n",
      "Kahing  2 香港 <span class=\"emoji emoji1f4d6\"></span>\n",
      "\n",
      "一只会叫的喵  2 台湾 非诚勿扰！\n",
      "\n",
      "Fantanstic Jam 倒霉熊 1  hi\n",
      "\n",
      "����✨ 陈馨 2 福建 <span class=\"emoji emoji1f305\"></span><span class=\"emoji emoji2728\"></span>\n",
      "\n",
      "水丁  1 福建 受不了\n",
      "\n",
      "我有超能力_可以看见屁 胡雯平 2 浙江 \n",
      "\n",
      "������������ 美瞳客户 1 福建 A=X+Y+Z\n",
      "\n",
      "陈启瀚ü 陈启瀚 1 福建   \n",
      "\n",
      "bb7 047 2  Love conquers all\n",
      "\n",
      "quetzal 雪纯 0  \n",
      "\n",
      "live 胡心怡 0 广东 \n",
      "\n",
      "哎呀 袁方正 1 福建 哎呀\n",
      "\n",
      "南山卧龙 徐晓超老师 1 陕西 \n",
      "\n",
      "诚信为本  2 江西 忘记背后，努力面前。\n",
      "\n",
      "dkkk 北冥有鱼 2  柔软还怂，一腔孤勇\n",
      "\n",
      "Forever 刘康 1 陕西 \n",
      "\n",
      "小手微凉 常潇 1 四川 \n",
      "\n",
      "AAC-1996 陈良杰 1 福建 \n",
      "\n",
      "Saffron. 丁佳瑞 1 江苏 致生剂量\n",
      "\n",
      "【翔龙驾校】  2 陕西 总校练车报名热线:18992831707~18992862405\n",
      "\n",
      "婉露  2 福建 我相信肉的纵欲无度，也相信灵的无可救药的孤独。\n",
      "\n",
      "1101 刘凯 1 福建 \n",
      "\n",
      "Viva la Vida 王大为 1 吉林 \n",
      "\n",
      "辉：亚伯拉罕。 重辉 1 浙江 活泼可爱\n",
      "\n",
      "駃♂釖￡饒 饶宇森 0  \n",
      "\n",
      "ONE. 姚佳辉 1 陕西 \n",
      "\n",
      "骑闻 安少华 1 内蒙古 \n",
      "\n",
      "寻路 花本帅 1 陕西 文艺理工男\n",
      "\n",
      "Sweets 张浩琛 1 陕西 \n",
      "\n",
      "Xin逸 纪鑫逸 1 福建 \n",
      "\n",
      "WZ灬DWYANE 万震 1 Dubayy \n",
      "\n",
      "我心红蓝 李文昌 1 陕西 \n",
      "\n",
      "啊哈 赵晓萌 0 河北 \n",
      "\n",
      "哀宇音 邹坤儒 0  \n",
      "\n",
      "阿阿阿阿阿嚏 张一琳 2 Offaly \n",
      "\n",
      "萝卜崽儿���� 李爽 2  \n",
      "\n",
      "张硕_Gloria 张硕 0  \n",
      "\n",
      "Tathy 韩倩 2 陕西 \n",
      "\n",
      "村口理发张师傅 张小波 1 California 重剑无锋，大巧不工\n",
      "\n",
      "丶黎明 黄元铭 1 陕西 \n",
      "\n",
      "飞  1 陕西 心情心绪会飘去哪里！\n",
      "\n",
      "帝皇 桂明明 1 江苏 \n",
      "\n",
      "七月在线客服_01  0  \n",
      "\n",
      "JustFan 潘舒凡 2 福建 阳光下做个孩子 风雨里当个大人\n",
      "\n",
      "糖糖糖糖炒栗子快来我怀里 唐俊殊 2 河南 \n",
      "\n",
      "����糖果����  2 四川 等你一句话\n",
      "\n",
      "阿宇宇宇宇宇 林祥宇 1 福建 不懈。\n",
      "\n",
      "Wendy12^  2  Aal izz well\n",
      "\n",
      "王大鹿，吃掉你���� 王璐 2 山西 我是主角，我不能死。\n",
      "\n",
      "Good morning 罗文涛 1 福建 毫无顾忌，肆意前行\n",
      "\n",
      "yu 郭倩毓 2 陕西 我只爱我家亲爱的\n",
      "\n",
      "Ar J  1 上海 <span class=\"emoji emoji1f430\"></span><span class=\"emoji emoji1f430\"></span><span class=\"emoji emoji1f430\"></span><span class=\"emoji emoji1f430\"></span><span class=\"emoji emoji1f430\"></span>\n",
      "\n",
      "A小和尚网络教程  0  有什么需要的资料可以找我\n",
      "\n",
      "啦啦啦 刘美君 2 陕西 爱对了是爱情，爱错了是青春\n",
      "\n",
      "翔龙驾培  0  \n",
      "\n",
      "IDARU 抓凯 1 福建 \n",
      "\n",
      "徐晗  1 江苏 把自己做好！\n",
      "\n",
      "广羽人丿丿丿鑫 廖鑫 1  \n",
      "\n",
      "深藏 周欣怡 2  \n",
      "\n",
      "王晨鸣 王晨鸣 1 山东 工作时间: 9:00-18:00，其他时间电话联系15664758731\n",
      "\n",
      "友人GR  2 江苏 \n",
      "\n",
      "Ven雪寒 瑞雯 1 Dubai 醉了，什么多可以忘。淡了，什么多不在乎\n",
      "\n",
      "洪峰 洪峰 1 江西 \n",
      "\n",
      "ccy  2 福建 你是年少的欢喜<span class=\"emoji emoji1f499\"></span>\n",
      "\n",
      "Mango���� 张桂平 0  嘻\n",
      "\n",
      "二傻紫☀  2 福建 \n",
      "\n",
      "raisin 张浩鹏 1 陕西 \n",
      "\n",
      "������������  1 福建 2017.09.07 14:02:05\n",
      "\n",
      "Y.TF�������� 鬼恩希 1 浙江 不乱于心，不困于情，不畏将来，不念过去 —— 共勉之\n",
      "\n",
      "公子老马  1 湖南 对生命越富有激情，回应你就会越强烈。\n",
      "\n",
      "LiuXY 刘晓颖 1 陕西 I got what I paid for!\n",
      "\n",
      "李耳 姜圣浩 1 江西 \n",
      "\n",
      "花小涵Sally 花小涵 2 福建 A secret makes a woman woman\n",
      "\n",
      "Little...楷  1 福建 \n",
      "\n",
      "端胖小铺～  1 湖北 伸手党勿扰 <span class=\"emoji emoji274c\"></span> 不然店主脾气不好\n",
      "\n",
      "单行道 赵伟老师 1 陕西 \n",
      "\n",
      "燕君  2 福建 \n",
      "\n"
     ]
    }
   ],
   "source": [
    "from itertools import islice\n",
    "\n",
    "with open('信息.txt', 'r', encoding='utf-8') as f:\n",
    "    for line in islice(f, 100, 200):\n",
    "        print(line)\n"
   ]
  },
  {
   "cell_type": "code",
   "execution_count": 46,
   "metadata": {},
   "outputs": [
    {
     "name": "stdout",
     "output_type": "stream",
     "text": [
      "5\n",
      "6\n",
      "7\n",
      "8\n",
      "9\n"
     ]
    }
   ],
   "source": [
    "l = range(20)\n",
    "t = iter(l)\n",
    "for x in islice(t, 5, 10):\n",
    "    print(x)"
   ]
  },
  {
   "cell_type": "code",
   "execution_count": 47,
   "metadata": {},
   "outputs": [
    {
     "name": "stdout",
     "output_type": "stream",
     "text": [
      "10\n",
      "11\n",
      "12\n",
      "13\n",
      "14\n",
      "15\n",
      "16\n",
      "17\n",
      "18\n",
      "19\n"
     ]
    }
   ],
   "source": [
    "for x in t:\n",
    "    print(x)"
   ]
  },
  {
   "cell_type": "markdown",
   "metadata": {},
   "source": [
    "## 如何在一个for语句中迭代多个可迭代对象?"
   ]
  },
  {
   "cell_type": "code",
   "execution_count": 49,
   "metadata": {},
   "outputs": [],
   "source": [
    "from random import randint\n",
    "chinese = [randint(60, 100) for _ in range(40)]\n",
    "math = [randint(60, 100) for _ in range(40)]\n",
    "englise = [randint(60, 100) for _ in range(40)]"
   ]
  },
  {
   "cell_type": "code",
   "execution_count": 76,
   "metadata": {},
   "outputs": [
    {
     "name": "stdout",
     "output_type": "stream",
     "text": [
      "[263, 218, 255, 257, 239, 217, 265, 263, 219, 260, 241, 253, 245, 227, 281, 262, 233, 242, 204, 237, 238, 242, 270, 226, 234, 233, 237, 234, 226, 228, 256, 220, 217, 252, 241, 202, 269, 242, 284, 256]\n"
     ]
    }
   ],
   "source": [
    "total = []\n",
    "for i in range(len(math)):\n",
    "    total.append(chinese[i] + math[i] + englise[i])\n",
    "print(total)"
   ]
  },
  {
   "cell_type": "code",
   "execution_count": 68,
   "metadata": {},
   "outputs": [
    {
     "data": {
      "text/plain": [
       "<zip at 0x1481a33b688>"
      ]
     },
     "execution_count": 68,
     "metadata": {},
     "output_type": "execute_result"
    }
   ],
   "source": [
    "zip([1,2,3,4], ('a','b','c','d'))"
   ]
  },
  {
   "cell_type": "code",
   "execution_count": 53,
   "metadata": {},
   "outputs": [
    {
     "name": "stdout",
     "output_type": "stream",
     "text": [
      "(1, 'a', 7)\n",
      "(2, 'b', 8)\n",
      "(3, 'c', 9)\n",
      "(4, 'd', 10)\n"
     ]
    }
   ],
   "source": [
    "for x in zip([1,2,3,4], ('a', 'b', 'c', 'd'), [7,8,9,10,11]):\n",
    "    print(x)"
   ]
  },
  {
   "cell_type": "code",
   "execution_count": 54,
   "metadata": {},
   "outputs": [
    {
     "name": "stdout",
     "output_type": "stream",
     "text": [
      "[263, 218, 255, 257, 239, 217, 265, 263, 219, 260, 241, 253, 245, 227, 281, 262, 233, 242, 204, 237, 238, 242, 270, 226, 234, 233, 237, 234, 226, 228, 256, 220, 217, 252, 241, 202, 269, 242, 284, 256]\n"
     ]
    }
   ],
   "source": [
    "total = []\n",
    "for c, m, e in zip(chinese, math, englise):\n",
    "    total.append(c + m + e)\n",
    "print(total)"
   ]
  },
  {
   "cell_type": "markdown",
   "metadata": {},
   "source": [
    "**将多个可迭代对象合并成一个**"
   ]
  },
  {
   "cell_type": "code",
   "execution_count": 72,
   "metadata": {},
   "outputs": [
    {
     "name": "stdout",
     "output_type": "stream",
     "text": [
      "1\n",
      "2\n",
      "3\n",
      "4\n",
      "a\n",
      "b\n",
      "c\n"
     ]
    }
   ],
   "source": [
    "from itertools import chain\n",
    "\n",
    "for x in chain([1,2,3,4], ['a','b','c']):\n",
    "    print(x)"
   ]
  },
  {
   "cell_type": "code",
   "execution_count": 73,
   "metadata": {},
   "outputs": [],
   "source": [
    "e1 = [randint(60, 100) for _ in range(40)]\n",
    "e2 = [randint(60, 100) for _ in range(42)]\n",
    "e3 = [randint(60, 100) for _ in range(42)]\n",
    "e4 = [randint(60, 100) for _ in range(39)]"
   ]
  },
  {
   "cell_type": "code",
   "execution_count": 75,
   "metadata": {},
   "outputs": [
    {
     "name": "stdout",
     "output_type": "stream",
     "text": [
      "55\n"
     ]
    }
   ],
   "source": [
    "# 统计成绩大于等于90分的人数\n",
    "count = 0\n",
    "for s in chain(e1, e2, e3, e4):\n",
    "    if s >= 90:\n",
    "        count += 1\n",
    "print(count)"
   ]
  }
 ],
 "metadata": {
  "kernelspec": {
   "display_name": "Python 3",
   "language": "python",
   "name": "python3"
  },
  "language_info": {
   "codemirror_mode": {
    "name": "ipython",
    "version": 3
   },
   "file_extension": ".py",
   "mimetype": "text/x-python",
   "name": "python",
   "nbconvert_exporter": "python",
   "pygments_lexer": "ipython3",
   "version": "3.6.6"
  }
 },
 "nbformat": 4,
 "nbformat_minor": 2
}
