{
 "cells": [
  {
   "cell_type": "markdown",
   "metadata": {},
   "source": [
    "# Selenium\n",
    "\n",
    "自动化测试工具，支持多种浏览器。爬虫中主要用来解决JavaScript渲染的问题"
   ]
  },
  {
   "cell_type": "markdown",
   "metadata": {},
   "source": [
    "## 基本使用"
   ]
  },
  {
   "cell_type": "code",
   "execution_count": null,
   "metadata": {},
   "outputs": [],
   "source": [
    "from selenium import webdriver\n",
    "from selenium.webdriver.common.by import By\n",
    "from selenium.webdriver.common.keys import Keys\n",
    "from selenium.webdriver.support import expected_conditions as EC\n",
    "from selenium.webdriver.support.wait import WebDriverWait\n",
    "\n",
    "browser = webdriver.Chrome()\n",
    "try:\n",
    "    browser.get('https://www.baidu.com')\n",
    "    input = browser.find_element_by_id('kw')\n",
    "    input.send_keys('Python')\n",
    "    input.send_keys(Keys.ENTER)\n",
    "    wait = WebDriverWait(browser, 10)\n",
    "    wait.until(EC.presence_of_element_located((By.ID, 'content_left')))\n",
    "    print(browser.current_url)\n",
    "    print(browser.get_cookies())\n",
    "    print(browser.page_source)\n",
    "finally:\n",
    "    browser.close()"
   ]
  },
  {
   "cell_type": "markdown",
   "metadata": {},
   "source": [
    "## 声明浏览器对象"
   ]
  },
  {
   "cell_type": "code",
   "execution_count": null,
   "metadata": {},
   "outputs": [],
   "source": [
    "from selenium import webdriver\n",
    "\n",
    "browser = webdriver.Chrome()\n",
    "browser = webdriver.Edge()\n",
    "browser = webdriver.Safari()"
   ]
  },
  {
   "cell_type": "markdown",
   "metadata": {},
   "source": [
    "## 访问页面"
   ]
  },
  {
   "cell_type": "code",
   "execution_count": null,
   "metadata": {},
   "outputs": [],
   "source": [
    "browser = webdriver.Chrome()\n",
    "browser.get('https://www.taobao.com')\n",
    "print(browser.page_source)\n",
    "browser.close()"
   ]
  },
  {
   "cell_type": "markdown",
   "metadata": {},
   "source": [
    "## 查找元素\n",
    "\n",
    "### 单个元素"
   ]
  },
  {
   "cell_type": "code",
   "execution_count": 6,
   "metadata": {},
   "outputs": [
    {
     "name": "stdout",
     "output_type": "stream",
     "text": [
      "<selenium.webdriver.remote.webelement.WebElement (session=\"89599e58d14529cb42f4070666b5b2d0\", element=\"0.5399440331600664-1\")> \n",
      " <selenium.webdriver.remote.webelement.WebElement (session=\"89599e58d14529cb42f4070666b5b2d0\", element=\"0.5399440331600664-1\")> \n",
      " <selenium.webdriver.remote.webelement.WebElement (session=\"89599e58d14529cb42f4070666b5b2d0\", element=\"0.5399440331600664-1\")>\n"
     ]
    }
   ],
   "source": [
    "browser = webdriver.Chrome()\n",
    "browser.get('https://www.taobao.com')\n",
    "input_first = browser.find_element_by_id('q')\n",
    "input_second = browser.find_element_by_css_selector('#q')\n",
    "input_third = browser.find_element_by_xpath('//*[@id=\"q\"]')\n",
    "print(input_first,'\\n',input_second,'\\n',input_third)\n",
    "browser.close()"
   ]
  },
  {
   "cell_type": "markdown",
   "metadata": {},
   "source": [
    "- find_element_by_name\n",
    "- find_element_by_xpath\n",
    "- find_element_by_link_text\n",
    "- find_element_by_partial_link_text\n",
    "- find_element_by_tag_name\n",
    "- find_element_by_class_name\n",
    "- find_element_by_css_selector"
   ]
  },
  {
   "cell_type": "code",
   "execution_count": 7,
   "metadata": {},
   "outputs": [
    {
     "name": "stdout",
     "output_type": "stream",
     "text": [
      "<selenium.webdriver.remote.webelement.WebElement (session=\"f8fbd94f0f81db617dc07370ad0f1f28\", element=\"0.5163454700624819-1\")>\n"
     ]
    }
   ],
   "source": [
    "browser = webdriver.Chrome()\n",
    "browser.get('https://www.taobao.com')\n",
    "input_first = browser.find_element(By.ID, 'q')\n",
    "print(input_first)\n",
    "browser.close()"
   ]
  },
  {
   "cell_type": "markdown",
   "metadata": {},
   "source": [
    "### 多个元素"
   ]
  },
  {
   "cell_type": "code",
   "execution_count": 9,
   "metadata": {},
   "outputs": [
    {
     "name": "stdout",
     "output_type": "stream",
     "text": [
      "[<selenium.webdriver.remote.webelement.WebElement (session=\"f446463978fc79b02221dbeec94ff251\", element=\"0.16052596147839093-1\")>, <selenium.webdriver.remote.webelement.WebElement (session=\"f446463978fc79b02221dbeec94ff251\", element=\"0.16052596147839093-2\")>, <selenium.webdriver.remote.webelement.WebElement (session=\"f446463978fc79b02221dbeec94ff251\", element=\"0.16052596147839093-3\")>, <selenium.webdriver.remote.webelement.WebElement (session=\"f446463978fc79b02221dbeec94ff251\", element=\"0.16052596147839093-4\")>, <selenium.webdriver.remote.webelement.WebElement (session=\"f446463978fc79b02221dbeec94ff251\", element=\"0.16052596147839093-5\")>, <selenium.webdriver.remote.webelement.WebElement (session=\"f446463978fc79b02221dbeec94ff251\", element=\"0.16052596147839093-6\")>, <selenium.webdriver.remote.webelement.WebElement (session=\"f446463978fc79b02221dbeec94ff251\", element=\"0.16052596147839093-7\")>, <selenium.webdriver.remote.webelement.WebElement (session=\"f446463978fc79b02221dbeec94ff251\", element=\"0.16052596147839093-8\")>, <selenium.webdriver.remote.webelement.WebElement (session=\"f446463978fc79b02221dbeec94ff251\", element=\"0.16052596147839093-9\")>, <selenium.webdriver.remote.webelement.WebElement (session=\"f446463978fc79b02221dbeec94ff251\", element=\"0.16052596147839093-10\")>, <selenium.webdriver.remote.webelement.WebElement (session=\"f446463978fc79b02221dbeec94ff251\", element=\"0.16052596147839093-11\")>, <selenium.webdriver.remote.webelement.WebElement (session=\"f446463978fc79b02221dbeec94ff251\", element=\"0.16052596147839093-12\")>, <selenium.webdriver.remote.webelement.WebElement (session=\"f446463978fc79b02221dbeec94ff251\", element=\"0.16052596147839093-13\")>, <selenium.webdriver.remote.webelement.WebElement (session=\"f446463978fc79b02221dbeec94ff251\", element=\"0.16052596147839093-14\")>, <selenium.webdriver.remote.webelement.WebElement (session=\"f446463978fc79b02221dbeec94ff251\", element=\"0.16052596147839093-15\")>, <selenium.webdriver.remote.webelement.WebElement (session=\"f446463978fc79b02221dbeec94ff251\", element=\"0.16052596147839093-16\")>]\n"
     ]
    }
   ],
   "source": [
    "browser = webdriver.Chrome()\n",
    "browser.get('https://www.taobao.com')\n",
    "lis = browser.find_elements_by_css_selector('.service-bd li')\n",
    "print(lis)\n",
    "browser.close()"
   ]
  },
  {
   "cell_type": "code",
   "execution_count": 11,
   "metadata": {},
   "outputs": [
    {
     "name": "stdout",
     "output_type": "stream",
     "text": [
      "[<selenium.webdriver.remote.webelement.WebElement (session=\"03c370f65eda99c04036f20b79d5c5cf\", element=\"0.22028206543512896-1\")>, <selenium.webdriver.remote.webelement.WebElement (session=\"03c370f65eda99c04036f20b79d5c5cf\", element=\"0.22028206543512896-2\")>, <selenium.webdriver.remote.webelement.WebElement (session=\"03c370f65eda99c04036f20b79d5c5cf\", element=\"0.22028206543512896-3\")>, <selenium.webdriver.remote.webelement.WebElement (session=\"03c370f65eda99c04036f20b79d5c5cf\", element=\"0.22028206543512896-4\")>, <selenium.webdriver.remote.webelement.WebElement (session=\"03c370f65eda99c04036f20b79d5c5cf\", element=\"0.22028206543512896-5\")>, <selenium.webdriver.remote.webelement.WebElement (session=\"03c370f65eda99c04036f20b79d5c5cf\", element=\"0.22028206543512896-6\")>, <selenium.webdriver.remote.webelement.WebElement (session=\"03c370f65eda99c04036f20b79d5c5cf\", element=\"0.22028206543512896-7\")>, <selenium.webdriver.remote.webelement.WebElement (session=\"03c370f65eda99c04036f20b79d5c5cf\", element=\"0.22028206543512896-8\")>, <selenium.webdriver.remote.webelement.WebElement (session=\"03c370f65eda99c04036f20b79d5c5cf\", element=\"0.22028206543512896-9\")>, <selenium.webdriver.remote.webelement.WebElement (session=\"03c370f65eda99c04036f20b79d5c5cf\", element=\"0.22028206543512896-10\")>, <selenium.webdriver.remote.webelement.WebElement (session=\"03c370f65eda99c04036f20b79d5c5cf\", element=\"0.22028206543512896-11\")>, <selenium.webdriver.remote.webelement.WebElement (session=\"03c370f65eda99c04036f20b79d5c5cf\", element=\"0.22028206543512896-12\")>, <selenium.webdriver.remote.webelement.WebElement (session=\"03c370f65eda99c04036f20b79d5c5cf\", element=\"0.22028206543512896-13\")>, <selenium.webdriver.remote.webelement.WebElement (session=\"03c370f65eda99c04036f20b79d5c5cf\", element=\"0.22028206543512896-14\")>, <selenium.webdriver.remote.webelement.WebElement (session=\"03c370f65eda99c04036f20b79d5c5cf\", element=\"0.22028206543512896-15\")>, <selenium.webdriver.remote.webelement.WebElement (session=\"03c370f65eda99c04036f20b79d5c5cf\", element=\"0.22028206543512896-16\")>]\n"
     ]
    }
   ],
   "source": [
    "browser = webdriver.Chrome()\n",
    "browser.get('https://www.taobao.com')\n",
    "lis = browser.find_elements(By.CSS_SELECTOR,'.service-bd li')\n",
    "print(lis)\n",
    "browser.close()"
   ]
  },
  {
   "cell_type": "markdown",
   "metadata": {},
   "source": [
    "- find_elements_by_name\n",
    "- find_elements_by_xpath\n",
    "- find_elements_by_link_text\n",
    "- find_elements_by_partial_link_text\n",
    "- find_elements_by_tag_name\n",
    "- find_elements_by_class_name\n",
    "- find_elements_by_css_selector"
   ]
  },
  {
   "cell_type": "markdown",
   "metadata": {},
   "source": [
    "## 元素交互操作"
   ]
  },
  {
   "cell_type": "markdown",
   "metadata": {},
   "source": [
    "对获取的元素调用交互方法"
   ]
  },
  {
   "cell_type": "code",
   "execution_count": 16,
   "metadata": {},
   "outputs": [],
   "source": [
    "import time\n",
    "\n",
    "browser = webdriver.Chrome()\n",
    "browser.get('https://www.taobao.com')\n",
    "input = browser.find_element_by_id('q')\n",
    "input.send_keys('iPhone')\n",
    "time.sleep(3)\n",
    "input.clear()\n",
    "input.send_keys('iPad')\n",
    "button = browser.find_element_by_class_name('btn-search')\n",
    "button.click()"
   ]
  },
  {
   "cell_type": "markdown",
   "metadata": {},
   "source": [
    "http://selenium-python.readthedocs.io/api.html#module-selenium.webdriver.remote.webelement"
   ]
  },
  {
   "cell_type": "markdown",
   "metadata": {},
   "source": [
    "## 交互动作"
   ]
  },
  {
   "cell_type": "markdown",
   "metadata": {},
   "source": [
    "将动作附加到动作链中串行执行"
   ]
  },
  {
   "cell_type": "code",
   "execution_count": null,
   "metadata": {},
   "outputs": [],
   "source": [
    "from selenium import webdriver\n",
    "from selenium.webdriver import ActionChains\n",
    "\n",
    "browser = webdriver.Chrome()\n",
    "url = 'http://www.runoob.com/try/try.php?filename=jqueryui-api-droppable'\n",
    "browser.get(url)\n",
    "browser.switch_to.frame('iframeResult')\n",
    "source = browser.find_element_by_css_selector('#draggable')\n",
    "target = browser.find_element_by_css_selector('#droppable')\n",
    "actions = ActionChains(browser)\n",
    "actions.drag_and_drop(source, target)\n",
    "actions.perform()"
   ]
  },
  {
   "cell_type": "markdown",
   "metadata": {},
   "source": [
    "更多操作: http://selenium-python.readthedocs.io/api.html#module-selenium.webdriver.common.action_chains"
   ]
  },
  {
   "cell_type": "markdown",
   "metadata": {},
   "source": [
    "## 执行JavaScript"
   ]
  },
  {
   "cell_type": "code",
   "execution_count": 17,
   "metadata": {},
   "outputs": [],
   "source": [
    "browser = webdriver.Chrome()\n",
    "browser.get('https://www.zhihu.com/explore')\n",
    "browser.execute_script('window.scrollTo(0,document.body.scrollHeight)')\n",
    "browser.execute_script('alert(\"To Bottom\")')"
   ]
  },
  {
   "cell_type": "markdown",
   "metadata": {},
   "source": [
    "# 获取元素信息"
   ]
  },
  {
   "cell_type": "markdown",
   "metadata": {},
   "source": [
    "## 获取属性"
   ]
  },
  {
   "cell_type": "code",
   "execution_count": 19,
   "metadata": {},
   "outputs": [
    {
     "name": "stdout",
     "output_type": "stream",
     "text": [
      "<selenium.webdriver.remote.webelement.WebElement (session=\"ea589ee8b48e18a052da3b4d62a59515\", element=\"0.9175894756200849-1\")>\n",
      "zu-top-link-logo\n"
     ]
    }
   ],
   "source": [
    "browser = webdriver.Chrome()\n",
    "browser.get('https://www.zhihu.com/explore')\n",
    "logo = browser.find_element_by_id('zh-top-link-logo')\n",
    "print(logo)\n",
    "print(logo.get_attribute('class'))"
   ]
  },
  {
   "cell_type": "markdown",
   "metadata": {},
   "source": [
    "## 获取文本值"
   ]
  },
  {
   "cell_type": "code",
   "execution_count": 22,
   "metadata": {},
   "outputs": [
    {
     "name": "stdout",
     "output_type": "stream",
     "text": [
      "提问\n"
     ]
    }
   ],
   "source": [
    "browser = webdriver.Chrome()\n",
    "url = \"https://www.zhihu.com/explore\"\n",
    "browser.get(url)\n",
    "input = browser.find_element_by_class_name('zu-top-add-question')\n",
    "print(input.text)"
   ]
  },
  {
   "cell_type": "markdown",
   "metadata": {},
   "source": [
    "## 获取ID、位置、标签名、大小"
   ]
  },
  {
   "cell_type": "code",
   "execution_count": 23,
   "metadata": {},
   "outputs": [
    {
     "name": "stdout",
     "output_type": "stream",
     "text": [
      "0.4525657670651546-1\n",
      "{'x': 759, 'y': 7}\n",
      "button\n",
      "{'height': 32, 'width': 66}\n"
     ]
    }
   ],
   "source": [
    "browser = webdriver.Chrome()\n",
    "browser.get(url)\n",
    "input = browser.find_element_by_class_name('zu-top-add-question')\n",
    "print(input.id)\n",
    "print(input.location)\n",
    "print(input.tag_name)\n",
    "print(input.size)"
   ]
  },
  {
   "cell_type": "markdown",
   "metadata": {},
   "source": [
    "## Frame"
   ]
  },
  {
   "cell_type": "code",
   "execution_count": 25,
   "metadata": {},
   "outputs": [
    {
     "name": "stdout",
     "output_type": "stream",
     "text": [
      "<selenium.webdriver.remote.webelement.WebElement (session=\"485a3b0260a6fea43a82d86ad5bde3eb\", element=\"0.03488919545266178-1\")>\n",
      "NO LOGO\n",
      "<selenium.webdriver.remote.webelement.WebElement (session=\"485a3b0260a6fea43a82d86ad5bde3eb\", element=\"0.433308056551051-2\")>\n",
      "RUNOOB.COM\n"
     ]
    }
   ],
   "source": [
    "import time\n",
    "from selenium import webdriver\n",
    "from selenium.common.exceptions import NoSuchElementException\n",
    "\n",
    "browser = webdriver.Chrome()\n",
    "url = 'http://www.runoob.com/try/try.php?filename=jqueryui-api-droppable'\n",
    "browser.get(url)\n",
    "browser.switch_to.frame('iframeResult')\n",
    "source = browser.find_element_by_css_selector('#draggable')\n",
    "print(source)\n",
    "try:\n",
    "    logo = browser.find_element_by_class_name('logo')\n",
    "except NoSuchElementException:\n",
    "    print('NO LOGO')\n",
    "browser.switch_to.parent_frame()\n",
    "logo = browser.find_element_by_class_name('logo')\n",
    "print(logo)\n",
    "print(logo.text)"
   ]
  },
  {
   "cell_type": "markdown",
   "metadata": {},
   "source": [
    "## 等待"
   ]
  },
  {
   "cell_type": "markdown",
   "metadata": {},
   "source": [
    "### 隐式等待"
   ]
  },
  {
   "cell_type": "markdown",
   "metadata": {},
   "source": [
    "当使用了隐式等待执行测试的时候，如果WebDriver没有在DOM中找到元素，将继续等待，超出设定时间后则抛出找不到元素的异常，换句话说，当查找元素或元素并没有立即出现的时候，隐式等待将等待一段时间再查找DOM，默认的时间是0"
   ]
  },
  {
   "cell_type": "code",
   "execution_count": 26,
   "metadata": {},
   "outputs": [
    {
     "name": "stdout",
     "output_type": "stream",
     "text": [
      "<selenium.webdriver.remote.webelement.WebElement (session=\"d235b8bd4add9026dd1113eacd3125ed\", element=\"0.31966479250800206-1\")>\n"
     ]
    }
   ],
   "source": [
    "browser = webdriver.Chrome()\n",
    "browser.implicitly_wait(10)\n",
    "browser.get('https://www.zhihu.com/explore')\n",
    "input = browser.find_element_by_class_name('zu-top-add-question')\n",
    "print(input)"
   ]
  },
  {
   "cell_type": "markdown",
   "metadata": {},
   "source": [
    "### 显式等待"
   ]
  },
  {
   "cell_type": "code",
   "execution_count": 29,
   "metadata": {},
   "outputs": [
    {
     "name": "stdout",
     "output_type": "stream",
     "text": [
      "<selenium.webdriver.remote.webelement.WebElement (session=\"858368dabaa6dc69b7f0d2f473fe2bb2\", element=\"0.4414105096374443-1\")> <selenium.webdriver.remote.webelement.WebElement (session=\"858368dabaa6dc69b7f0d2f473fe2bb2\", element=\"0.4414105096374443-2\")>\n"
     ]
    }
   ],
   "source": [
    "browser = webdriver.Chrome()\n",
    "browser.get('https://www.taobao.com')\n",
    "wait = WebDriverWait(browser, 10)\n",
    "input = wait.until(EC.presence_of_element_located((By.ID,'q')))\n",
    "button = wait.until(EC.element_to_be_clickable((By.CSS_SELECTOR, '.btn-search')))\n",
    "print(input, button)"
   ]
  },
  {
   "cell_type": "markdown",
   "metadata": {},
   "source": [
    "**显示等待条件**：\n",
    "* title_is 标题是某内容\n",
    "* title_contains  标题包含某内容\n",
    "* presence_of_element_located 元素加载出，传入定位元组，如(By.ID, 'p')\n",
    "* visibility_of_element_located  元素可见，传入定位元组\n",
    "* visibility_of 可见，传入元素对象\n",
    "* presence_of_all_elements_located 所有元素加载出\n",
    "* text_to_be_present_in_element 某个元素文本包含某文字\n",
    "* text_to_be_present_in_element_value  某个元素值包含某文字\n",
    "* frame_to_be_available_and_switch_to_it  frame加载并切换\n",
    "* invisibility_of_element_located 元素不可见\n",
    "* element_to_be_clickable  元素可点击\n",
    "* staleness_of  判断一个元素是否仍在DOM，可判断页面是否已经刷新\n",
    "* element_to_be_selected  元素可选择，传元素对象\n",
    "* element_located_to_be_selected  元素可选择，传入定位元组\n",
    "* element_selection_state_to_be  传入元素对象以及状态，相等返回True，否则返回False\n",
    "* element_located_selection_state_to_be  传入定位元组以及状态，相等返回True，否则返回False\n",
    "* alert_is_present 是否出现Alert"
   ]
  },
  {
   "cell_type": "markdown",
   "metadata": {},
   "source": [
    "详细内容：http://selenium-python.readthedocs.io/api.html#module-selenium.webdriver.support.expected_conditions"
   ]
  },
  {
   "cell_type": "markdown",
   "metadata": {},
   "source": [
    "## 前进后退"
   ]
  },
  {
   "cell_type": "code",
   "execution_count": 34,
   "metadata": {},
   "outputs": [],
   "source": [
    "import time\n",
    "\n",
    "browser = webdriver.Chrome()\n",
    "browser.get('https://www.baidu.com')\n",
    "browser.get('https://www.taobao.com')\n",
    "browser.get('https://www.python.org')\n",
    "browser.back()\n",
    "time.sleep(2)\n",
    "browser.forward()\n",
    "time.sleep(2)\n",
    "browser.close()"
   ]
  },
  {
   "cell_type": "markdown",
   "metadata": {},
   "source": [
    "## Cookies"
   ]
  },
  {
   "cell_type": "code",
   "execution_count": 38,
   "metadata": {},
   "outputs": [
    {
     "name": "stdout",
     "output_type": "stream",
     "text": [
      "[{'domain': '.zhihu.com', 'expiry': 1619431606.079677, 'httpOnly': False, 'name': 'd_c0', 'path': '/', 'secure': False, 'value': '\"AKBgDx-4gQ2PTv3u5GX0Ili-EjOeFaYaK8k=|1524823609\"'}, {'domain': 'www.zhihu.com', 'httpOnly': True, 'name': 'aliyungf_tc', 'path': '/', 'secure': False, 'value': 'AQAAAITfOjv7JwsAeQuMcRcX8w/AAUcp'}, {'domain': '.zhihu.com', 'httpOnly': False, 'name': 'l_n_c', 'path': '/', 'secure': False, 'value': '1'}, {'domain': '.zhihu.com', 'expiry': 1524825406, 'httpOnly': False, 'name': '__utmb', 'path': '/', 'secure': False, 'value': '51854390.0.10.1524823606'}, {'domain': '.zhihu.com', 'expiry': 1619431601.821545, 'httpOnly': False, 'name': 'q_c1', 'path': '/', 'secure': False, 'value': '1832ff441c2645689f69c21884602827|1524823604000|1524823604000'}, {'domain': 'www.zhihu.com', 'httpOnly': False, 'name': '_xsrf', 'path': '/', 'secure': False, 'value': '9e7940e72ee8df1ee2ff8da888fba414'}, {'domain': '.zhihu.com', 'expiry': 1527415601.821581, 'httpOnly': False, 'name': 'r_cap_id', 'path': '/', 'secure': False, 'value': '\"YmM0YjEwOTQxNzc1NDMyNmE4NTYzZGNhOWE0MjkzNzA=|1524823604|706cf715f948eb11eac59dde8bcf318ab178acb5\"'}, {'domain': '.zhihu.com', 'expiry': 1527415601.821605, 'httpOnly': False, 'name': 'cap_id', 'path': '/', 'secure': False, 'value': '\"NDUxMzY3NTgxYzQzNGE0ZTg0ZDE5ZTVmMWI3NzZhNzk=|1524823604|25e51920a10b835842142f0a5584fd94b0a2a9c9\"'}, {'domain': '.zhihu.com', 'expiry': 1527415601.821637, 'httpOnly': False, 'name': 'l_cap_id', 'path': '/', 'secure': False, 'value': '\"MTE4ZjMyNjdhMDk2NDRlZWIyMWRmMjdiYWNjYzAwNDI=|1524823604|8aed619a37c9db10b5e96f65612c5ed182e6757b\"'}, {'domain': '.zhihu.com', 'httpOnly': False, 'name': 'n_c', 'path': '/', 'secure': False, 'value': '1'}, {'domain': '.zhihu.com', 'expiry': 1587895606, 'httpOnly': False, 'name': '_zap', 'path': '/', 'secure': False, 'value': 'd11aefdb-c6f8-4471-ad0c-f8a03df92722'}, {'domain': '.zhihu.com', 'expiry': 1587895606, 'httpOnly': False, 'name': '__utma', 'path': '/', 'secure': False, 'value': '51854390.729913384.1524823606.1524823606.1524823606.1'}, {'domain': '.zhihu.com', 'httpOnly': False, 'name': '__utmc', 'path': '/', 'secure': False, 'value': '51854390'}, {'domain': '.zhihu.com', 'expiry': 1540591606, 'httpOnly': False, 'name': '__utmz', 'path': '/', 'secure': False, 'value': '51854390.1524823606.1.1.utmcsr=(direct)|utmccn=(direct)|utmcmd=(none)'}, {'domain': '.zhihu.com', 'expiry': 1587895606, 'httpOnly': False, 'name': '__utmv', 'path': '/', 'secure': False, 'value': '51854390.000--|3=entry_date=20180427=1'}] \n",
      "\n",
      "[{'domain': '.zhihu.com', 'expiry': 1619431606.079677, 'httpOnly': False, 'name': 'd_c0', 'path': '/', 'secure': False, 'value': '\"AKBgDx-4gQ2PTv3u5GX0Ili-EjOeFaYaK8k=|1524823609\"'}, {'domain': 'www.zhihu.com', 'httpOnly': True, 'name': 'aliyungf_tc', 'path': '/', 'secure': False, 'value': 'AQAAAITfOjv7JwsAeQuMcRcX8w/AAUcp'}, {'domain': '.zhihu.com', 'httpOnly': False, 'name': 'l_n_c', 'path': '/', 'secure': False, 'value': '1'}, {'domain': '.zhihu.com', 'expiry': 1524825406, 'httpOnly': False, 'name': '__utmb', 'path': '/', 'secure': False, 'value': '51854390.0.10.1524823606'}, {'domain': '.zhihu.com', 'expiry': 1619431601.821545, 'httpOnly': False, 'name': 'q_c1', 'path': '/', 'secure': False, 'value': '1832ff441c2645689f69c21884602827|1524823604000|1524823604000'}, {'domain': 'www.zhihu.com', 'httpOnly': False, 'name': '_xsrf', 'path': '/', 'secure': False, 'value': '9e7940e72ee8df1ee2ff8da888fba414'}, {'domain': '.zhihu.com', 'expiry': 1527415601.821581, 'httpOnly': False, 'name': 'r_cap_id', 'path': '/', 'secure': False, 'value': '\"YmM0YjEwOTQxNzc1NDMyNmE4NTYzZGNhOWE0MjkzNzA=|1524823604|706cf715f948eb11eac59dde8bcf318ab178acb5\"'}, {'domain': '.zhihu.com', 'expiry': 1527415601.821605, 'httpOnly': False, 'name': 'cap_id', 'path': '/', 'secure': False, 'value': '\"NDUxMzY3NTgxYzQzNGE0ZTg0ZDE5ZTVmMWI3NzZhNzk=|1524823604|25e51920a10b835842142f0a5584fd94b0a2a9c9\"'}, {'domain': '.zhihu.com', 'expiry': 1527415601.821637, 'httpOnly': False, 'name': 'l_cap_id', 'path': '/', 'secure': False, 'value': '\"MTE4ZjMyNjdhMDk2NDRlZWIyMWRmMjdiYWNjYzAwNDI=|1524823604|8aed619a37c9db10b5e96f65612c5ed182e6757b\"'}, {'domain': '.zhihu.com', 'httpOnly': False, 'name': 'n_c', 'path': '/', 'secure': False, 'value': '1'}, {'domain': '.zhihu.com', 'expiry': 1587895606, 'httpOnly': False, 'name': '_zap', 'path': '/', 'secure': False, 'value': 'd11aefdb-c6f8-4471-ad0c-f8a03df92722'}, {'domain': '.zhihu.com', 'expiry': 1587895606, 'httpOnly': False, 'name': '__utma', 'path': '/', 'secure': False, 'value': '51854390.729913384.1524823606.1524823606.1524823606.1'}, {'domain': '.zhihu.com', 'httpOnly': False, 'name': '__utmc', 'path': '/', 'secure': False, 'value': '51854390'}, {'domain': '.zhihu.com', 'expiry': 1540591606, 'httpOnly': False, 'name': '__utmz', 'path': '/', 'secure': False, 'value': '51854390.1524823606.1.1.utmcsr=(direct)|utmccn=(direct)|utmcmd=(none)'}, {'domain': '.zhihu.com', 'expiry': 1587895606, 'httpOnly': False, 'name': '__utmv', 'path': '/', 'secure': False, 'value': '51854390.000--|3=entry_date=20180427=1'}, {'domain': 'www.zhihu.com', 'expiry': 2155543606, 'httpOnly': False, 'name': 'name', 'path': '/', 'secure': True, 'value': 'Innove'}] \n",
      "\n",
      "[]\n"
     ]
    }
   ],
   "source": [
    "browser = webdriver.Chrome()\n",
    "browser.get('https://www.zhihu.com/explore')\n",
    "print(browser.get_cookies(), '\\n')\n",
    "browser.add_cookie({'name':'name', 'domain':'www.zhihu.com', 'value':'Innove'})\n",
    "print(browser.get_cookies(), '\\n')\n",
    "browser.delete_all_cookies()\n",
    "print(browser.get_cookies())"
   ]
  },
  {
   "cell_type": "markdown",
   "metadata": {},
   "source": [
    "## 选项卡管理"
   ]
  },
  {
   "cell_type": "code",
   "execution_count": 41,
   "metadata": {},
   "outputs": [
    {
     "name": "stdout",
     "output_type": "stream",
     "text": [
      "['CDwindow-1B2597BCEA8FF94402124A0989AD627C', 'CDwindow-A1BD21600AB5937534F03537301D2709']\n"
     ]
    }
   ],
   "source": [
    "browser = webdriver.Chrome()\n",
    "browser.get('https://www.baidu.com')\n",
    "browser.execute_script('window.open()')\n",
    "print(browser.window_handles)\n",
    "browser.switch_to_window(browser.window_handles[1])\n",
    "browser.get('https://www.taobao.com')\n",
    "time.sleep(1)\n",
    "browser.switch_to_window(browser.window_handles[0])\n",
    "browser.get('https:python.org')"
   ]
  },
  {
   "cell_type": "markdown",
   "metadata": {},
   "source": [
    "## 异常处理"
   ]
  },
  {
   "cell_type": "code",
   "execution_count": 39,
   "metadata": {},
   "outputs": [
    {
     "ename": "NoSuchElementException",
     "evalue": "Message: no such element: Unable to locate element: {\"method\":\"id\",\"selector\":\"hello\"}\n  (Session info: chrome=66.0.3359.117)\n  (Driver info: chromedriver=2.38.552522 (437e6fbedfa8762dec75e2c5b3ddb86763dc9dcb),platform=Windows NT 10.0.17133 x86_64)\n",
     "output_type": "error",
     "traceback": [
      "\u001b[1;31m---------------------------------------------------------------------------\u001b[0m",
      "\u001b[1;31mNoSuchElementException\u001b[0m                    Traceback (most recent call last)",
      "\u001b[1;32m<ipython-input-39-49035b6dbb51>\u001b[0m in \u001b[0;36m<module>\u001b[1;34m()\u001b[0m\n\u001b[0;32m      1\u001b[0m \u001b[0mbrowser\u001b[0m \u001b[1;33m=\u001b[0m \u001b[0mwebdriver\u001b[0m\u001b[1;33m.\u001b[0m\u001b[0mChrome\u001b[0m\u001b[1;33m(\u001b[0m\u001b[1;33m)\u001b[0m\u001b[1;33m\u001b[0m\u001b[0m\n\u001b[0;32m      2\u001b[0m \u001b[0mbrowser\u001b[0m\u001b[1;33m.\u001b[0m\u001b[0mget\u001b[0m\u001b[1;33m(\u001b[0m\u001b[1;34m'https://www.baidu.com'\u001b[0m\u001b[1;33m)\u001b[0m\u001b[1;33m\u001b[0m\u001b[0m\n\u001b[1;32m----> 3\u001b[1;33m \u001b[0mbrowser\u001b[0m\u001b[1;33m.\u001b[0m\u001b[0mfind_element_by_id\u001b[0m\u001b[1;33m(\u001b[0m\u001b[1;34m'hello'\u001b[0m\u001b[1;33m)\u001b[0m\u001b[1;33m\u001b[0m\u001b[0m\n\u001b[0m",
      "\u001b[1;32mC:\\Anaconda\\lib\\site-packages\\selenium\\webdriver\\remote\\webdriver.py\u001b[0m in \u001b[0;36mfind_element_by_id\u001b[1;34m(self, id_)\u001b[0m\n\u001b[0;32m    349\u001b[0m             \u001b[0melement\u001b[0m \u001b[1;33m=\u001b[0m \u001b[0mdriver\u001b[0m\u001b[1;33m.\u001b[0m\u001b[0mfind_element_by_id\u001b[0m\u001b[1;33m(\u001b[0m\u001b[1;34m'foo'\u001b[0m\u001b[1;33m)\u001b[0m\u001b[1;33m\u001b[0m\u001b[0m\n\u001b[0;32m    350\u001b[0m         \"\"\"\n\u001b[1;32m--> 351\u001b[1;33m         \u001b[1;32mreturn\u001b[0m \u001b[0mself\u001b[0m\u001b[1;33m.\u001b[0m\u001b[0mfind_element\u001b[0m\u001b[1;33m(\u001b[0m\u001b[0mby\u001b[0m\u001b[1;33m=\u001b[0m\u001b[0mBy\u001b[0m\u001b[1;33m.\u001b[0m\u001b[0mID\u001b[0m\u001b[1;33m,\u001b[0m \u001b[0mvalue\u001b[0m\u001b[1;33m=\u001b[0m\u001b[0mid_\u001b[0m\u001b[1;33m)\u001b[0m\u001b[1;33m\u001b[0m\u001b[0m\n\u001b[0m\u001b[0;32m    352\u001b[0m \u001b[1;33m\u001b[0m\u001b[0m\n\u001b[0;32m    353\u001b[0m     \u001b[1;32mdef\u001b[0m \u001b[0mfind_elements_by_id\u001b[0m\u001b[1;33m(\u001b[0m\u001b[0mself\u001b[0m\u001b[1;33m,\u001b[0m \u001b[0mid_\u001b[0m\u001b[1;33m)\u001b[0m\u001b[1;33m:\u001b[0m\u001b[1;33m\u001b[0m\u001b[0m\n",
      "\u001b[1;32mC:\\Anaconda\\lib\\site-packages\\selenium\\webdriver\\remote\\webdriver.py\u001b[0m in \u001b[0;36mfind_element\u001b[1;34m(self, by, value)\u001b[0m\n\u001b[0;32m    953\u001b[0m         return self.execute(Command.FIND_ELEMENT, {\n\u001b[0;32m    954\u001b[0m             \u001b[1;34m'using'\u001b[0m\u001b[1;33m:\u001b[0m \u001b[0mby\u001b[0m\u001b[1;33m,\u001b[0m\u001b[1;33m\u001b[0m\u001b[0m\n\u001b[1;32m--> 955\u001b[1;33m             'value': value})['value']\n\u001b[0m\u001b[0;32m    956\u001b[0m \u001b[1;33m\u001b[0m\u001b[0m\n\u001b[0;32m    957\u001b[0m     \u001b[1;32mdef\u001b[0m \u001b[0mfind_elements\u001b[0m\u001b[1;33m(\u001b[0m\u001b[0mself\u001b[0m\u001b[1;33m,\u001b[0m \u001b[0mby\u001b[0m\u001b[1;33m=\u001b[0m\u001b[0mBy\u001b[0m\u001b[1;33m.\u001b[0m\u001b[0mID\u001b[0m\u001b[1;33m,\u001b[0m \u001b[0mvalue\u001b[0m\u001b[1;33m=\u001b[0m\u001b[1;32mNone\u001b[0m\u001b[1;33m)\u001b[0m\u001b[1;33m:\u001b[0m\u001b[1;33m\u001b[0m\u001b[0m\n",
      "\u001b[1;32mC:\\Anaconda\\lib\\site-packages\\selenium\\webdriver\\remote\\webdriver.py\u001b[0m in \u001b[0;36mexecute\u001b[1;34m(self, driver_command, params)\u001b[0m\n\u001b[0;32m    310\u001b[0m         \u001b[0mresponse\u001b[0m \u001b[1;33m=\u001b[0m \u001b[0mself\u001b[0m\u001b[1;33m.\u001b[0m\u001b[0mcommand_executor\u001b[0m\u001b[1;33m.\u001b[0m\u001b[0mexecute\u001b[0m\u001b[1;33m(\u001b[0m\u001b[0mdriver_command\u001b[0m\u001b[1;33m,\u001b[0m \u001b[0mparams\u001b[0m\u001b[1;33m)\u001b[0m\u001b[1;33m\u001b[0m\u001b[0m\n\u001b[0;32m    311\u001b[0m         \u001b[1;32mif\u001b[0m \u001b[0mresponse\u001b[0m\u001b[1;33m:\u001b[0m\u001b[1;33m\u001b[0m\u001b[0m\n\u001b[1;32m--> 312\u001b[1;33m             \u001b[0mself\u001b[0m\u001b[1;33m.\u001b[0m\u001b[0merror_handler\u001b[0m\u001b[1;33m.\u001b[0m\u001b[0mcheck_response\u001b[0m\u001b[1;33m(\u001b[0m\u001b[0mresponse\u001b[0m\u001b[1;33m)\u001b[0m\u001b[1;33m\u001b[0m\u001b[0m\n\u001b[0m\u001b[0;32m    313\u001b[0m             response['value'] = self._unwrap_value(\n\u001b[0;32m    314\u001b[0m                 response.get('value', None))\n",
      "\u001b[1;32mC:\\Anaconda\\lib\\site-packages\\selenium\\webdriver\\remote\\errorhandler.py\u001b[0m in \u001b[0;36mcheck_response\u001b[1;34m(self, response)\u001b[0m\n\u001b[0;32m    240\u001b[0m                 \u001b[0malert_text\u001b[0m \u001b[1;33m=\u001b[0m \u001b[0mvalue\u001b[0m\u001b[1;33m[\u001b[0m\u001b[1;34m'alert'\u001b[0m\u001b[1;33m]\u001b[0m\u001b[1;33m.\u001b[0m\u001b[0mget\u001b[0m\u001b[1;33m(\u001b[0m\u001b[1;34m'text'\u001b[0m\u001b[1;33m)\u001b[0m\u001b[1;33m\u001b[0m\u001b[0m\n\u001b[0;32m    241\u001b[0m             \u001b[1;32mraise\u001b[0m \u001b[0mexception_class\u001b[0m\u001b[1;33m(\u001b[0m\u001b[0mmessage\u001b[0m\u001b[1;33m,\u001b[0m \u001b[0mscreen\u001b[0m\u001b[1;33m,\u001b[0m \u001b[0mstacktrace\u001b[0m\u001b[1;33m,\u001b[0m \u001b[0malert_text\u001b[0m\u001b[1;33m)\u001b[0m\u001b[1;33m\u001b[0m\u001b[0m\n\u001b[1;32m--> 242\u001b[1;33m         \u001b[1;32mraise\u001b[0m \u001b[0mexception_class\u001b[0m\u001b[1;33m(\u001b[0m\u001b[0mmessage\u001b[0m\u001b[1;33m,\u001b[0m \u001b[0mscreen\u001b[0m\u001b[1;33m,\u001b[0m \u001b[0mstacktrace\u001b[0m\u001b[1;33m)\u001b[0m\u001b[1;33m\u001b[0m\u001b[0m\n\u001b[0m\u001b[0;32m    243\u001b[0m \u001b[1;33m\u001b[0m\u001b[0m\n\u001b[0;32m    244\u001b[0m     \u001b[1;32mdef\u001b[0m \u001b[0m_value_or_default\u001b[0m\u001b[1;33m(\u001b[0m\u001b[0mself\u001b[0m\u001b[1;33m,\u001b[0m \u001b[0mobj\u001b[0m\u001b[1;33m,\u001b[0m \u001b[0mkey\u001b[0m\u001b[1;33m,\u001b[0m \u001b[0mdefault\u001b[0m\u001b[1;33m)\u001b[0m\u001b[1;33m:\u001b[0m\u001b[1;33m\u001b[0m\u001b[0m\n",
      "\u001b[1;31mNoSuchElementException\u001b[0m: Message: no such element: Unable to locate element: {\"method\":\"id\",\"selector\":\"hello\"}\n  (Session info: chrome=66.0.3359.117)\n  (Driver info: chromedriver=2.38.552522 (437e6fbedfa8762dec75e2c5b3ddb86763dc9dcb),platform=Windows NT 10.0.17133 x86_64)\n"
     ]
    }
   ],
   "source": [
    "browser = webdriver.Chrome()\n",
    "browser.get('https://www.baidu.com')\n",
    "browser.find_element_by_id('hello')"
   ]
  },
  {
   "cell_type": "code",
   "execution_count": 46,
   "metadata": {},
   "outputs": [
    {
     "name": "stdout",
     "output_type": "stream",
     "text": [
      "No Element\n"
     ]
    }
   ],
   "source": [
    "from selenium.common.exceptions import TimeoutException, NoSuchElementException\n",
    "\n",
    "browser = webdriver.Chrome()\n",
    "try:\n",
    "    browser.get('https://www.baidu.com')\n",
    "except TimeoutException:\n",
    "    print('Time out')\n",
    "try:\n",
    "    browser.find_element_by_id('hello')\n",
    "except NoSuchElementException:\n",
    "    print('No Element')\n",
    "finally:\n",
    "    browser.close()"
   ]
  },
  {
   "cell_type": "markdown",
   "metadata": {},
   "source": [
    "详细文档：http://selenium-python.readthedocs.io/api.html#module-selenium.common.exceptions"
   ]
  }
 ],
 "metadata": {
  "kernelspec": {
   "display_name": "Python 3",
   "language": "python",
   "name": "python3"
  },
  "language_info": {
   "codemirror_mode": {
    "name": "ipython",
    "version": 3
   },
   "file_extension": ".py",
   "mimetype": "text/x-python",
   "name": "python",
   "nbconvert_exporter": "python",
   "pygments_lexer": "ipython3",
   "version": "3.6.5"
  }
 },
 "nbformat": 4,
 "nbformat_minor": 2
}
