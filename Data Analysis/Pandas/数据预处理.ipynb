{
 "cells": [
  {
   "cell_type": "code",
   "execution_count": 24,
   "metadata": {
    "scrolled": true
   },
   "outputs": [
    {
     "name": "stdout",
     "output_type": "stream",
     "text": [
      "['Reporting Week', 'Sail Year', 'Sail Month', 'F Pol Dep Time Id', 'L Pod Arr Time Id', 'Primary Svvd Close Date', 'Cgo Trade Cde', 'Cgo Trade Lane Cde', 'Shipment DIR', 'BPM Sales Region', 'BPM Sales Ofce Cde', 'BPM Local Region', 'Orig Ofce Cde', 'Primary Svvd Id', 'F Base Pol Svvd', 'L Base Pod Svvd', 'F Pol Svvd', 'L Pod Svvd', 'Trckg Grp Ref Cde', 'Bl Ref Cde', 'Sc Num', 'AGMT NUM', 'Agreement Creator', 'Agreement Approver', 'TEU', 'Freight Revenue', 'Orig City Nme', 'Orig State', 'Orig Country Nme', 'Dest City Nme', 'Dest State', 'Dest Country Nme', 'F Pol Nme', 'L Pod Nme', 'F Base Pol Nme', 'L Base Pod Nme', 'Cntr Type', 'Cgo Nature Cde', 'Sales Rep Code', 'Sales Name', 'SCTD IND', 'Freight  Revenue Type', 'Shipper Cde', 'Shipper Nme', 'Consign Cde', 'Consign Nme', 'Forward Cde', 'Forward Name', 'Ctrct Ctrl Pty Cde', 'Ctrct Ctrl Pty Name', 'BOUND', 'Contrib1', 'Contrib2', 'Contrib3', 'Net Freight', 'Cust ID', 'Cust Main Name', 'SOC IND', 'Intra river Ind', 'Trade Division', 'Booking Party Code', 'Booking Party Name', 'Dest Region', 'Booking Office', 'Account Scale', 'BCO_NVO', 'Industry', 'FOB IND', 'CNTR TYPE GRP', 'Region GRP Main Nme', 'GBL Grp Main Nme', 'BPM Sales Country', 'F_POL_DEP_TIME_ID', 'INLAND_CGO_ID', 'SC_COMMODITY_GROUP', 'C3 Adjustment', 'Dest Office', 'Commodity Group', '品名', 'Primary SVVD Season Type']\n",
      "   Reporting Week  Sail Year  Sail Month  F Pol Dep Time Id  \\\n",
      "0          201701       2017           1           20170101   \n",
      "1          201701       2017           1           20170101   \n",
      "2          201701       2017           1           20170101   \n",
      "\n",
      "   L Pod Arr Time Id  Primary Svvd Close Date Cgo Trade Cde  \\\n",
      "0           20160105               20170101.0           ICT   \n",
      "1           20160105               20170101.0           ICT   \n",
      "2           20160105               20170101.0           ICT   \n",
      "\n",
      "  Cgo Trade Lane Cde Shipment DIR BPM Sales Region            ...             \\\n",
      "0                ICT            S            B.XMN            ...              \n",
      "1                ICT            S            B.XMN            ...              \n",
      "2                ICT            S            B.XMN            ...              \n",
      "\n",
      "  GBL Grp Main Nme BPM Sales Country F_POL_DEP_TIME_ID INLAND_CGO_ID  \\\n",
      "0              NaN             China          20170101             1   \n",
      "1              NaN             China          20170101             1   \n",
      "2              NaN             China          20170101             1   \n",
      "\n",
      "  SC_COMMODITY_GROUP C3 Adjustment Dest Office Commodity Group   品名  \\\n",
      "0                NaN        278.22         ZUH             NaN  NaN   \n",
      "1                NaN         28.77         ZUH             NaN  NaN   \n",
      "2                NaN        108.79         ZUH             NaN  NaN   \n",
      "\n",
      "   Primary SVVD Season Type  \n",
      "0                       NaN  \n",
      "1                       NaN  \n",
      "2                       NaN  \n",
      "\n",
      "[3 rows x 80 columns]\n"
     ]
    }
   ],
   "source": [
    "import pandas\n",
    "info = pandas.read_csv('data.csv')\n",
    "col_names = info.columns.tolist()\n",
    "print(col_names)\n",
    "print(info.head(3))"
   ]
  },
  {
   "cell_type": "raw",
   "metadata": {},
   "source": []
  }
 ],
 "metadata": {
  "kernelspec": {
   "display_name": "Python 3",
   "language": "python",
   "name": "python3"
  },
  "language_info": {
   "codemirror_mode": {
    "name": "ipython",
    "version": 3
   },
   "file_extension": ".py",
   "mimetype": "text/x-python",
   "name": "python",
   "nbconvert_exporter": "python",
   "pygments_lexer": "ipython3",
   "version": "3.6.6"
  }
 },
 "nbformat": 4,
 "nbformat_minor": 2
}
