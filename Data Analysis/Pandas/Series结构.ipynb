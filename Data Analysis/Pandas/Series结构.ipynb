{
 "cells": [
  {
   "cell_type": "code",
   "execution_count": 1,
   "metadata": {},
   "outputs": [],
   "source": [
    "# Series (collection of values)\n",
    "# DataFrame (collection of Series objects)"
   ]
  },
  {
   "cell_type": "code",
   "execution_count": 2,
   "metadata": {
    "scrolled": true
   },
   "outputs": [
    {
     "name": "stdout",
     "output_type": "stream",
     "text": [
      "   Reporting Week  Sail Year  Sail Month  F Pol Dep Time Id  \\\n",
      "0          201701       2017           1           20170101   \n",
      "1          201701       2017           1           20170101   \n",
      "2          201701       2017           1           20170101   \n",
      "3          201701       2017           1           20170101   \n",
      "\n",
      "   L Pod Arr Time Id  Primary Svvd Close Date Cgo Trade Cde  \\\n",
      "0           20160105               20170101.0           ICT   \n",
      "1           20160105               20170101.0           ICT   \n",
      "2           20160105               20170101.0           ICT   \n",
      "3           20160105               20170101.0           ICT   \n",
      "\n",
      "  Cgo Trade Lane Cde Shipment DIR BPM Sales Region            ...             \\\n",
      "0                ICT            S            B.XMN            ...              \n",
      "1                ICT            S            B.XMN            ...              \n",
      "2                ICT            S            B.XMN            ...              \n",
      "3                ICT            S            B.XMN            ...              \n",
      "\n",
      "  GBL Grp Main Nme BPM Sales Country F_POL_DEP_TIME_ID INLAND_CGO_ID  \\\n",
      "0              NaN             China          20170101             1   \n",
      "1              NaN             China          20170101             1   \n",
      "2              NaN             China          20170101             1   \n",
      "3              NaN             China          20170101             1   \n",
      "\n",
      "  SC_COMMODITY_GROUP C3 Adjustment Dest Office Commodity Group   品名  \\\n",
      "0                NaN        278.22         ZUH             NaN  NaN   \n",
      "1                NaN         28.77         ZUH             NaN  NaN   \n",
      "2                NaN        108.79         ZUH             NaN  NaN   \n",
      "3                NaN         26.58         ZUH             NaN  NaN   \n",
      "\n",
      "   Primary SVVD Season Type  \n",
      "0                       NaN  \n",
      "1                       NaN  \n",
      "2                       NaN  \n",
      "3                       NaN  \n",
      "\n",
      "[4 rows x 80 columns]\n"
     ]
    }
   ],
   "source": [
    "import pandas as pd\n",
    "data = pd.read_csv('data.csv')\n",
    "print(data.loc[:3])"
   ]
  },
  {
   "cell_type": "code",
   "execution_count": 7,
   "metadata": {
    "scrolled": true
   },
   "outputs": [
    {
     "name": "stdout",
     "output_type": "stream",
     "text": [
      "<class 'pandas.core.series.Series'>\n",
      "0     1\n",
      "1     1\n",
      "2     1\n",
      "3     1\n",
      "4     1\n",
      "5     1\n",
      "6     1\n",
      "7     1\n",
      "8     1\n",
      "9     1\n",
      "10    1\n",
      "11    1\n",
      "12    1\n",
      "13    1\n",
      "14    1\n",
      "15    1\n",
      "16    1\n",
      "17    1\n",
      "18    1\n",
      "19    1\n",
      "Name: Sail Month, dtype: int64\n",
      "0            China\n",
      "1            China\n",
      "2            China\n",
      "3            China\n",
      "4            China\n",
      "5        Indonesia\n",
      "6        Indonesia\n",
      "7        Indonesia\n",
      "8        Indonesia\n",
      "9        Indonesia\n",
      "10       Indonesia\n",
      "11       Indonesia\n",
      "12       Indonesia\n",
      "13       Indonesia\n",
      "14       Indonesia\n",
      "15       Indonesia\n",
      "16       Indonesia\n",
      "17       Indonesia\n",
      "18    Saudi Arabia\n",
      "19    Saudi Arabia\n",
      "Name: BPM Sales Country, dtype: object\n"
     ]
    }
   ],
   "source": [
    "series_sm = data['Sail Month']\n",
    "print(type(series_sm))\n",
    "print(series_sm[0:20])\n",
    "series_bsc = data['BPM Sales Country']\n",
    "print(series_bsc[0:20])"
   ]
  },
  {
   "cell_type": "code",
   "execution_count": 13,
   "metadata": {
    "scrolled": true
   },
   "outputs": [
    {
     "name": "stdout",
     "output_type": "stream",
     "text": [
      "Indonesia    1\n",
      "Indonesia    1\n",
      "Indonesia    1\n",
      "Indonesia    1\n",
      "Indonesia    1\n",
      "dtype: int64\n"
     ]
    }
   ],
   "source": [
    "# Import the Series object from pandas\n",
    "from pandas import Series\n",
    "\n",
    "sm = series_sm.values\n",
    "# print(type(sm))\n",
    "# print(sm)\n",
    "bsc = series_bsc.values\n",
    "# print(bsc)\n",
    "series_custom = Series(sm, index=bsc)\n",
    "series_custom[['Indonesia', 'Saudi Arabia']]\n",
    "fiveten = series_custom[5:10]\n",
    "print(fiveten)"
   ]
  },
  {
   "cell_type": "code",
   "execution_count": null,
   "metadata": {},
   "outputs": [],
   "source": [
    "original_index = series_custom.index.tolist()\n",
    "# print(original_index)\n",
    "sorted_index = sorted(original_index)\n",
    "sorted_by_index = series_custom.reindex(sorted_index)\n",
    "print(sorted_by_index)"
   ]
  },
  {
   "cell_type": "code",
   "execution_count": 18,
   "metadata": {
    "scrolled": true
   },
   "outputs": [
    {
     "name": "stdout",
     "output_type": "stream",
     "text": [
      "China    1\n",
      "China    1\n",
      "China    1\n",
      "China    1\n",
      "China    1\n",
      "China    1\n",
      "China    1\n",
      "China    1\n",
      "China    1\n",
      "China    1\n",
      "dtype: int64\n",
      "China      1\n",
      "Ecuador    1\n",
      "Peru       1\n",
      "Peru       1\n",
      "Panama     1\n",
      "Panama     1\n",
      "China      1\n",
      "Ecuador    1\n",
      "China      1\n",
      "China      1\n",
      "dtype: int64\n"
     ]
    }
   ],
   "source": [
    "sc2 = series_custom.sort_index()\n",
    "sc3 = series_custom.sort_values()\n",
    "print(sc2[0:10])\n",
    "print(sc3[0:10])"
   ]
  },
  {
   "cell_type": "code",
   "execution_count": 22,
   "metadata": {},
   "outputs": [
    {
     "data": {
      "text/plain": [
       "1"
      ]
     },
     "execution_count": 22,
     "metadata": {},
     "output_type": "execute_result"
    }
   ],
   "source": [
    "# The values in a Series object are treated as an ndarray, the core data type in NumPy\n",
    "import numpy as np\n",
    "# Add each value with each other\n",
    "# print(np.add(series_custom, series_custom))\n",
    "# Apply sine function to each value\n",
    "# np.sin(series_custom)\n",
    "# Return the highest value (will return a single value not a Series)\n",
    "np.max(series_custom)"
   ]
  },
  {
   "cell_type": "code",
   "execution_count": null,
   "metadata": {},
   "outputs": [],
   "source": [
    "#will actually return a Series object with a boolean value for each film\n",
    "series_custom > 50\n",
    "series_greater_than_50 = series_custom[series_custom > 50]\n",
    "\n",
    "criteria_one = series_custom > 50\n",
    "criteria_two = series_custom < 75\n",
    "both_criteria = series_custom[criteria_one & criteria_two]\n",
    "print(both_criteria)"
   ]
  },
  {
   "cell_type": "code",
   "execution_count": null,
   "metadata": {},
   "outputs": [],
   "source": [
    "# data alignment same index\n",
    "rt_critics = Series(data['BPM Sales Country'].values, index=data['Sail Month'])\n",
    "rt_users = Series(data['Sail Month'].values, index=data['BPM Sales Country'])\n",
    "rt_mean = (rt_critics + rt_users)/2\n",
    "\n",
    "print(rt_mean)"
   ]
  }
 ],
 "metadata": {
  "kernelspec": {
   "display_name": "Python 3",
   "language": "python",
   "name": "python3"
  },
  "language_info": {
   "codemirror_mode": {
    "name": "ipython",
    "version": 3
   },
   "file_extension": ".py",
   "mimetype": "text/x-python",
   "name": "python",
   "nbconvert_exporter": "python",
   "pygments_lexer": "ipython3",
   "version": "3.6.6"
  }
 },
 "nbformat": 4,
 "nbformat_minor": 2
}
