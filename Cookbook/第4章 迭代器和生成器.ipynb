{
 "cells": [
  {
   "cell_type": "markdown",
   "metadata": {},
   "source": [
    "## 4.1 手动访问迭代器中的元素\n",
    "\n",
    "### 问题\n",
    "\n",
    "我们需要处理某个可迭代对象中的元素，但是基于某种原因不能也不想使用 for 循环\n",
    "\n",
    "### 解决方案\n",
    "\n",
    "使用 next() 函数，然后自己编写代码来捕获 StopIteration 异常"
   ]
  },
  {
   "cell_type": "code",
   "execution_count": 1,
   "metadata": {},
   "outputs": [
    {
     "name": "stdout",
     "output_type": "stream",
     "text": [
      "123"
     ]
    }
   ],
   "source": [
    "items = [1, 2, 3]\n",
    "it = iter(items)\n",
    "try:\n",
    "    while True:\n",
    "        line = next(it)\n",
    "        print(line, end='')\n",
    "except StopIteration:\n",
    "    pass"
   ]
  },
  {
   "cell_type": "code",
   "execution_count": 3,
   "metadata": {},
   "outputs": [
    {
     "data": {
      "text/plain": [
       "1"
      ]
     },
     "execution_count": 3,
     "metadata": {},
     "output_type": "execute_result"
    }
   ],
   "source": [
    "it = iter(items)  # Invokes items.__iter__()\n",
    "next(it)  # Invokes it.__next__()"
   ]
  },
  {
   "cell_type": "markdown",
   "metadata": {},
   "source": [
    "## 4.2 委托迭代\n",
    "\n",
    "### 问题\n",
    "\n",
    "我们构建了一个自定义的容器对象，其内部持有一个列表、元组或其他的可迭代对象。我们想让自己的新容器能够完成迭代操作\n",
    "\n",
    "### 解决方案\n",
    "\n",
    "一般来说，我们所要做的就是定义一个 \\_\\_iter\\_\\_() 方法，将迭代请求委托到对象内部持有的容器上"
   ]
  },
  {
   "cell_type": "code",
   "execution_count": 8,
   "metadata": {},
   "outputs": [
    {
     "name": "stdout",
     "output_type": "stream",
     "text": [
      "Node(1)\n",
      "Node(2)\n"
     ]
    }
   ],
   "source": [
    "class Node:\n",
    "    def __init__(self, value):\n",
    "        self._value = value\n",
    "        self._children = []\n",
    "        \n",
    "    def __repr__(self):\n",
    "        return 'Node({!r})'.format(self._value)\n",
    "    \n",
    "    def add_child(self, node):\n",
    "        self._children.append(node)\n",
    "    \n",
    "    def __iter__(self):\n",
    "        return iter(self._children)\n",
    "    \n",
    "if __name__ == '__main__':\n",
    "    root = Node(0)\n",
    "    child1 = Node(1)\n",
    "    child2 = Node(2)\n",
    "    root.add_child(child1)\n",
    "    root.add_child(child2)\n",
    "    for ch in root:\n",
    "        print(ch)"
   ]
  },
  {
   "cell_type": "markdown",
   "metadata": {},
   "source": [
    "### 讨论\n",
    "\n",
    "Python 的迭代协议要求 \\_\\_iter\\_\\_() 返回一个特殊的迭代器对象，由该对象实现的 \\_\\_next\\_\\_() 方法来完成实际的迭代。如果要做的只是迭代另一个容器中的内容，我们不必担心底层细节是如何工作的，所要做的就是转发迭代请求。"
   ]
  },
  {
   "cell_type": "markdown",
   "metadata": {},
   "source": [
    "## 4.3 用生成器创建新的迭代模式\n",
    "\n",
    "### 问题\n",
    "\n",
    "我们想实现一个自定义的迭代模式，使其区别于常见的内建函数（即 range()、reversed() 等）\n",
    "\n",
    "### 解决方案\n",
    "\n",
    "可使用生成器函数来定义"
   ]
  },
  {
   "cell_type": "code",
   "execution_count": 10,
   "metadata": {},
   "outputs": [
    {
     "name": "stdout",
     "output_type": "stream",
     "text": [
      "0\n",
      "0.5\n",
      "1.0\n",
      "1.5\n",
      "2.0\n",
      "2.5\n",
      "3.0\n",
      "3.5\n"
     ]
    }
   ],
   "source": [
    "def frange(start, stop, increment):\n",
    "    x = start\n",
    "    while x < stop:\n",
    "        yield x\n",
    "        x += increment\n",
    "\n",
    "for n in frange(0, 4, 0.5):\n",
    "    print(n)"
   ]
  },
  {
   "cell_type": "code",
   "execution_count": 21,
   "metadata": {},
   "outputs": [
    {
     "name": "stdout",
     "output_type": "stream",
     "text": [
      "2\n",
      "3\n",
      "5\n",
      "7\n",
      "11\n",
      "13\n",
      "17\n",
      "19\n",
      "23\n",
      "29\n",
      "31\n",
      "37\n",
      "41\n",
      "43\n",
      "47\n",
      "53\n",
      "59\n",
      "61\n",
      "67\n",
      "71\n",
      "73\n",
      "79\n",
      "83\n",
      "89\n",
      "97\n"
     ]
    }
   ],
   "source": [
    "class PrimeNumbers:\n",
    "    def __init__(self, start, end):\n",
    "        self.start = start\n",
    "        self.end = end\n",
    "        \n",
    "    def isPrimeNum(self, k):\n",
    "        if k < 2:\n",
    "            return False\n",
    "        \n",
    "        for i in range(2, int(k**(1/2))+1):\n",
    "            if k % i == 0:\n",
    "                return False\n",
    "        return True\n",
    "    \n",
    "    def __iter__(self):\n",
    "        for k in range(self.start, self.end + 1):\n",
    "            if self.isPrimeNum(k):\n",
    "                yield k\n",
    "\n",
    "for x in PrimeNumbers(1, 100):\n",
    "    print(x)"
   ]
  },
  {
   "cell_type": "markdown",
   "metadata": {},
   "source": [
    "## 4.4 实现迭代协议\n",
    "\n",
    "### 问题\n",
    "\n",
    "我们正在构建一个自定义的对象，希望它可以支持迭代操作，但是也希望能有一种简单的方式来实现迭代协议\n",
    "\n",
    "### 解决方案\n",
    "\n",
    "要在对象上实现可迭代功能，最简单的方式就是使用生成器函数"
   ]
  },
  {
   "cell_type": "code",
   "execution_count": 22,
   "metadata": {},
   "outputs": [
    {
     "name": "stdout",
     "output_type": "stream",
     "text": [
      "Node(0)\n",
      "Node(1)\n",
      "Node(3)\n",
      "Node(4)\n",
      "Node(2)\n",
      "Node(5)\n"
     ]
    }
   ],
   "source": [
    "class Node:\n",
    "    def __init__(self, value):\n",
    "        self._value = value\n",
    "        self._children = []\n",
    "        \n",
    "    def __repr__(self):\n",
    "        return 'Node({!r})'.format(self._value)\n",
    "    \n",
    "    def add_child(self, node):\n",
    "        self._children.append(node)\n",
    "        \n",
    "    def __iter__(self):\n",
    "        return iter(self._children)\n",
    "    \n",
    "    def depth_first(self):\n",
    "        yield self\n",
    "        for c in self:\n",
    "            yield from c.depth_first()\n",
    "            \n",
    "# Example\n",
    "if __name__ == '__main__':\n",
    "    root = Node(0)\n",
    "    child1 = Node(1)\n",
    "    child2 = Node(2)\n",
    "    root.add_child(child1)\n",
    "    root.add_child(child2)\n",
    "    child1.add_child(Node(3))\n",
    "    child1.add_child(Node(4))\n",
    "    child2.add_child(Node(5))\n",
    "    \n",
    "    for ch in root.depth_first():\n",
    "        print(ch)"
   ]
  },
  {
   "cell_type": "markdown",
   "metadata": {},
   "source": [
    "## 4.5 反向迭代\n",
    "\n",
    "### 问题\n",
    "\n",
    "我们想要反向迭代序列中的元素\n",
    "\n",
    "### 解决方案\n",
    "\n",
    "使用内建的 reversed() 函数实现反向迭代"
   ]
  },
  {
   "cell_type": "code",
   "execution_count": 23,
   "metadata": {},
   "outputs": [
    {
     "name": "stdout",
     "output_type": "stream",
     "text": [
      "4\n",
      "3\n",
      "2\n",
      "1\n"
     ]
    }
   ],
   "source": [
    "a = [1, 2, 3, 4]\n",
    "for x in reversed(a):\n",
    "    print(x)"
   ]
  },
  {
   "cell_type": "markdown",
   "metadata": {},
   "source": [
    "反向迭代只有在待处理的对象拥有可确定的大小，或者对象实现了\\_\\_reversed\\_\\_()特殊方法时，才能奏效。如果这两个条件无法满足，则必须首先将这个对象转换为列表。  \n",
    "但是这样可能会消耗大量的内存，尤其是当可迭代对象较大时更是如此。  \n",
    "\n",
    "### 讨论\n",
    "\n",
    "如果实现了\\_\\_reversed\\_\\_()方法，那么就可以在自定义的类上实现反向迭代。示例如下："
   ]
  },
  {
   "cell_type": "code",
   "execution_count": 24,
   "metadata": {},
   "outputs": [
    {
     "name": "stdout",
     "output_type": "stream",
     "text": [
      "1.0\n",
      "1.5\n",
      "2.0\n",
      "2.5\n",
      "3.0\n",
      "3.5\n",
      "4.0\n",
      "\n",
      "4.0\n",
      "3.5\n",
      "3.0\n",
      "2.5\n",
      "2.0\n",
      "1.5\n",
      "1.0\n"
     ]
    }
   ],
   "source": [
    "class FloatRange:\n",
    "    \n",
    "    def __init__(self, start, end, step=0.1):\n",
    "        self.start = start\n",
    "        self.end = end\n",
    "        self.step = step\n",
    "        \n",
    "    def __iter__(self):\n",
    "        t = self.start\n",
    "        while t <= self.end:\n",
    "            yield t\n",
    "            t += self.step\n",
    "    \n",
    "    def __reversed__(self):\n",
    "        t = self.end\n",
    "        while t >= self.start:\n",
    "            yield t\n",
    "            t -= self.step\n",
    "\n",
    "for x in FloatRange(1.0, 4.0, 0.5):\n",
    "    print(x)\n",
    "    \n",
    "print()\n",
    "for x in reversed(FloatRange(1.0, 4.0, 0.5)):\n",
    "    print(x)"
   ]
  },
  {
   "cell_type": "markdown",
   "metadata": {},
   "source": [
    "## 4.6 定义带有额外状态的生成器函数\n",
    "\n",
    "### 问题\n",
    "\n",
    "我们想定义一个生成器函数，但是它还涉及一些额外的状态，我们希望能以某种形式将这些状态暴露给用户\n",
    "\n",
    "### 解决方案\n",
    "\n",
    "可以轻易地将其实现为一个类，然后把生成器函数的代码放到\\_\\_iter\\_\\_()方法中"
   ]
  },
  {
   "cell_type": "code",
   "execution_count": 25,
   "metadata": {},
   "outputs": [],
   "source": [
    "from collections import deque\n",
    "\n",
    "class linehistory:\n",
    "    def __init__(self, lines, histlen=3):\n",
    "        self.lines = lines\n",
    "        self.history = deque(maxlen=histlen)\n",
    "        \n",
    "    def __iter__(self):\n",
    "        for lineno, line in enumerate(self.lines, 1):\n",
    "            self.history.append((lineno, line))\n",
    "            yield line\n",
    "        \n",
    "    def clear(self):\n",
    "        self.history.clear()\n",
    "        \n",
    "# TODO"
   ]
  },
  {
   "cell_type": "code",
   "execution_count": null,
   "metadata": {},
   "outputs": [],
   "source": [
    "with open('somefile.txt') as f:\n",
    "    lines = linehistory(f)\n",
    "    for line in lines:\n",
    "        if 'python' in line:\n",
    "            for lineno, hline in lines.history:\n",
    "                print(f'{lineno}:{hline}', end='')"
   ]
  },
  {
   "cell_type": "markdown",
   "metadata": {},
   "source": [
    "## 4.7 对迭代器做切片操作\n",
    "\n",
    "### 问题\n",
    "\n",
    "我们想对由迭代器产生的数据做切片处理，但是普通的切片操作符在这里不管用\n",
    "\n",
    "### 解决方案\n",
    "\n",
    "要对迭代器和生成器做切片操作，itertools.islice() 函数是完美的选择"
   ]
  },
  {
   "cell_type": "code",
   "execution_count": 1,
   "metadata": {},
   "outputs": [],
   "source": [
    "def count(n):\n",
    "    while True:\n",
    "        yield n\n",
    "        n += 1"
   ]
  },
  {
   "cell_type": "code",
   "execution_count": 2,
   "metadata": {},
   "outputs": [
    {
     "ename": "TypeError",
     "evalue": "'generator' object is not subscriptable",
     "output_type": "error",
     "traceback": [
      "\u001b[1;31m---------------------------------------------------------------------------\u001b[0m",
      "\u001b[1;31mTypeError\u001b[0m                                 Traceback (most recent call last)",
      "\u001b[1;32m<ipython-input-2-f10e38e8ee71>\u001b[0m in \u001b[0;36m<module>\u001b[1;34m\u001b[0m\n\u001b[0;32m      1\u001b[0m \u001b[0mc\u001b[0m \u001b[1;33m=\u001b[0m \u001b[0mcount\u001b[0m\u001b[1;33m(\u001b[0m\u001b[1;36m0\u001b[0m\u001b[1;33m)\u001b[0m\u001b[1;33m\u001b[0m\u001b[1;33m\u001b[0m\u001b[0m\n\u001b[1;32m----> 2\u001b[1;33m \u001b[0mc\u001b[0m\u001b[1;33m[\u001b[0m\u001b[1;36m10\u001b[0m\u001b[1;33m:\u001b[0m\u001b[1;36m20\u001b[0m\u001b[1;33m]\u001b[0m\u001b[1;33m\u001b[0m\u001b[1;33m\u001b[0m\u001b[0m\n\u001b[0m",
      "\u001b[1;31mTypeError\u001b[0m: 'generator' object is not subscriptable"
     ]
    }
   ],
   "source": [
    "c = count(0)\n",
    "c[10:20]"
   ]
  },
  {
   "cell_type": "code",
   "execution_count": 3,
   "metadata": {},
   "outputs": [
    {
     "name": "stdout",
     "output_type": "stream",
     "text": [
      "10\n",
      "11\n",
      "12\n",
      "13\n",
      "14\n",
      "15\n",
      "16\n",
      "17\n",
      "18\n",
      "19\n"
     ]
    }
   ],
   "source": [
    "import itertools\n",
    "for x in itertools.islice(c, 10, 20):\n",
    "    print(x)"
   ]
  },
  {
   "cell_type": "markdown",
   "metadata": {},
   "source": [
    "### 讨论\n",
    "\n",
    "islice() 产生的结果是一个迭代器，通过访问并丢弃所有起始索引之前的元素来实现。之后的元素会由 islice 对象产生出来，直到到达结束索引为止。\n",
    "\n",
    "islice() 会消耗掉所提供的迭代器中的数据。由于迭代器中的元素只能访问一次，如果之后还需要倒回去访问前面的数据，应该先将数据转到列表中去。"
   ]
  },
  {
   "cell_type": "markdown",
   "metadata": {},
   "source": [
    "## 4.8 跳过可迭代对象中的前一部分元素\n",
    "\n",
    "### 问题\n",
    "\n",
    "我们想对某个可迭代对象做迭代处理，但是对于前面几个元素并不感兴趣\n",
    "\n",
    "### 解决方案\n",
    "\n",
    "使用 itertools.dropwhile() 函数，提供一个函数和一个可迭代对象即可"
   ]
  },
  {
   "cell_type": "code",
   "execution_count": 4,
   "metadata": {},
   "outputs": [
    {
     "name": "stdout",
     "output_type": "stream",
     "text": [
      "abcdef\n",
      "xyz\n",
      "123"
     ]
    }
   ],
   "source": [
    "with open(r'C:\\Users\\Ph\\Jupyter_notebook\\高级编程技巧\\demo.txt') as f:\n",
    "    for line in f:\n",
    "        print(line, end='')"
   ]
  },
  {
   "cell_type": "code",
   "execution_count": 5,
   "metadata": {},
   "outputs": [
    {
     "name": "stdout",
     "output_type": "stream",
     "text": [
      "xyz\n",
      "123"
     ]
    }
   ],
   "source": [
    "from itertools import dropwhile\n",
    "with open(r'C:\\Users\\Ph\\Jupyter_notebook\\高级编程技巧\\demo.txt') as f:\n",
    "    for line in dropwhile(lambda line: line.startswith('abc'), f):\n",
    "        print(line, end='')"
   ]
  },
  {
   "cell_type": "markdown",
   "metadata": {},
   "source": [
    "如果恰好知道要跳过多少个元素，那么可以使用 itertools.islice() "
   ]
  },
  {
   "cell_type": "code",
   "execution_count": 6,
   "metadata": {},
   "outputs": [
    {
     "name": "stdout",
     "output_type": "stream",
     "text": [
      "1\n",
      "4\n",
      "10\n",
      "15\n"
     ]
    }
   ],
   "source": [
    "from itertools import islice\n",
    "items = ['a', 'b', 'c', 1, 4, 10, 15]\n",
    "for x in islice(items, 3, None):\n",
    "    print(x)"
   ]
  },
  {
   "cell_type": "markdown",
   "metadata": {},
   "source": [
    "## 4.9 迭代所有可能的组合或排列\n",
    "\n",
    "### 问题\n",
    "\n",
    "我们想对一系列元素所有可能的组合或排列进行迭代\n",
    "\n",
    "### 解决方案\n",
    "\n",
    "为了解决这个问题，itertools 模块中提供了3个函数。第一个是 itertools.permutations()——它接受一个元素集合，将其中所有的元素重排列为所有可能的情况，并以元组序列的形式返回"
   ]
  },
  {
   "cell_type": "code",
   "execution_count": 9,
   "metadata": {},
   "outputs": [
    {
     "name": "stdout",
     "output_type": "stream",
     "text": [
      "('a', 'b', 'c')\n",
      "('a', 'c', 'b')\n",
      "('b', 'a', 'c')\n",
      "('b', 'c', 'a')\n",
      "('c', 'a', 'b')\n",
      "('c', 'b', 'a')\n"
     ]
    }
   ],
   "source": [
    "items = ['a', 'b', 'c']\n",
    "from itertools import permutations\n",
    "for p in permutations(iters):\n",
    "    print(p)"
   ]
  },
  {
   "cell_type": "markdown",
   "metadata": {},
   "source": [
    "如果想得到较短长度的所有全排列，可以提供一个可选的长度参数"
   ]
  },
  {
   "cell_type": "code",
   "execution_count": 10,
   "metadata": {
    "scrolled": true
   },
   "outputs": [
    {
     "name": "stdout",
     "output_type": "stream",
     "text": [
      "('a', 'b')\n",
      "('a', 'c')\n",
      "('b', 'a')\n",
      "('b', 'c')\n",
      "('c', 'a')\n",
      "('c', 'b')\n"
     ]
    }
   ],
   "source": [
    "for p in permutations(items, 2):\n",
    "    print(p)"
   ]
  },
  {
   "cell_type": "markdown",
   "metadata": {},
   "source": [
    "使用 itertools.combinations() 可产生输入序列中所有元素的全部组合形式"
   ]
  },
  {
   "cell_type": "code",
   "execution_count": 11,
   "metadata": {},
   "outputs": [
    {
     "name": "stdout",
     "output_type": "stream",
     "text": [
      "('a', 'b', 'c')\n"
     ]
    }
   ],
   "source": [
    "from itertools import combinations\n",
    "for c in combinations(items, 3):\n",
    "    print(c)"
   ]
  },
  {
   "cell_type": "code",
   "execution_count": 12,
   "metadata": {},
   "outputs": [
    {
     "name": "stdout",
     "output_type": "stream",
     "text": [
      "('a', 'b')\n",
      "('a', 'c')\n",
      "('b', 'c')\n"
     ]
    }
   ],
   "source": [
    "for c in combinations(items, 2):\n",
    "    print(c)"
   ]
  },
  {
   "cell_type": "code",
   "execution_count": 13,
   "metadata": {},
   "outputs": [
    {
     "name": "stdout",
     "output_type": "stream",
     "text": [
      "('a',)\n",
      "('b',)\n",
      "('c',)\n"
     ]
    }
   ],
   "source": [
    "for c in combinations(items, 1):\n",
    "    print(c)"
   ]
  },
  {
   "cell_type": "markdown",
   "metadata": {},
   "source": [
    "若要允许相同的元素得到多次选择，则应使用 itertools.combinations_with_replacement() 函数"
   ]
  },
  {
   "cell_type": "code",
   "execution_count": 15,
   "metadata": {},
   "outputs": [
    {
     "name": "stdout",
     "output_type": "stream",
     "text": [
      "('a', 'a', 'a')\n",
      "('a', 'a', 'b')\n",
      "('a', 'a', 'c')\n",
      "('a', 'b', 'b')\n",
      "('a', 'b', 'c')\n",
      "('a', 'c', 'c')\n",
      "('b', 'b', 'b')\n",
      "('b', 'b', 'c')\n",
      "('b', 'c', 'c')\n",
      "('c', 'c', 'c')\n"
     ]
    }
   ],
   "source": [
    "from itertools import combinations_with_replacement\n",
    "for c in combinations_with_replacement(items, 3):\n",
    "    print(c)"
   ]
  },
  {
   "cell_type": "markdown",
   "metadata": {},
   "source": [
    "## 4.10 以索引-值对的形式迭代序列\n",
    "\n",
    "### 问题\n",
    "\n",
    "我们想迭代一个序列，但是又想记录下序列中当前处理到的元素索引\n",
    "\n",
    "### 解决方案\n",
    "\n",
    "内奸的 enumerate() 函数可以非常漂亮地解决这个问题"
   ]
  },
  {
   "cell_type": "code",
   "execution_count": 16,
   "metadata": {},
   "outputs": [
    {
     "name": "stdout",
     "output_type": "stream",
     "text": [
      "0 a\n",
      "1 b\n",
      "2 c\n"
     ]
    }
   ],
   "source": [
    "my_list = ['a', 'b', 'c']\n",
    "for idx, val in enumerate(my_list):\n",
    "    print(idx, val)"
   ]
  },
  {
   "cell_type": "code",
   "execution_count": 17,
   "metadata": {},
   "outputs": [
    {
     "name": "stdout",
     "output_type": "stream",
     "text": [
      "1 a\n",
      "2 b\n",
      "3 c\n"
     ]
    }
   ],
   "source": [
    "for idx, val in enumerate(my_list, start=1):\n",
    "    print(idx, val)"
   ]
  },
  {
   "cell_type": "markdown",
   "metadata": {},
   "source": [
    "## 4.11 同时迭代多个序列\n",
    "\n",
    "### 问题\n",
    "\n",
    "我们想要迭代的元素包含在多个序列中，我们想同时对它们进行迭代\n",
    "\n",
    "### 解决方案\n",
    "\n",
    "可以使用 zip() 函数来同时迭代多个序列"
   ]
  },
  {
   "cell_type": "code",
   "execution_count": 18,
   "metadata": {},
   "outputs": [
    {
     "name": "stdout",
     "output_type": "stream",
     "text": [
      "1 101\n",
      "5 78\n",
      "4 37\n",
      "2 15\n",
      "10 62\n",
      "7 99\n"
     ]
    }
   ],
   "source": [
    "xpts = [1, 5, 4, 2, 10, 7]\n",
    "ypts = [101, 78, 37, 15, 62, 99]\n",
    "for x, y in zip(xpts, ypts):\n",
    "    print(x, y)"
   ]
  },
  {
   "cell_type": "markdown",
   "metadata": {},
   "source": [
    "zip(a, b) 的工作原理是创建出一个迭代器，该迭代器可产生出元组（x，y）。整个迭代的长度和其中最短的输入序列长度相同"
   ]
  },
  {
   "cell_type": "code",
   "execution_count": 19,
   "metadata": {},
   "outputs": [
    {
     "name": "stdout",
     "output_type": "stream",
     "text": [
      "1 101 a\n",
      "5 78 c\n",
      "4 37 e\n",
      "2 15 f\n",
      "10 62 i\n",
      "7 99 s\n"
     ]
    }
   ],
   "source": [
    "zpts = ['a', 'c', 'e', 'f', 'i', 's']\n",
    "for x, y, z in zip(xpts, ypts, zpts):\n",
    "    print(x, y, z)"
   ]
  },
  {
   "cell_type": "code",
   "execution_count": 20,
   "metadata": {},
   "outputs": [
    {
     "name": "stdout",
     "output_type": "stream",
     "text": [
      "(1, 'q')\n",
      "(2, 'w')\n",
      "(3, 'e')\n",
      "(None, 'r')\n"
     ]
    }
   ],
   "source": [
    "from itertools import zip_longest\n",
    "a = [1, 2, 3]\n",
    "b = ['q', 'w', 'e', 'r']\n",
    "for i in zip_longest(a, b):\n",
    "    print(i)"
   ]
  },
  {
   "cell_type": "code",
   "execution_count": 22,
   "metadata": {},
   "outputs": [
    {
     "name": "stdout",
     "output_type": "stream",
     "text": [
      "{'a': 1, 'c': 5, 'e': 4, 'f': 2, 'i': 10, 's': 7}\n"
     ]
    }
   ],
   "source": [
    "s = dict(zip(zpts, xpts))\n",
    "print(s)"
   ]
  },
  {
   "cell_type": "code",
   "execution_count": 23,
   "metadata": {},
   "outputs": [
    {
     "name": "stdout",
     "output_type": "stream",
     "text": [
      "a = 1\n",
      "c = 5\n",
      "e = 4\n",
      "f = 2\n",
      "i = 10\n",
      "s = 7\n"
     ]
    }
   ],
   "source": [
    "for name, val in zip(zpts, xpts):\n",
    "    print(name, '=', val)"
   ]
  },
  {
   "cell_type": "markdown",
   "metadata": {},
   "source": [
    "## 4.12 在不同的容器中进行迭代\n",
    "\n",
    "### 问题\n",
    "\n",
    "我们需要对许多对象执行相同的操作，但是这些对象包含在不同的容器内，而我们希望可以避免写出嵌套的循环处理，保持代码的可读性\n",
    "\n",
    "### 解决方案\n",
    "\n",
    "itertools.chain() 方法可以用来简化这个任务"
   ]
  },
  {
   "cell_type": "code",
   "execution_count": 27,
   "metadata": {},
   "outputs": [
    {
     "name": "stdout",
     "output_type": "stream",
     "text": [
      "1\n",
      "2\n",
      "3\n",
      "4\n",
      "x\n",
      "y\n",
      "z\n"
     ]
    }
   ],
   "source": [
    "from itertools import chain\n",
    "a = [1, 2, 3, 4]\n",
    "b = ['x', 'y', 'z']\n",
    "for x in chain(a, b):\n",
    "    print(x)"
   ]
  },
  {
   "cell_type": "markdown",
   "metadata": {},
   "source": [
    "### 讨论\n",
    "\n",
    "itertools.chain() 可接受一个或多个可迭代对象作为参数，然后它会创建一个迭代器"
   ]
  },
  {
   "cell_type": "markdown",
   "metadata": {},
   "source": [
    "## 4.13 创建处理数据的管道\n",
    "\n",
    "### 问题\n",
    "\n",
    "我们想以流水线式的形式对数据进行迭代处理（pipeline）。比方说我们有海量的数据需要处理，但是没法完全将数据加载到内存中去\n",
    "\n",
    "### 解决方案\n",
    "\n",
    "生成器函数"
   ]
  },
  {
   "cell_type": "markdown",
   "metadata": {},
   "source": [
    "**代码部分见书 p135** "
   ]
  },
  {
   "cell_type": "markdown",
   "metadata": {},
   "source": [
    "## 4.14 扁平化处理嵌套型的序列\n",
    "\n",
    "### 问题\n",
    "\n",
    "我们有一个嵌套型的序列，想将它扁平化处理为一列单独的值\n",
    "\n",
    "### 解决方案\n",
    "\n",
    "写一个带有 yield from 语句的递归生成器函数来解决"
   ]
  },
  {
   "cell_type": "code",
   "execution_count": 28,
   "metadata": {
    "scrolled": true
   },
   "outputs": [
    {
     "name": "stdout",
     "output_type": "stream",
     "text": [
      "1\n",
      "2\n",
      "3\n",
      "4\n",
      "5\n",
      "6\n",
      "7\n",
      "8\n"
     ]
    }
   ],
   "source": [
    "from collections import Iterable\n",
    "\n",
    "def flatten(items, ignore_types=(str, bytes)):\n",
    "    for x in items:\n",
    "        if isinstance(x, Iterable) and not isinstance(x, ignore_types):\n",
    "            yield from flatten(x)\n",
    "        else:\n",
    "            yield x\n",
    "            \n",
    "items = [1, 2, [3, 4, [5, 6], 7], 8]\n",
    "for x in flatten(items):\n",
    "    print(x)"
   ]
  },
  {
   "cell_type": "code",
   "execution_count": 29,
   "metadata": {},
   "outputs": [
    {
     "name": "stdout",
     "output_type": "stream",
     "text": [
      "Dave\n",
      "Paula\n",
      "Thomas\n",
      "Lewis\n"
     ]
    }
   ],
   "source": [
    "items = ['Dave', 'Paula', ['Thomas', 'Lewis']]\n",
    "for x in flatten(items):\n",
    "    print(x)"
   ]
  },
  {
   "cell_type": "markdown",
   "metadata": {},
   "source": [
    "### 讨论\n",
    "\n",
    "如果想编写生成器用来把其他的生成器当成子例程调用，yield from 是个不错的快捷方式。如果不这么用，就需要编写有额外 for 循环的代码。"
   ]
  },
  {
   "cell_type": "markdown",
   "metadata": {},
   "source": [
    "## 4.15 合并多个有序序列，再对整个有序序列进行迭代\n",
    "\n",
    "### 问题\n",
    "\n",
    "我们有一组有序序列，想对它们合并在一起之后的有序序列进行迭代\n",
    "\n",
    "### 解决方案\n",
    "\n",
    "heapq.merge() 函数"
   ]
  },
  {
   "cell_type": "code",
   "execution_count": 30,
   "metadata": {},
   "outputs": [
    {
     "name": "stdout",
     "output_type": "stream",
     "text": [
      "1\n",
      "2\n",
      "4\n",
      "5\n",
      "6\n",
      "7\n",
      "10\n",
      "11\n"
     ]
    }
   ],
   "source": [
    "import heapq\n",
    "a = [1, 4, 7, 10]\n",
    "b = [2, 5, 6, 11]\n",
    "for c in heapq.merge(a, b):\n",
    "    print(c)"
   ]
  },
  {
   "cell_type": "markdown",
   "metadata": {},
   "source": [
    "## 4.16 用迭代器取代 while 循环\n",
    "\n",
    "### 问题\n",
    "\n",
    "我们的代码采用 while 循环来迭代处理数据，因为这其中涉及调用某个函数或有某种不常见的测试条件，而这些东西没法归类为常见的迭代模式\n",
    "\n",
    "### 解决方案\n",
    "\n",
    "内建函数 iter()"
   ]
  },
  {
   "cell_type": "code",
   "execution_count": 32,
   "metadata": {},
   "outputs": [],
   "source": [
    "CHUNKSIZE = 8192\n",
    "\n",
    "def reader(s):\n",
    "    while True:\n",
    "        data = s.recv(CHUNKSIZE)\n",
    "        if data == b'':\n",
    "            break\n",
    "        process_data(data)"
   ]
  },
  {
   "cell_type": "markdown",
   "metadata": {},
   "source": [
    "这样的代码常常可以用 iter() 来替换"
   ]
  },
  {
   "cell_type": "code",
   "execution_count": 33,
   "metadata": {},
   "outputs": [],
   "source": [
    "def reader(s):\n",
    "    for chunk in iter(lambda:s.recv(CHUNKSIZE), b''):\n",
    "        process_data(data)"
   ]
  },
  {
   "cell_type": "code",
   "execution_count": 36,
   "metadata": {},
   "outputs": [
    {
     "name": "stdout",
     "output_type": "stream",
     "text": [
      "Getting uuid of QR code.\n",
      "Downloading QR code.\n",
      "Please scan the QR code to log in.\n",
      "Please press confirm on your phone.\n",
      "Loading the contact, this may take a little while.\n",
      "Login successfully as 林清猫耳\n",
      "\f",
      "林清猫耳  1  但行好事  莫问前程<span class=\"emoji emoji1f388\"></span>\n",
      "南  2  自由且无用\n",
      "依然爱你  2 江西 \n",
      "吴遥  1 福建     Walk down\n",
      "毒情\" 周晨 2 江西 为什么那么难过却要说我很开心\n",
      "OSError(22, 'Invalid argument')\n",
      "通梦。  2  晤\n",
      "在一起 郑雅丽 2 江西 时光有过多少个爱人\n",
      "easyfuse blossom 陈涵薇 0  <span class=\"emoji emoji1f490\"></span>卖花的小姑娘( ˘•ω•˘ )ง提供鲜花解决方案\n",
      "林伟鸿  1 福建 \n",
      "陆清璃 王舒蓉 2 福建 HOW \n",
      "柱柱 吴玉柱 1  \n",
      "狂野逗逗仔  0  \n",
      "自渡 吴锦标 1 福建 您。\n",
      "多吃一些番茄 董亚飞 1 江西 毕竟阿\n",
      "泽川  0  \n",
      "曹晨星  1 浙江 我就点个赞\n",
      "谢佳瑜  2 福建 \n",
      "奔跑吧，韩宝酱～ 韩晨 2  \n",
      "张氏娱乐传媒  2  大号好友已满。小号kk000067\n",
      "汤镥锴  1 江西 先让自己变得优秀，再帮助别人优秀！\n",
      "愿时光温柔以待i  2  有生之年，狭路相逢，终不能幸免.\n",
      "张伟伟伟YY 张伟 1 福建 总有人很无聊、   \n",
      "逆流 徐泽灿 1 江西 …\n",
      "疯子的鞋铺  2 江西 主营一线运动品牌鞋服    精品货源   诚招代理\n",
      "HHB  1 江西 \n",
      "奇奇  2  美好的追求，残缺的接纳。\n",
      "占美清 占美清  0  \n",
      "绿草 MF8248 2 福建 \n",
      "生活就是拼博～刘炳岳  0  \n",
      "撒哈拉的骄阳  1 江苏 \n",
      "live 天线宝宝 0  \n",
      "王先进 王安宇 1 陕西 \n",
      "好福利_朋友圈  0  \n",
      "Truth K 柯增项 1 Munich \n",
      "大枣18792957570  0  \n",
      "Marsh 符凯凯 1  \n",
      "EliaC���� 浮梦崇华 2  \n",
      "bob 凌博 1 陕西 \n",
      "---可可欠--- 李歌 2 陕西 Smile always on line\n",
      "小蘑菇. 舒妮 2 Seoul 加油\n",
      "晨晨 小姑婆 0  \n",
      "Scott 赖森 1 New South Wales \n",
      "咪一咻 创意鲜饮（西电店）  1 陕西 \n",
      "沉在海底的浮萍 陈海平 1 Dubayy 世界可以很喧闹，但属于我的就是那份宁静\n",
      "麦田阳光 赵文武 1  \n",
      "此号少用 吴杰 1 Dubayy \n",
      "Damon 戴少梁 1 江西 \n",
      "夜虚言叶 舒珺琦 1  若能走，就别停留\n",
      "大型野生动物 吴雨桐 1 Dubayy 若遇七贤，比自把臂入林\n",
      "阿杰  1 江苏 时光真好，一流逝，就可以让人忘记很多东西。\n",
      "凯开只喝矿泉水 程书凯 1  \n",
      "~a  1 福建 \n",
      "Hy 黄莹学姐 2 陕西 脆弱累积成担当\n",
      "Low pay 灿哥 2 Abu Dhabi 小清新帅比\n",
      "Fránco 欧洲全境代购 1 England Life is simple.You make choice and you don't look back.\n",
      "����良心的黑店����  1 广东 \n",
      "丁香餐厅水果店  1 陕西 用一颗感恩的心去回报有恩的人！！！\n",
      "风顺  0 河南 \n",
      "大大蒙  2 广西 一个人的行走距离，决定了他的世界大小\n",
      "脾气很大很爆 华昌眼镜小薛 1 福建 \n",
      "水中天---张肖辉  1 陕西 水中天茗茶是纯天然、无公害、野生的、稀缺的、无法复制的！！\n",
      "ineverlose 猫耳御姐 1 England <span class=\"emoji emoji1f467\"></span>����<span class=\"emoji emoji1f467\"></span>����<span class=\"emoji emoji1f467\"></span>����\n",
      "����薄荷猫♡  2 安徽 我是集市里的养猫者 \n",
      "不看路人 不换爱人。<span class=\"emoji emoji1f343\"></span>\n",
      "Leaf、 ���� 2 福建 \n",
      "李傲娇* 李悦*Donkey 2  \n",
      "OSError(22, 'Invalid argument')\n",
      "zqw 张全炜 1 福建 \n",
      "祝祝  1 浙江 每天进步一点点 \n",
      "喵 花猫大人 2 山东 Bye my almost lover \n",
      "依依 叠妈 2 江西 15979397420\n",
      "屹耳 周雅星 2 江西 \n",
      "超平和yzl  1 江苏 b\n",
      "Rude ck 1 江西 你敢在我身上赌，我怎舍得让你输。\n",
      "かの 林睿晨 2 福建 \n",
      "Sheva  钟建树 1 福建  \n",
      "过客_ 陈晓雨 2 江西 每一难 皆为造化，每一步 皆是修行\n",
      "不忘初心 江峰 1 海南 我相信，梦里能到达的地方，总有一天，脚步也能到达。\n",
      "伟 ���� 张潮男 1 福建 \n",
      "从青从争 占雯静 2 江西 你要记住，你是仙女，你是喝露水的，所以你不能再吃了\n",
      "芬芳  2 福建 \n",
      "$weet  1 陕西 sands make desert\n",
      "大王花 王一诺 0 福建 \n",
      "站直睡 占晋 2 江西 \n",
      "五千宝宝����  2  ����\n",
      "岱序����  2 Milano \n",
      "funny 王忛 2  OK\n",
      "傲娇的大公鸡 木子李 1  爱孤独\n",
      "Adstrid Horster 蔡灵榕    2 福建 three is an orgy. four is forever\n",
      "。 苏姐 2 福建 \n",
      "Recur 猫二代 1 江苏 朋友圈不发动态\n",
      "晨攻 邓伟成 0  \n",
      "潘小雨  2 福建 everyday struggle \n",
      "Thirza 。H 黄薇 2 福建 \n",
      "一个花花 郑采薇 2 福建 \n",
      "脾气 王雅 2 陕西 格言条规\n",
      "猫四胡子 刘楚琪 2 福建 自然而茁，无始无终\n",
      "李斤欠宜 李欣宜 2 福建 \n",
      "lslimslim.  1 福建 \n",
      "蓝1b  2 Busan 我在时间里 等你\n",
      "豪 刘豪 1 福建 懒鸟不一定有懒虫吃！\n",
      "程调子  1 福建 Country road-Take me home-To the place-I belong\n",
      "黄振华  1 福建 \n",
      "平天下 爸 1 福建 情义无价\n",
      "yu_617 骆宇琪 1 福建 真的爱有时候抓不来，伪装的总赚不到关怀\n",
      "wyz 由之 1 福建 Toutes les grandes personnes ont d'abord été des enfants.\n",
      "梦想天空分外蓝  1 陕西 心若向阳 无惧伤悲\n",
      "吃大人啊 嘟嘟 1 福建 时间是让人猝不及防的东西\n",
      "Ci, Ci, 2 江西 \n",
      "姗~Freya 姗姐 2  北师数科\n",
      "彤 王岳彤 2 江西 健康、平安、快乐!!!\n",
      "王赓  1 陕西 知世故而不世故才是最善良的成熟。\n",
      "淡雅����（语音不回）  2 广东 \n",
      "你蛮呆 魏静娴 2 福建 GGF～<span class=\"emoji emoji1f495\"></span>\n",
      "心若相依 程腮芳 2 江西 因为心无所恃，所以随遇而安！\n",
      "贵将 林凯杨 1 江西 \n",
      "Kahing  2 香港 <span class=\"emoji emoji1f4d6\"></span>\n",
      "一只会叫的喵  2 台湾 非诚勿扰！\n",
      "Fantanstic Jam 倒霉熊 1  hi\n",
      "����✨ 陈馨 2 福建 <span class=\"emoji emoji1f305\"></span><span class=\"emoji emoji2728\"></span>\n",
      "水丁  1 福建 受不了\n",
      "我有超能力_可以看见屁 胡雯平 2 浙江 \n",
      "������������ 美瞳客户 1 福建 A=X+Y+Z\n",
      "陈启瀚ü 陈启瀚 1 福建   \n",
      "bb7 047 2  Love conquers all\n",
      "quetzal 雪纯 0  \n",
      "live 胡心怡 0 广东 \n",
      "哎呀 袁方正 1 福建 哎呀\n",
      "南山卧龙 徐晓超老师 1 陕西 \n",
      "诚信为本  2 江西 忘记背后，努力面前。\n",
      "dkkk 北冥有鱼 2  柔软还怂，一腔孤勇\n",
      "Forever 刘康 1 陕西 \n",
      "小手微凉 常潇 1 四川 \n",
      "AAC-1996 陈良杰 1 福建 \n",
      "Saffron. 丁佳瑞 1 江苏 致生剂量\n",
      "【翔龙驾校】  2 陕西 总校练车报名热线:18992831707~18992862405\n",
      "婉露  2 福建 我相信肉的纵欲无度，也相信灵的无可救药的孤独。\n",
      "1101 刘凯 1 福建 \n",
      "Viva la Vida 王大为 1 吉林 \n",
      "辉：亚伯拉罕。 重辉 1 浙江 活泼可爱\n",
      "駃♂釖￡饒 饶宇森 0  \n",
      "ONE. 姚佳辉 1 陕西 \n",
      "骑闻 安少华 1 内蒙古 \n",
      "寻路 花本帅 1 陕西 文艺理工男\n",
      "Sweets 张浩琛 1 陕西 \n",
      "Xin逸 纪鑫逸 1 福建 \n",
      "WZ灬DWYANE 万震 1 Dubayy \n",
      "我心红蓝 李文昌 1 陕西 \n",
      "啊哈 赵晓萌 0 河北 \n",
      "哀宇音 邹坤儒 0  \n",
      "阿阿阿阿阿嚏 张一琳 2 Offaly \n",
      "萝卜崽儿���� 李爽 2  \n",
      "张硕_Gloria 张硕 0  \n",
      "Tathy 韩倩 2 陕西 \n",
      "村口理发张师傅 张小波 1 California 重剑无锋，大巧不工\n",
      "丶黎明 黄元铭 1 陕西 \n",
      "飞  1 陕西 心情心绪会飘去哪里！\n",
      "帝皇 桂明明 1 江苏 \n",
      "七月在线客服_01  0  \n",
      "JustFan 潘舒凡 2 福建 阳光下做个孩子 风雨里当个大人\n",
      "糖糖糖糖炒栗子快来我怀里 唐俊殊 2 河南 \n",
      "����糖果����  2 四川 等你一句话\n",
      "阿宇宇宇宇宇 林祥宇 1 福建 不懈。\n",
      "Wendy12^  2  Aal izz well\n",
      "王大鹿，吃掉你���� 王璐 2 山西 我是主角，我不能死。\n",
      "Good morning 罗文涛 1 福建 毫无顾忌，肆意前行\n",
      "yu 郭倩毓 2 陕西 我只爱我家亲爱的\n",
      "Ar J  1 上海 <span class=\"emoji emoji1f430\"></span><span class=\"emoji emoji1f430\"></span><span class=\"emoji emoji1f430\"></span><span class=\"emoji emoji1f430\"></span><span class=\"emoji emoji1f430\"></span>\n",
      "A小和尚网络教程  0  有什么需要的资料可以找我\n",
      "啦啦啦 刘美君 2 陕西 爱对了是爱情，爱错了是青春\n",
      "翔龙驾培  0  \n",
      "IDARU 抓凯 1 福建 \n",
      "徐晗  1 江苏 把自己做好！\n",
      "广羽人丿丿丿鑫 廖鑫 1  \n",
      "深藏 周欣怡 2  \n",
      "王晨鸣 王晨鸣 1 山东 工作时间: 9:00-18:00，其他时间电话联系15664758731\n",
      "友人GR  2 江苏 \n",
      "Ven雪寒 瑞雯 1 Dubai 醉了，什么多可以忘。淡了，什么多不在乎\n",
      "洪峰 洪峰 1 江西 \n",
      "ccy  2 福建 你是年少的欢喜<span class=\"emoji emoji1f499\"></span>\n",
      "Mango���� 张桂平 0  嘻\n",
      "二傻紫☀  2 福建 \n",
      "raisin 张浩鹏 1 陕西 \n",
      "������������  1 福建 2017.09.07 14:02:05\n",
      "Y.TF�������� 鬼恩希 1 浙江 不乱于心，不困于情，不畏将来，不念过去 —— 共勉之\n",
      "公子老马  1 湖南 对生命越富有激情，回应你就会越强烈。\n",
      "LiuXY 刘晓颖 1 陕西 I got what I paid for!\n",
      "李耳 姜圣浩 1 江西 \n",
      "花小涵Sally 花小涵 2 福建 A secret makes a woman woman\n",
      "Little...楷  1 福建 \n",
      "端胖小铺～  1 湖北 伸手党勿扰 <span class=\"emoji emoji274c\"></span> 不然店主脾气不好\n",
      "单行道 赵伟老师 1 陕西 \n",
      "燕君  2 福建 \n",
      "deer 电影 2 Tyrol \n",
      "book思议 陈昭昀 2 陕西 好想给夏天留个念 却只剩满手香甜\n",
      "everything is possible 鞋博士 0  \n",
      "swz 宋文珠 2  \n",
      "cotton樱冥 李明芳 2 福建 『 瓜田不纳履   李下不整冠 』\n",
      "嗯哼哼 田红红 1 江苏 \n",
      "尤克哩哩  1 Kinmen County \n",
      "坚强少年  1 甘肃 \n",
      "尕琳 陈佳琳 2  \n",
      "Oo 王钻 1 江西     睡一觉就好不了啦，该加油加油加油了\n",
      "Aa大叔家小相馆（西电店）  1 陕西 大叔家的小相馆\n",
      "晚安羊 陈雯 2  没什么好玩的\n",
      "962464  2 陕西 用一年半来沉淀自己，962464\n",
      "晶晶 程晶捷 2 甘肃 一切都是最好的安排<span class=\"emoji emoji1f33f\"></span><span class=\"emoji emoji1f33f\"></span><span class=\"emoji emoji1f33f\"></span>\n",
      "钟晨瑶 钟晨瑶 2  \n",
      "旧时月 花溅泪 2 四川 与君初相识，犹如故人归。\n",
      "黄憨豆 黄涵叠 1 江西 \n",
      "大叔家的小像馆  1 陕西 18302938988   18302938688                 用心服务  诚信经营\n",
      "陈欣Cynthia���� 陈欣 2 Central and Western 守得云开见月明\n",
      "余雅雅 余雅芸 1  超超超爱崔世杰( ´･ᴗ･` ) \n",
      "Bluse Angelo 夜之月杠把子 1  身随念走 心随缘走\n",
      "邱邱邱 邱子滢 2 江西 \n",
      "秋色清扬 数电朱老师 2 陕西 \n",
      "V 黄浩 1 England 该\n",
      "zzh 曾正辉 1 福建 I saw you,you smiled warmly and the world began waking up\n",
      "哇咔咔 顾世杨 1 湖北 悲观的理想主义者\n",
      "徐安妮���� 徐安妮 2 福建 \n",
      "中国可乐协会会长  2 福建 ����喝掉你的可乐\n",
      "亚洲 董亚洲 1 海南 天道酬勤\n",
      "Lee本儒雅，奈何骚气 李昊锦 1 陕西 \n",
      "薛超  1 福建 \n",
      "林 林胜安 1 福建 喜乐平安\n",
      "高达  1 广东 <span class=\"emoji emoji1f37a\"></span>+����\n",
      "Shinku 谢德庭 1  真紅、可愛いぃぃぃぃぃぃ\n",
      "._.._._ _ 刘元 1  \n",
      "POLOU 张子凌 2  皮特啊 鲁尼啊\n",
      "王老师@萌酷考神  0  添加好友时，请备注想要学习的课程名称或老师名称～\n",
      "六西格玛 刘雅媛 2 湖南 Our journey is to the ocean of stars.\n",
      "Donna 小佳 2 福建 红萌萌\n",
      "夏犇 夏犇 1 江西 \n",
      "���� 尹梦盈 2 江西 \n",
      "苏思琳  2 陕西 努力努力再努力<span class=\"emoji emoji1f4aa\"></span>\n",
      "F1x you���� 王逸博 1 陕西 \n",
      "����  2 Lyon \n",
      "����ldttttt���� 李东婷 2 山西 \n",
      "���� 董雅楠 2 山东 二十来岁笑起来要人命的你\n",
      "请稍后~ 司泽艳 0  笑不代表开心，离开不代表舍得，只有懂的人才能明白你的喜怒哀乐\n",
      "Vg-bond���� 颜子悦 1 Nevada Without sacrifice, there is no victory\n",
      "林伟超 林伟超 1 福建 \n",
      "四夕  2 贵州 她是一条逆流而上的鱼 格格不入 旗帜鲜明。\n",
      "家住海边喜欢浪 杨帆 1 广东 你微笑时好美\n",
      "RONG 林月蓉 2 福建 :（   :\n",
      "张焕Jam 张焕 1 福建 \n",
      "郑旭  1 福建 做一个好演员\n",
      "A线 毛欣 0  独生独死，独去独来，当行至趣。苦乐之地，身自当之。\n",
      "JuST QAQ｜ 1  等到风景都看透   也许你会陪我看细水长流\n",
      "风到停处 贺磊 1 陕西 甘于平凡却不甘于平凡地溃败\n",
      "李文彬 李文彬 1 福建 \n",
      "哎呦���� 纪旭强 1 山西 莫欺少年穷\n",
      "Jxc 旭晨 1  代写代发论文期刊，代写商业计划书。\n",
      "可爱的人儿 ���� 2 福建 你什么态度我什么态度\n",
      "暧昧成殇  1 江西 敲天\n",
      "婷婷不吃西红柿 方姐 2 福建 \n",
      "✅ 中奇 1 福建 \n",
      "Ann 吴天妹 2 Paris 佛系女孩\n",
      "196 航航 1 浙江 a lot of water under the bridge\n",
      "黑暗中漫舞.  1 陕西 勿忘初心，方得始终\n",
      "陶猛zzZ 独孤求醉 1 辽宁 清醒的人最荒唐。\n",
      "小八哥~sofia 刘芬 2 福建 哈哈\n",
      "三藏师兄  0  三藏QQ 3525367193\n",
      "小白  1 陕西 十年饮冰 难凉热血\n",
      "Mi_Zu_Ki暮 林佳旻 1 福建 軌跡が奇跡に変わる時\n",
      "Cool 何琛琪 1 内蒙古 \n",
      "刘平 刘平 1 浙江 \n",
      "L.L 张鑫 1 England Don't say anything any longer\n",
      "学生甲 张玉婷 2  Nothing is pure.But solitude.\n",
      "����叶新���� 租麦 2 陕西 \n",
      "CsW 陈思为 0 陕西 似疯似傻似癫狂似痴妄\n",
      "平重枝  2 江西 春意萌然，鲜花遍野。\n",
      "千寻  1 浙江 愿我走出半生，归来仍是少年。\n",
      "归 归 2 福建 Sometimes ever, Sometimes never.\n",
      "boooomyz！ 陈自圆 2 广东 \n",
      "Oups���� 黄浩东 1 福建 乍见之欢不如久处不厌\n",
      "女神 刘婉红 2  \n",
      "悦一橙 车鹤飞 2 陕西 \n",
      "Healer 影魔 1  丶没有故事。\n",
      "Despacito 亚索哥 1 浙江 以梦为马，不负韶华。\n",
      "不谙世事 王红 2 陕西 奇迹每天都在发生\n",
      ".雯燕  2 福建 \n",
      "���� 杨慧玲 2 Western Australia \n",
      "meeting 巫伟攀 0  不忘初心方得始终\n",
      "shock 邵可欣 2  \n",
      "HuIXiAn 李慧娴 2 江西 \n",
      "人生就是一场修行 罗娇 2 江西 \n",
      "���� 吴燕婷 0  \n",
      "辛巴你说话啊 祝萃文 2 江西 \n",
      "大柠檬ww 唐恬 2  羡慕从前的你\n",
      "狗贼�������� 陈秉霖 1 LU 人生有梦 各自精彩\n",
      "头 瞳丶 2 福建 哟 少年 你还好么\n",
      "李浩民 李浩民 1 福建 Waiting for seventeen\n",
      "Sine, the Enlightened 沈电教 1 福建 \n",
      "一则 一则 1 北京 \n",
      "卓雨 康玉桌 0  \n",
      "YoH ����杨菓菓阿���� 2 辽宁 克己 知趣\n",
      "Julius  1 Tokyo 心不能乱\n",
      "LLL林 小豪 1 江西 哈哈哈哈哈\n",
      "����S-Winifred 陈双雯 2 福建 <span class=\"emoji emoji2728\"></span>\n",
      "PEACEMINUSONE 马康妮 1 South Australia 看p看，叉出去\n",
      "啾啾啾蝠侠 李佳宏 2 四川 I told you I'm a very private person\n",
      "Screw Screw 2 Berlin \n",
      "浅蓝深蓝 田宗元 0  \n",
      "H 黄景彦 1 福建 \n",
      "�������� 汪馨瑜 2 福建 <span class=\"emoji emoji2728\"></span>\n",
      "纠结伦  1 浙江 \n",
      "萍  2 陕西 \n",
      "KUOK,SUTENG����  2 's-Hertogenbosch \n",
      "XTBB 王毅程 1 福建   廷厨\n",
      "0505 郭佳怡 2 福建 是我在想象的爱情中，彻底迷失了自己\n",
      "巴斯光年～ 杨益权 1 福建 再吃烧烤没懒觉！！！！\n",
      "sora 廖润洲 0  \n",
      "晶晶 祝寿晶 2 Canberra \n",
      "���� 张迎泓 2 台湾 很高兴你认识了一个那么有趣的我����\n",
      "M_Z16620644517 毛雨凤 2 广东 山南水北 人来人往\n",
      "欣 池欣欣 0  bloom\n",
      "天空飘来五个字 何晨恩 1 福建 Chen～N \n",
      "MR株 朱舰宇 1 福建 \n",
      "L.X.T  1  11.14\n",
      "露露  2  我希望我的生活是充实，快乐，简简单单就好。\n",
      "����  2 福建 开心就好\n",
      "、、、、、、 李超 1  ………………\n",
      "葛利高里 潘苔莱耶维奇 轩 钟轩 1 福建 给我个助力带，我能拉起220\n",
      "章兵 章寿兵 1 浙江 \n",
      "���� 王依能 1 江苏 \n",
      "lava���� 许晨馨 2 福建 清尘浊水 后会无期\n",
      "Hzh 洪泽华 1 福建 \n",
      "九九����  2  希望一切都美成我喜欢的样子\n",
      "Xx×Ha0���� 熊昊 1 江苏 I'm lovin' I'm livin' I'm pickin' it up\n",
      "ANG 董雨昂 1 江西 这个好难想\n",
      "金城吳��������  1  \n",
      "Hank森 沈宇森 1  \n",
      "徐瑜婧 徐瑜靖 2 江西 \n",
      "程晓善。 程晓善 1 福建    临渊羡鱼。退而结网。\n",
      "远方的你  2 福建 宁静致远\n",
      "Do not eat fat���� 占恺惠 2 江西 不参加任何带卡路里的活动\n",
      "Yating老师  2 Moxico 每天分享一点快乐\n",
      "夢. 小梦 2  \n",
      "tail 莫舒婷 2 陕西 \n",
      "孙国祯  1 陕西 一生与岁月作伴，将新朋熬成老友。旅途遥远让我陪你，岁月相随\n",
      "华绅。 陈思华 1 福建 \n",
      "灯 陈志文 1 陕西 做个俗人，贪财好色干净自由\n",
      "小王 郑浩宇 1 福建 \n",
      ",-) 李钊烨 2 福建 未来可期\n",
      "���� XXXibgdrgn ���� 孙亚晨 2 California 喝完这杯酒 你就是我喜欢的人了\n",
      "Oxygen. 祁佳炜 1 陕西 \n",
      "阿蛋啊阿蛋 曾灵苒 0  <span class=\"emoji emoji1f440\"></span>\n",
      "T 姜冰灵 2  歪歪歪，快来接我\n",
      "邱啾啾 邱洁帆 2 上海 2018.03.27\n",
      "无所事事的小包子  1  \n",
      "小西妈妈����  0  love never falls away\n",
      "平金仙 四姑姑 2  爱是永不败落\n",
      "阳光总在风雨后  0  \n",
      "暗流 暗流 1 江西 天凉好个秋\n",
      "温年一壶酒 于晓珩 2 黑龙江 自在逍遥。\n",
      "张艺涵  2 山东 Enchanted to meet you.\n",
      "xxxibgdrgn  2 福建 人在吃 称在看\n",
      "BlueberryBubbleGum 蔡华灿 1  \n",
      "(刘建)�������� 刘建 1 浙江 好好善待自己。善待家人\n",
      "���� 李楠 2 福建 \n",
      "FANTASTIC. L  2  把美好的东西给有品的你# 三年英代#疑假勿扰#    \n",
      "����平安 顺英 1  平平安安健健康康就是福\n",
      "陈志超  1 福建 \n",
      "ChrisRio 陈锐 1 福建 你若盛开，清风自来；\n",
      "心若浮沉，浅笑安然。\n",
      "宋子林  1 广东 喜形于色  厌藏于心\n",
      "Dongsh Dongsh D.T. 0  Dr.Latency's Freak Report \n",
      "阿璠哒  1 Sha Tin 五行缺书\n",
      "����hyy 何莹莹 2 福建 总有那么一些匆匆而过的曾经熟悉的陌生人\n",
      "邢卓林 刑卓林 1 山西 \n",
      "小付 付洁磊 1 江西 喜欢真实。\n",
      "����  2  普通村民\n",
      "LU 陆冰清 2 福建 努力努力再努力\n",
      "Lo  1 福建 compression resistance.\n",
      "Eightcards. 魏天汉 1 福建 喜欢的话就坚持吧。\n",
      "do. 先德 1 福建 爛梗王\n",
      "无产阶级没知识分子 王晓红 2  要是所有人都理解你，你得普通成什么样啊。\n",
      "枠－ 尹若丹 2 陕西 爱就爱到痴迷，追究追到触及\n",
      "すき 曾子叶 2  抹茶就是力量。\n",
      "Redycc 洪又琛 1 福建 ，\n",
      "小柴。  1  这个人很懒，什么都没写。\n",
      "Linn 林池 2 广东 山水只一程，一心别两用，三生才有幸。\n",
      "Qx 林颖 2 福建 热爱改名改头像，加我请备注。\n",
      "小妍妍oxy 欧欣妍 2  到此为止。\n",
      "Ashitaka  2  \n",
      "祭司 胡越仪 2  君子慎独，不欺暗室。\n",
      "西电小喇叭  2 陕西 加喇叭好友并备注新生群，就可以获邀进入新生群啦\n",
      "z-MengYAO  2 江西 \n",
      "Orange 李昱丞 1  9496\n",
      "喜碧碧  1 Scotland \n",
      "陈殷����  1 福建 \n",
      "SoPretty  2 福建 招代理<span class=\"emoji emoji1f467\"></span>����\n",
      "Do.  1 广东 \n",
      "Cora  2 England 要变得更厉害啊\n",
      "KIT 傅捷 2 福建 管他天亮有沒有以後\n",
      "凉开水  1 福建 你偷走了我的影子，无论你在哪里，我都会一直想着你。\n",
      "蝶花摄海华 王海华 1 浙江 也许就多了那么一点灵感与创意，往往使照片更灵动，更具生命力。\n",
      "无界 黄乐 1 陕西 遇见的都是天意，拥有的都是幸运！\n",
      "九磅十五便士 郑德君 1 江苏 \n",
      "少伟  1 陕西 \n",
      "稻草人 梁小兵 1 云南 闭上眼，风摇起宿醉的记忆\n",
      "Tting.L 林婷婷 2 福建 \n",
      "亍秋  1 湖南 鹤归孤山我归你\n",
      "������������ 郭晓婵 2 福建 <span class=\"emoji emoji1f343\"></span>一生所求，不过爱<span class=\"emoji emoji1f35f\"></span>与自由<span class=\"emoji emoji1f4a4\"></span>\n",
      "不要欺负老实人���� 桃可爱 2  尽己所能，问心无愧，无怨无悔\n",
      "晓丹 晓丹 2 福建 DO IT.\n",
      "詹劲松  1 北京 盈盈一水间，脉脉不得语……\n",
      "Melody  2 福建 \n",
      "-3 王益磊 1 Rawson 最后陪你演一场戏，演完了，我也该离开了\n",
      "Mike 吴铭杰 1 澳门 \n",
      "宋成昊 宋成昊 1 陕西 \n",
      "风筝 甄真 2 陕西 享受当下，那就够了\n",
      "酒玖十二 娄子墨 2  juju\n",
      "故事会长久  1  \n",
      "wIng W1ng  1 陕西 \n",
      "十七号小仙女 仁圆圆 2 北京 愿可爱的你岁岁平安\n",
      "北  2 上海 晚风吻尽荷花叶，任我醉倒在池边。\n",
      "宇哥  2 福建 快乐是所有人的快乐，悲伤是一个人的悲伤\n",
      "陈丽娟Coco  2 浙江 \n",
      "DANLIN 丹霖 0  天道酬勤\n",
      "Seven 王齐浩 1 福建 \n",
      "莫西莫西  2 浙江 \n",
      "Dhx  1  幸得艰辛的引路甜蜜不致太寡\n",
      "barry.chen 去 1 浙江 人生没有绝对的公平，但是相对公平的。\n",
      "冇心 杨江婧 2 North Shore 万 事 顺 意\n",
      "儒儒哟 李鸿儒 0  \n",
      "A 拾叁 诗瑞娜 小鹿。���� 海柯 1 宁波Nova诺亚酒吧 宁波nova酒吧  拾叁 诗瑞娜 <span class=\"emoji emoji1f37a\"></span><span class=\"emoji emoji1f37a\"></span><span class=\"emoji emoji1f37a\"></span>订座<span class=\"emoji emoji260e\"></span>15888188109\n",
      ".  2 上海 别看了 过得比你好\n",
      "木昜 杨雅芳 2 福建 人丑多读书\n",
      "张甜甜 张心怡 2 河南 我爱你的第二十一个年头\n",
      "Dtootoo���� 黄少萍 2 福建 Don't worry❣️\n",
      "5.  1 海南 没人为你遮风挡雨我便做你的英雄\n",
      "���� 张叶玲 2 福建 \n",
      "U 吴伟莲 2 福建 山水一程\n",
      "like me 陈媛 2 Paris \n",
      "Blake  1 福建 聪明是天赋，善良是选择\n",
      "lin程 林程 1 福建 \n",
      "曼森 林天 1 江西 \n",
      "Anthonidia 张绍轩 1 内蒙古 倚天照海花无数，\n",
      "高山流水心自知。\n",
      "Lucifer 王子渠 1  我害怕你心碎没人帮你擦眼泪\n",
      "FIRENZE  2 福建 夜夜除非，好夢留人睡。\n",
      "西电斯派若  2 安徽 此爱隔山海，山海亦可平\n",
      "八爹  1 福建 \n",
      "����only. 童雨柔 0  在最平凡的生活中<span class=\"emoji emoji23f0\"></span>努力和谦卑.\n",
      "阿西八  2 陕西 前程有你 方能前程似锦\n",
      "榴莲啊  2  你是我的一半橙\n",
      "Jordan 尹兆东 1 天津 又偷看？����\n",
      "✨ 谢雨轩 0  \n",
      "lolololol 练诗涵 0 Hokkaido 很不讨人喜欢\n",
      "花落若倾城 罗逸章 1 福建 恢复元气。提升自我。\n",
      "曾轩  2 天津 野蛮生长\n",
      "5 5 2 福建 安\n",
      "xyx 小跟班 1 江苏 Courtesy costs nothing.\n",
      "璐璐  2 辽宁 \n",
      "咩 杨江雯 2 North Shore 生人勿近\n",
      "林汇英Saria.Morley 林小轩 2 Dresden email：873840967@qq.com\n",
      "mrs.saria.morley@gmail.com\n",
      "胡云  1 山东 知名电影电视剧观众\n",
      "An_ 栗子 2 陕西 所有人都在努力 不是只有你满腹委屈\n",
      "1.73+  1  我命由我不由天\n",
      "QSY  2 福建 \n",
      "喔嚯 林菁菁 2  \n",
      "。 强国栋 1 陕西 余生太短，热爱太难\n",
      "Sharon  wu 吴诗婕 2 福建 兜兜转转20年 余下的日子不管在哪都想要认真活着\n",
      "景 钱怡婧 2 江西 沸腾的开水下一尾落寞的鱼\n",
      "万门大学  0  tel:13028256801\n",
      "Ghm. 关惠敏 2 陕西 慎独。\n",
      "淼M 祝淼 2 Dublin \n",
      "Shen Yütung 大头不大 1 浙江 \n",
      "ᴜɴɪᴄᴏʀɴ 卢雨昕 2  　　　　　\n",
      "\n",
      "\n",
      "\n",
      "\n",
      "\n",
      "\n",
      "\n",
      "\n",
      "\n",
      "\n",
      "\n",
      "\n",
      "\n",
      "\n",
      "\n",
      "\n",
      "\n",
      "\n",
      "\n",
      "\n",
      "\n",
      "\n",
      "\n",
      "\n",
      "\n",
      "\n",
      "\n",
      "\n",
      "\n",
      "\n",
      "\n",
      "\n",
      "\n",
      "\n",
      "　\n",
      "球花花和花花酱 李昱瑾 0  \n",
      "嗯啊 饶倩 2  会者定离 ，一期一祈\n",
      "Ld 李豆 2 陕西 \n",
      "����IN  2 Carlow 眼中温柔是你 眼底笑意是你\n",
      "ナナ  2 陕西 \n",
      "\n",
      "\n",
      "\n",
      "\n",
      "\n",
      "\n",
      "\n",
      "\n",
      "\n",
      "\n",
      "\n",
      "\n",
      "\n",
      "\n",
      "\n",
      "\n",
      "Violet Evergarden\n",
      "甜味橙 陈康靖 2 江西 头号粉丝\n",
      "坎.  2 福建 She is my everything<span class=\"emoji emoji2764\"></span>️\n",
      "周XUANXUAN- 周世璇 2 福建 吃睡瘦\n",
      "常威你还说你不会武功 大锅不喝酒 1 江西 我的左手边——<span class=\"emoji emoji1f48b\"></span>——是你的右手\n",
      "冰爷  2 陕西 西安悦途国际青年旅舍欢迎你哦～冰爷带你玩西安\n",
      "你好我是森林  1 北京 引入变量，跳出死循环\n",
      "onlooker����  1 上海 前一刻还把生活过成一个梦，后一刻又是觉得自暴自弃也是一种人生\n",
      "淋巴洁洁  2 江西 \n",
      "90  2 江西 \n",
      "����  1 福建 \n",
      "Blue 郑杰 1 上海 Blue\n",
      "Light 祝倩雯 2 福建 <span class=\"emoji emoji1f308\"></span>��������️ \n",
      "Mr.S 宋楠 0  \n",
      "陈乐成  1 福建 ����\n",
      "goo 王冲 1 广东 没有陌生人的世界\n",
      "HlHl 郝乐 1 内蒙古 \n",
      "lzjun  1 广东 没有回复你，可能我在忙，隔段时间再发\n",
      "定格 任文 2 陕西 \n",
      "���� 章骁逍 2    ˙Ꙫ˙\n",
      "Lx  1 福建 争不过朝夕 还念着往昔\n",
      "���� 廖仲虎 1 江西 \n",
      "一碗 夏一凡 2  良家 书熊子\n",
      "BOOHE 和梦琦 2 陕西 少睡等于多活着！\n",
      "����怼銘  1 福建 要活的像个人样\n",
      "ᴄᴀᴛᴢ cat 2  \n",
      "Comet  2 江西 ......\n",
      ". 黄秋龙 1 广东 \n",
      "ShootingStar❇ 白璐 2 陕西 不端不装，有趣有梦，带着温度<span class=\"emoji emoji2764\"></span>\n",
      "优小二  2 广东 微博等级号，新浪博客账号，微博黄v号，出售！！\n",
      " o   赵文莉 0  \n",
      "醜 DD华珂晨 2 江苏 \n",
      "是久久 是久久 2  我喜欢 爱你 外套 味道 还有你的怀里\n",
      "Amber 杂 2 Donegal 我清楚我自己要什么，不多要，不奢求<span class=\"emoji emoji1f4aa\"></span>\n",
      "青萍之末 猫耳朵 2 陕西 \n",
      "初 小初见 2 浙江 就是爱你\n",
      "卟君♛  2  \n",
      "Lynne 郑悦凌 2 福建 向内认知 向外行走\n",
      "荷兰豆 吴婧怡 2  羡慕别人安定也羡慕自己一切仍是未知。\n",
      "高宇Out Man 高宇 1 陕西 风紧，扯呼\n",
      "-半仙儿。 丢丢 2  我喜欢改邪归我<span class=\"emoji emoji2728\"></span>\n",
      "7号 梁天 1 Stockholms I  was born  yesterday<span class=\"emoji emoji26f5\"></span>️\n",
      "大道寺知世���� 阮枢均 2 福建 <span class=\"emoji emoji1f4f7\"></span>知世就是力量\n",
      "灯火阑珊 郭富琦 0  \n",
      "Sandy  2 广东 我的专业工作就是承接SMT业务和服装设计～\n",
      "好运猫呀�������� 毛杨茜 1 Ottawa <span class=\"emoji emoji1f42d\"></span>\n",
      "岛与暮歌  1 陕西 \n",
      "　　　　　　　　 张松 1 陕西 斯人若彩虹<span class=\"emoji emoji1f308\"></span>遇上方知有\n",
      "琉璃白-W 王婷婷 2 福建 每一天都要心怀感激\n",
      "七四 杨天 1  \n",
      "���� 沈俊捷 0 福建 It's me\n",
      "李翔  1 江西 Spuer hero\n",
      "若～辰 雯雯 2  愿如愿\n",
      "- 杨璐 2 福建 只要肯肝\n",
      "Penning-陳 陈翩翩 2 Pingtung County \n",
      "陈显赟  1 福建 我的快乐是\n",
      "墨雨 均伟 1 福建 \n",
      "阿怪 陈艺璇 2 江西 \n",
      "皮皮 手机电脑维修 1 陕西 一个人要隐藏多少秘密，才能巧妙的度过一生。\n",
      "Jesssssssie���� 卢瑶君 2 北京 当下不杂<span class=\"emoji emoji1f388\"></span>\n",
      "章丽琴  2 江西 平平安安便是福。\n",
      "丸子 吴日文 2 福建     \n",
      "groove 黄睿杨 1 福建 \n",
      "黄荣軍 黄荣軍 1 浙江 成功永远属于努力后\n",
      "DONT DITCH HSQ 波波 1 福建 Never shined through in what I’ve shown\n",
      "jacqueline 吴女士 2 福建 \n",
      "绿豆沙 徐泽丰 1 江西 \n",
      "诱  2 福建 WANJXFCDTY\n",
      "Elaine ���� 周意萱 2 Nice See you soon\n",
      "喵帕斯  1  不用微信 自删\n",
      "Y 金J 2 福建 及时行乐\n",
      "望月 贝贝 2  除非是你的温柔 不做别的追求 \n",
      "sabcat 姚蕴 2 江西 痴心的是肥肉啊\n",
      "六秋秋 ���� 傅晓斌 1  钱刘\n",
      "Bugdragon 牛宝龙 1 陕西 nothing for nothing\n",
      "y  1 福建 black sheep\n",
      "我 Hello 2 陕西 我爱钢铁侠����\n",
      "夜空中最亮的星 刘新星 1 陕西 没有什么比快乐更重要\n",
      "阿鹏  1 陕西 \n",
      "山怪  2  To love oneself is the beginning of a lifelong romance.\n",
      "陈芳琴 妈 2 福建 \n",
      "吃好吃的 刘雯欣 2  是你的猪猪\n",
      "t.j 谭嘉 2 四川 \n",
      "nananan 董悦涵 2 福建 \n",
      "可爱小站 王成友 1  抬头看路，低头做事。\n",
      "玖壹  2 陕西 HAIL SPIDEYPOOL\n",
      "醇 邓子源 1 福建 你不说，我也不问\n",
      "杨-淑钧  2 四川 \n",
      "Zoeng  2 江西 Become a better self.\n",
      "Eh.���� 刘博华 2 陕西 <span class=\"emoji emoji25ab\"></span>️134340\n",
      "Mission Robot 南 1  装三分痴呆防死 留七分正经谋生\n",
      "就是杨天星啊 杨天星 1 陕西 \n",
      "დピエロ 彭莹莹 2 浙江 <span class=\"emoji emoji1f481\"></span> <span class=\"emoji emoji1f645\"></span> <span class=\"emoji emoji1f646\"></span> <span class=\"emoji emoji1f486\"></span> <span class=\"emoji emoji1f487\"></span> <span class=\"emoji emoji270b\"></span> <span class=\"emoji emoji1f48b\"></span> <span class=\"emoji emoji1f485\"></span>\n",
      "F_�������� 方俊宇 1 福建 <span class=\"emoji emoji2764\"></span>️LXY\n",
      "小吳同学  1 陕西 。\n",
      "陈秋渊  1 北京 艺术要有自我\n",
      "_Donna。 纪小佳 2 福建 万缕 但愿长醉不复醒。\n",
      "吴棱志  1 陕西 滴答滴答滴\n",
      "·甜豆· 齐妍青 2  不艺术 没有救赎 暂时不玩pyq\n",
      "zhj  1  \n",
      "GSY ���� 龚苏豫 2 江苏 但行好事，莫问前程 <span class=\"emoji emoji2747\"></span>\n",
      "���� Clam. 2 湖南 是猫是虎看我心情����\n",
      "Adadada���� 墨宝 2  \n",
      "羊羊羊羊羊羊羊羊羊���� 林煜洋 1  -remember？\n",
      "-no.\n",
      "言若 林诺雁 2 福建 ����\n",
      "���� 承琪 2 Stockholms Oh my darling.\n",
      "YPp 叶鹏 1 福建 \n",
      "一雾银 卓其磷 1 福建 如果快乐太难，那就祝你平安\n",
      "KhaKha  1 湖南 To be a better man\n",
      "B1ah 陈云鹰 1 陕西 B1ah.xin\n",
      "黄易^o^  2 江西 别送我那么美的一束花  明天就枯萎了\n",
      "UZCK BACK 安安 2  烏托邦世界\n",
      "页圣秋Selene 颜慧 2 江苏 圣秋啊 强大起来吧<span class=\"emoji emoji1f493\"></span>\n",
      "南方 刘娇娇 2 江西 想念你\n",
      "瑞  2 陕西                                         KZS <span class=\"emoji emoji1f48f\"></span>\n",
      "Florence  2 福建 <span class=\"emoji emoji1f4f7\"></span>\n",
      "���� 陈蓓蕾 2 福建 <span class=\"emoji emoji1f48b\"></span>\n",
      "晚橙 淇淇 0  快来我身边吧\n",
      "GEYITING- 葛一婷 2 江苏 要勇敢\n",
      "玲 平雅玲 2 Victoria \n",
      "4% 吴凡 2  過了最佳賞味期了。\n",
      "Pussycat 向惠 1  唯一的愿望 早点死去\n",
      "Cyh 陈怡桦 2  未来可能遥远，但不轻易放弃\n",
      "AFirst 章慧 2  <span class=\"emoji emoji2600\"></span>                   知行                       <span class=\"emoji emoji2600\"></span> \n",
      "Y 杨绪强 1 Victoria \n",
      "���� 杨佳倩 2 安徽 偶尔怀念他也不错。\n",
      "元龙 陈元龙 1 福建 Always.\n",
      "L  2 陕西 你是我平凡生活的英雄梦想♡\n",
      "何秋霓���� 何秋霓 2 陕西 新茶香郁满齿唇,伴得糁粑倍美醇。\n",
      "湖人不夺冠不改网名 陈吕鹏 1  我是真的帅\n",
      "半颗糖~ 陈卓皓 0  \n",
      "小娆 刘凯励 0 Tomorrowland �������� Two souls on fire \n",
      "去你的小傻瓜。  1  你若盛开 清风自来\n",
      "✌✌✌ 翁明杰 1 England 不欢不喜\n",
      "deokeyyy 邓琦 2  沿途逛世间一趟只有向上。\n",
      "1  2 Kowloon City 还是要做个温柔的人啊<span class=\"emoji emoji1f343\"></span>\n",
      "禄蠹 郑金城 1 福建 欲望的囚徒，不是什么好人，也坏不到骨子里\n",
      "Lu 许露莹 2 福建 \n",
      "丢丢��������  2  人生若只如初见\n",
      "cehnshan 陈珊 2 福建 \n",
      "✋不！我不叫PCW  1 福建 Embrace it\n",
      "杜成骏  1 福建 \n",
      "穌枚 赖荣昌 1 福建     有些人用一辈子去学习 化解沟通的难题\n",
      "北北袖 李彤 2 河北 还是要坚守底线的吧\n",
      "小万君-优惠码834899  0  \n",
      "我禅 郑珂 1 Oklahoma 所爱隔山海，山海皆可移\n",
      "圈圈  1  \n",
      "����Zephyr���� 华侨赵晨曦 1 山东 静坐常思己过，闲谈莫论人非\n",
      "小西几 姚怡 2  我爱学习，学习爱我\n",
      "Aphrodite  2 福建 反认他乡是故乡\n",
      "S 白炜铭 1 福建 \n",
      "HUANGYING 黄莹 0  be a simple bright man\n",
      "Suun  2 福建 \n",
      "\n",
      "\n",
      "\n",
      "\n",
      "\n",
      "\n",
      "\n",
      "\n",
      "\n",
      "Nothing's better than beautiful day<span class=\"emoji emoji2600\"></span>️\n",
      "Infinity 张国辉 1 陕西 \n",
      "Bian. 边炒鸡帅 1 浙江 歡 迎 光 臨\n",
      "高拙 郭钊 1 陕西 我家门前有两棵树，一棵是枣树，另一棵也是枣树。\n",
      "Nabita  2 Abu Dhabi Let the rain   wash away   all the pain of yesterday.\n",
      ". 一房 2 Anadyr \n",
      "浮生若梦 . 朱顺利 1  如果你有梦想，就去捍卫它！\n",
      "夜鸟飞慢 过佳瑶 2  平生一片心，不因人热；文章千古事，聊以自娱。\n",
      "被线代搞糊了的天才少女 吴漫茜 2  不努力，是会被保险公司抓去跳晨操的\n",
      "小甜甜 鲲鲲 1 Barcelona \n",
      "徐宏彬��������  1 福建 你都如何回忆我，带着笑或是很沉默\n",
      "Aier 游泽男 1 湖北 做我所想 无所不能<span class=\"emoji emoji1f4aa\"></span>\n",
      "Susie  2 浙江 \n",
      "瑶妮子~ 辜承瑶 2 江西 希望你对所想的未来，抵死执着……\n",
      "奈何桥畔 芒果 2 江西 最好不过余生可有你 最坏不过余生都是回忆\n",
      "向大帅  2 重庆 \n",
      "LYN 刘聪 2 江西 朋友圈入口已关闭\n",
      "dududu 41小姐姐 2 江苏 不干涉各自明天\n",
      "不要熬夜 甘 1 Dublin You're the reason I am, you're all my reasons.\n",
      "stupid 平鹏翔 1 陕西 心不动则不痛。\n",
      "wpy����  1 福建 The mind always fail first,not the body.\n",
      "兔酱����  2 Shizuoka-ken \n",
      "浮游 平倩楠 2 山西 \n",
      "知足 世奇 1 江西 小孩子气\n",
      "刘鲁锋  1 浙江 \n",
      "Sprite 谢双双 2 福建 \n",
      "您的微信账号里有男性：294  女性：301  性别不知者: 54\n",
      "Start auto replying.\n"
     ]
    }
   ],
   "source": [
    "import sys\n",
    "f = open(r'C:\\Users\\Ph\\Jupyter_notebook\\高级编程技巧\\信息.txt', encoding='utf-8')\n",
    "for chunk in iter(lambda:f.read(10), ''):\n",
    "    n = sys.stdout.write(chunk)"
   ]
  },
  {
   "cell_type": "markdown",
   "metadata": {},
   "source": [
    "### 讨论\n",
    "\n",
    "关于内建函数 iter()，一个少有人知的特性是它可以选择性接受一个无参的可调用对象以及一个哨兵（结束）值作为输入。当以这种方式使用时，iter() 会创建一个迭代器，然后重复调用用户提供的可调用对象，直到它返回哨兵值为止。"
   ]
  }
 ],
 "metadata": {
  "kernelspec": {
   "display_name": "Python 3",
   "language": "python",
   "name": "python3"
  },
  "language_info": {
   "codemirror_mode": {
    "name": "ipython",
    "version": 3
   },
   "file_extension": ".py",
   "mimetype": "text/x-python",
   "name": "python",
   "nbconvert_exporter": "python",
   "pygments_lexer": "ipython3",
   "version": "3.7.1"
  },
  "latex_envs": {
   "LaTeX_envs_menu_present": true,
   "autoclose": false,
   "autocomplete": true,
   "bibliofile": "biblio.bib",
   "cite_by": "apalike",
   "current_citInitial": 1,
   "eqLabelWithNumbers": true,
   "eqNumInitial": 1,
   "hotkeys": {
    "equation": "Ctrl-E",
    "itemize": "Ctrl-I"
   },
   "labels_anchors": false,
   "latex_user_defs": false,
   "report_style_numbering": false,
   "user_envs_cfg": false
  },
  "toc": {
   "base_numbering": 1,
   "nav_menu": {},
   "number_sections": false,
   "sideBar": true,
   "skip_h1_title": false,
   "title_cell": "Table of Contents",
   "title_sidebar": "Contents",
   "toc_cell": false,
   "toc_position": {
    "height": "calc(100% - 180px)",
    "left": "10px",
    "top": "150px",
    "width": "307.2px"
   },
   "toc_section_display": true,
   "toc_window_display": true
  },
  "varInspector": {
   "cols": {
    "lenName": 16,
    "lenType": 16,
    "lenVar": 40
   },
   "kernels_config": {
    "python": {
     "delete_cmd_postfix": "",
     "delete_cmd_prefix": "del ",
     "library": "var_list.py",
     "varRefreshCmd": "print(var_dic_list())"
    },
    "r": {
     "delete_cmd_postfix": ") ",
     "delete_cmd_prefix": "rm(",
     "library": "var_list.r",
     "varRefreshCmd": "cat(var_dic_list()) "
    }
   },
   "types_to_exclude": [
    "module",
    "function",
    "builtin_function_or_method",
    "instance",
    "_Feature"
   ],
   "window_display": false
  }
 },
 "nbformat": 4,
 "nbformat_minor": 2
}
