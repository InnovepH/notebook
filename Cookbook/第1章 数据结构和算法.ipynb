{
 "cells": [
  {
   "cell_type": "markdown",
   "metadata": {},
   "source": [
    "## 1.1 将序列分解为单独的变量\n",
    "\n",
    "### 问题\n",
    "\n",
    "我们有一个包含N个元素的元组或序列，现在想将它分解为N个单独的变量\n",
    "\n",
    "### 解决方案\n",
    "\n",
    "分解可迭代对象，变量的总数和结构要与序列相吻合"
   ]
  },
  {
   "cell_type": "code",
   "execution_count": 3,
   "metadata": {},
   "outputs": [
    {
     "name": "stdout",
     "output_type": "stream",
     "text": [
      "shares:50 ,price:91.1\n"
     ]
    }
   ],
   "source": [
    "data = ['ACME', 50, 91.1, (2012, 12, 21)]\n",
    "_, shares, price, _ = data\n",
    "print('shares:%s ,price:%s'%(shares, price))"
   ]
  },
  {
   "cell_type": "markdown",
   "metadata": {},
   "source": [
    "## 1.2 从任意长度的可迭代对象中分解元素\n",
    "\n",
    "假设开设了一门课程，并决定在期末的作业成绩中去掉第一个和最后一个，只对中间剩下的成绩做平均分统计"
   ]
  },
  {
   "cell_type": "code",
   "execution_count": 4,
   "metadata": {},
   "outputs": [
    {
     "name": "stdout",
     "output_type": "stream",
     "text": [
      "[61, 2, 1, 78, 64, 8, 70, 10, 11, 86, 89, 79, 36, 99, 37, 49, 88, 28, 40, 54, 88, 6, 85, 30]\n"
     ]
    }
   ],
   "source": [
    "import random\n",
    "grades = [random.randint(1, 100) for _ in range(24)]\n",
    "print(grades)"
   ]
  },
  {
   "cell_type": "code",
   "execution_count": 6,
   "metadata": {},
   "outputs": [
    {
     "name": "stdout",
     "output_type": "stream",
     "text": [
      "[2, 1, 78, 64, 8, 70, 10, 11, 86, 89, 79, 36, 99, 37, 49, 88, 28, 40, 54, 88, 6, 85]\n"
     ]
    }
   ],
   "source": [
    "def drop_first_last(grades):\n",
    "    first, *middle, last = grades\n",
    "    return middle\n",
    "\n",
    "middle = drop_first_last(grades)\n",
    "print(middle)"
   ]
  },
  {
   "cell_type": "markdown",
   "metadata": {},
   "source": [
    "\\*式的语法在迭代一个变长的元组序列时尤其有用"
   ]
  },
  {
   "cell_type": "code",
   "execution_count": 7,
   "metadata": {},
   "outputs": [
    {
     "name": "stdout",
     "output_type": "stream",
     "text": [
      "foo 1 2\n",
      "bar hello\n",
      "foo 3 4\n"
     ]
    }
   ],
   "source": [
    "records = [\n",
    "    ('foo', 1, 2),\n",
    "    ('bar', 'hello'),\n",
    "    ('foo', 3, 4),\n",
    "]\n",
    "def do_foo(x, y):\n",
    "    print('foo', x, y)\n",
    "def do_bar(s):\n",
    "    print('bar', s)\n",
    "for tag, *args in records:\n",
    "    if tag == 'foo':\n",
    "        do_foo(*args)\n",
    "    elif tag == 'bar':\n",
    "        do_bar(*args)\n"
   ]
  },
  {
   "cell_type": "markdown",
   "metadata": {},
   "source": [
    "有时候可能想分解出某些值然后丢弃它们"
   ]
  },
  {
   "cell_type": "code",
   "execution_count": 9,
   "metadata": {},
   "outputs": [
    {
     "name": "stdout",
     "output_type": "stream",
     "text": [
      "ACME 2012\n"
     ]
    }
   ],
   "source": [
    "record = ['ACME', 50, 123.45, (12, 18, 2012)]\n",
    "name, *_, (*_, year) = record\n",
    "print(name, year)"
   ]
  },
  {
   "cell_type": "markdown",
   "metadata": {},
   "source": [
    "## 1.3 保存最后N个元素\n",
    "\n",
    "### 问题\n",
    "\n",
    "我们希望在迭代或是其他形式的处理过程中对最后几项记录做一个有限的历史记录统计\n",
    "\n",
    "### 解决方案\n",
    "\n",
    "`collections.deque`\n",
    "\n",
    "下面的代码对一系列文本做简单的文本匹配操作，当发现有匹配时就输出当前的匹配行以及最后检查过的N行文本"
   ]
  },
  {
   "cell_type": "code",
   "execution_count": 13,
   "metadata": {},
   "outputs": [
    {
     "name": "stdout",
     "output_type": "stream",
     "text": [
      "摩拜单车\n",
      "西电教务处\n",
      "bilibili      # 很重要\n",
      "简书\n",
      "36氪\n",
      "网易云音乐\n",
      "------------------------\n"
     ]
    }
   ],
   "source": [
    "from collections import deque\n",
    "\n",
    "def search(lines, pattern, history=5):\n",
    "    previous_lines = deque(maxlen=history)\n",
    "    for line in lines:\n",
    "        if pattern in line:\n",
    "            yield line, previous_lines\n",
    "        previous_lines.append(line)\n",
    "    \n",
    "# Example use on a file\n",
    "with open(r'C:\\Users\\Ph\\Desktop\\log\\手机号解绑.txt') as f:\n",
    "    for line, prevlines in search(f, '网易云音乐', 5):\n",
    "        for pline in prevlines:\n",
    "            print(pline, end='')\n",
    "        print(line, end='')\n",
    "        print('-'*24)"
   ]
  },
  {
   "cell_type": "markdown",
   "metadata": {},
   "source": [
    "`deque(maxlen=N)`创建了一个固定长度的队列。当有新纪录加入而队列已满时会自动移除最老的那条记录"
   ]
  },
  {
   "cell_type": "code",
   "execution_count": 14,
   "metadata": {},
   "outputs": [
    {
     "name": "stdout",
     "output_type": "stream",
     "text": [
      "deque([2, 3, 4], maxlen=3)\n"
     ]
    }
   ],
   "source": [
    "q = deque(maxlen=3)\n",
    "q.append(1)\n",
    "q.append(2)\n",
    "q.append(3)\n",
    "q.append(4)\n",
    "print(q)"
   ]
  },
  {
   "cell_type": "markdown",
   "metadata": {},
   "source": [
    "从队列两端添加或弹出元素的复杂度都是O(1)。当从列表的头部插入或移除元素时，列表的复杂度为O(N)。"
   ]
  },
  {
   "cell_type": "code",
   "execution_count": 15,
   "metadata": {},
   "outputs": [
    {
     "name": "stdout",
     "output_type": "stream",
     "text": [
      "deque([1, 2, 3])\n",
      "deque([4, 1, 2, 3])\n",
      "3\n",
      "deque([4, 1, 2])\n",
      "deque([1, 2])\n"
     ]
    }
   ],
   "source": [
    "q = deque()\n",
    "q.append(1)\n",
    "q.append(2)\n",
    "q.append(3)\n",
    "print(q)\n",
    "q.appendleft(4)\n",
    "print(q)\n",
    "p = q.pop()\n",
    "print(p)\n",
    "print(q)\n",
    "q.popleft()\n",
    "print(q)"
   ]
  },
  {
   "cell_type": "markdown",
   "metadata": {},
   "source": [
    "## 1.4 找到最大或最小的N个元素\n",
    "\n",
    "### 问题\n",
    "\n",
    "我们想在某个集合中找到最大或最小的N个元素\n",
    "\n",
    "### 解决方案\n",
    "\n",
    "heapq模块中有两个函数 —— nlargest() 和 nsmallest() —— 它们正是我们所需要的"
   ]
  },
  {
   "cell_type": "code",
   "execution_count": 16,
   "metadata": {},
   "outputs": [
    {
     "name": "stdout",
     "output_type": "stream",
     "text": [
      "[1, 15, 14, 12, 37, 14, 10, 35, 13, 6, 16, 16, 5, 31, 22]\n",
      "[37, 35, 31, 22]\n",
      "[1, 5, 6, 10]\n"
     ]
    }
   ],
   "source": [
    "import heapq\n",
    "import random\n",
    "\n",
    "nums = [random.randint(1, 40) for _ in range(15)]\n",
    "print(nums)\n",
    "print(heapq.nlargest(4, nums))\n",
    "print(heapq.nsmallest(4, nums))"
   ]
  },
  {
   "cell_type": "markdown",
   "metadata": {},
   "source": [
    "这两个函数都可以接受一个参数key，从而允许它们工作在更加复杂的数据结构之上"
   ]
  },
  {
   "cell_type": "code",
   "execution_count": 17,
   "metadata": {},
   "outputs": [
    {
     "name": "stdout",
     "output_type": "stream",
     "text": [
      "cheap: [{'name': 'YHOO', 'shares': 45, 'price': 16.35}, {'name': 'FB', 'shares': 200, 'price': 21.09}, {'name': 'HPQ', 'shares': 35, 'price': 31.75}]\n",
      "expensive: [{'name': 'AAPL', 'shares': 50, 'price': 543.22}, {'name': 'ACME', 'shares': 75, 'price': 115.65}, {'name': 'IBM', 'shares': 100, 'price': 91.1}]\n"
     ]
    }
   ],
   "source": [
    "portfolio = [\n",
    "    {'name': 'IBM', 'shares': 100, 'price': 91.1},\n",
    "    {'name': 'AAPL', 'shares': 50, 'price': 543.22},\n",
    "    {'name': 'FB', 'shares': 200, 'price': 21.09},\n",
    "    {'name': 'HPQ', 'shares': 35, 'price': 31.75},\n",
    "    {'name': 'YHOO', 'shares':45, 'price': 16.35},\n",
    "    {'name': 'ACME', 'shares':75, 'price': 115.65},\n",
    "]\n",
    "\n",
    "cheap = heapq.nsmallest(3, portfolio, key=lambda s:s['price'])\n",
    "expensive = heapq.nlargest(3, portfolio, key=lambda s:s['price'])\n",
    "print(f'cheap: {cheap}')\n",
    "print(f'expensive: {expensive}')"
   ]
  },
  {
   "cell_type": "markdown",
   "metadata": {},
   "source": [
    "## 1.5 实现优先级队列\n",
    "\n",
    "### 问题\n",
    "\n",
    "我们想要实现一个队列，它能够以给定的优先级来对元素排序，且每次 pop 操作时都会返回优先级最高的那个元素\n",
    "\n",
    "### 解决方案\n",
    "\n",
    "利用 heapq 模块实现简单的优先级队列"
   ]
  },
  {
   "cell_type": "code",
   "execution_count": 20,
   "metadata": {},
   "outputs": [],
   "source": [
    "import heapq\n",
    "class PriorityQueue:\n",
    "    def __init__(self):\n",
    "        self._queue = []\n",
    "        self._index = 0\n",
    "    \n",
    "    def push(self, item, priority):\n",
    "        heapq.heappush(self._queue, (-priority, self._index, item))  # 将元组推入 self._queue\n",
    "        self._index += 1\n",
    "    \n",
    "    def pop(self):\n",
    "        return heapq.heappop(self._queue)[-1]  # 将 self._queue[0] 最小的元素 self._queue[-1] 弹出\n",
    "\n",
    "class Item:\n",
    "    def __init__(self, name):\n",
    "        self.name = name\n",
    "    def __repr__(self):\n",
    "        return 'Item({!r})'.format(self.name)"
   ]
  },
  {
   "cell_type": "code",
   "execution_count": 24,
   "metadata": {},
   "outputs": [
    {
     "name": "stdout",
     "output_type": "stream",
     "text": [
      "Item('bar')\n",
      "Item('spam')\n",
      "Item('foo')\n",
      "Item('grok')\n"
     ]
    }
   ],
   "source": [
    "q = PriorityQueue()\n",
    "q.push(Item('foo'), 1)\n",
    "q.push(Item('bar'), 5)\n",
    "q.push(Item('spam'), 4)\n",
    "q.push(Item('grok'), 1)\n",
    "print(q.pop())\n",
    "print(q.pop())\n",
    "print(q.pop())\n",
    "print(q.pop())"
   ]
  },
  {
   "cell_type": "code",
   "execution_count": 26,
   "metadata": {},
   "outputs": [
    {
     "ename": "TypeError",
     "evalue": "'>' not supported between instances of 'Item' and 'Item'",
     "output_type": "error",
     "traceback": [
      "\u001b[1;31m---------------------------------------------------------------------------\u001b[0m",
      "\u001b[1;31mTypeError\u001b[0m                                 Traceback (most recent call last)",
      "\u001b[1;32m<ipython-input-26-819b8d517d2a>\u001b[0m in \u001b[0;36m<module>\u001b[1;34m\u001b[0m\n\u001b[1;32m----> 1\u001b[1;33m \u001b[0mItem\u001b[0m\u001b[1;33m(\u001b[0m\u001b[1;34m'foo'\u001b[0m\u001b[1;33m)\u001b[0m \u001b[1;33m>\u001b[0m \u001b[0mItem\u001b[0m\u001b[1;33m(\u001b[0m\u001b[1;34m'bar'\u001b[0m\u001b[1;33m)\u001b[0m\u001b[1;33m\u001b[0m\u001b[1;33m\u001b[0m\u001b[0m\n\u001b[0m",
      "\u001b[1;31mTypeError\u001b[0m: '>' not supported between instances of 'Item' and 'Item'"
     ]
    }
   ],
   "source": [
    "Item('foo') > Item('bar')"
   ]
  },
  {
   "cell_type": "code",
   "execution_count": 28,
   "metadata": {},
   "outputs": [
    {
     "name": "stdout",
     "output_type": "stream",
     "text": [
      "a < b is True\n"
     ]
    },
    {
     "ename": "TypeError",
     "evalue": "'<' not supported between instances of 'Item' and 'Item'",
     "output_type": "error",
     "traceback": [
      "\u001b[1;31m---------------------------------------------------------------------------\u001b[0m",
      "\u001b[1;31mTypeError\u001b[0m                                 Traceback (most recent call last)",
      "\u001b[1;32m<ipython-input-28-b3298a1ca4a7>\u001b[0m in \u001b[0;36m<module>\u001b[1;34m\u001b[0m\n\u001b[0;32m      3\u001b[0m \u001b[0mc\u001b[0m \u001b[1;33m=\u001b[0m \u001b[1;33m(\u001b[0m\u001b[1;36m1\u001b[0m\u001b[1;33m,\u001b[0m \u001b[0mItem\u001b[0m\u001b[1;33m(\u001b[0m\u001b[1;34m'grok'\u001b[0m\u001b[1;33m)\u001b[0m\u001b[1;33m)\u001b[0m\u001b[1;33m\u001b[0m\u001b[1;33m\u001b[0m\u001b[0m\n\u001b[0;32m      4\u001b[0m \u001b[0mprint\u001b[0m\u001b[1;33m(\u001b[0m\u001b[1;34m'a < b is {}'\u001b[0m\u001b[1;33m.\u001b[0m\u001b[0mformat\u001b[0m\u001b[1;33m(\u001b[0m\u001b[0ma\u001b[0m \u001b[1;33m<\u001b[0m \u001b[0mb\u001b[0m\u001b[1;33m)\u001b[0m\u001b[1;33m)\u001b[0m\u001b[1;33m\u001b[0m\u001b[1;33m\u001b[0m\u001b[0m\n\u001b[1;32m----> 5\u001b[1;33m \u001b[0mprint\u001b[0m\u001b[1;33m(\u001b[0m\u001b[1;34m'a < c is {}'\u001b[0m\u001b[1;33m.\u001b[0m\u001b[0mformat\u001b[0m\u001b[1;33m(\u001b[0m\u001b[0ma\u001b[0m \u001b[1;33m<\u001b[0m \u001b[0mc\u001b[0m\u001b[1;33m)\u001b[0m\u001b[1;33m)\u001b[0m\u001b[1;33m\u001b[0m\u001b[1;33m\u001b[0m\u001b[0m\n\u001b[0m",
      "\u001b[1;31mTypeError\u001b[0m: '<' not supported between instances of 'Item' and 'Item'"
     ]
    }
   ],
   "source": [
    "a = (1, Item('foo'))\n",
    "b = (5, Item('bar'))\n",
    "c = (1, Item('grok'))\n",
    "print('a < b is {}'.format(a < b))\n",
    "print('a < c is {}'.format(a < c))"
   ]
  },
  {
   "cell_type": "code",
   "execution_count": 29,
   "metadata": {},
   "outputs": [
    {
     "name": "stdout",
     "output_type": "stream",
     "text": [
      "a < b is True\n",
      "a < c is True\n"
     ]
    }
   ],
   "source": [
    "a = (1, 0, Item('foo'))\n",
    "b = (5, 1, Item('bar'))\n",
    "c = (1, 2, Item('grok'))\n",
    "print('a < b is {}'.format(a < b))\n",
    "print('a < c is {}'.format(a < c))"
   ]
  },
  {
   "cell_type": "markdown",
   "metadata": {},
   "source": [
    "## 1.6 在字典中将键映射到多个值上\n",
    "\n",
    "### 问题\n",
    "\n",
    "我们想要一个能将键（key）映射到多个值的字典（即所谓的一键多值字典[multidict]）\n",
    "\n",
    "### 解决方案\n",
    "\n",
    "利用 collections 模块的 defaultdict"
   ]
  },
  {
   "cell_type": "code",
   "execution_count": 32,
   "metadata": {},
   "outputs": [
    {
     "name": "stdout",
     "output_type": "stream",
     "text": [
      "defaultdict(<class 'list'>, {'a': [1, 2], 'b': [4, 8]})\n",
      "defaultdict(<class 'set'>, {'a': {1, 2}, 'b': {8, 4}})\n"
     ]
    }
   ],
   "source": [
    "from collections import defaultdict\n",
    "\n",
    "# defaultdict 会自动初始化第一个值，会自动创建字典表项以待稍后的访问\n",
    "# 通俗的说就是 defaultdict 访问没初始化过的 Key 不会报 KeyError，而是返回空的 list or set\n",
    "dl = defaultdict(list)\n",
    "dl['a'].append(1)\n",
    "dl['a'].append(2)\n",
    "dl['b'].append(4)\n",
    "dl['b'].append(8)\n",
    "print(dl)\n",
    "ds = defaultdict(set)\n",
    "ds['a'].add(1)\n",
    "ds['a'].add(2)\n",
    "ds['b'].add(4)\n",
    "ds['b'].add(8)\n",
    "print(ds)"
   ]
  },
  {
   "cell_type": "markdown",
   "metadata": {},
   "source": [
    "## 1.7 让字典保持有序\n",
    "\n",
    "### 问题\n",
    "\n",
    "我们想创建一个字典，同时当对字典做迭代或序列化操作时，也能控制其中元素的顺序\n",
    "\n",
    "### 解决方案\n",
    "\n",
    "利用 collections 模块的 OrderedDict"
   ]
  },
  {
   "cell_type": "markdown",
   "metadata": {},
   "source": [
    "### 讨论\n",
    "\n",
    "OrderedDict 内部维护了一个双向链表，它会根据元素加入的顺序来排列键的位置。\n",
    "第一个新加入的元素被放置在链表的末尾。接下来对已存在的键做重新赋值不会改变键的顺序。\n",
    "\n",
    "warning：OrderedDict的大小是普通字典的2倍多"
   ]
  },
  {
   "cell_type": "code",
   "execution_count": 33,
   "metadata": {},
   "outputs": [
    {
     "name": "stdout",
     "output_type": "stream",
     "text": [
      "\n",
      "1 H 6.950457334518433\n",
      "\n",
      "2 C 7.534353733062744\n",
      "\n",
      "3 E 8.800331354141235\n",
      "\n",
      "4 D 10.574729442596436\n",
      "\n",
      "5 A 12.161805152893066\n",
      "\n",
      "6 B 12.522283792495728\n",
      "\n",
      "7 F 13.620580673217773\n",
      "\n",
      "8 G 15.475238800048828\n",
      "\n",
      " ------------------------ \n",
      "\n",
      "H (1, 6.950457334518433)\n",
      "C (2, 7.534353733062744)\n",
      "E (3, 8.800331354141235)\n",
      "D (4, 10.574729442596436)\n",
      "A (5, 12.161805152893066)\n",
      "B (6, 12.522283792495728)\n",
      "F (7, 13.620580673217773)\n",
      "G (8, 15.475238800048828)\n"
     ]
    }
   ],
   "source": [
    "from time import time\n",
    "from random import randint\n",
    "from collections import OrderedDict\n",
    "\n",
    "d = OrderedDict()\n",
    "players = list('ABCDEFGH')\n",
    "start = time()\n",
    "\n",
    "for i in range(8):\n",
    "    input()\n",
    "    p = players.pop(randint(0, 7 - i))\n",
    "    end = time()\n",
    "    print(i + 1, p, end-start)\n",
    "    d[p] = (i+1, end - start)\n",
    "\n",
    "print('\\n', '-' * 24, '\\n')\n",
    "for k in d:\n",
    "    print(k, d[k])"
   ]
  },
  {
   "cell_type": "markdown",
   "metadata": {},
   "source": [
    "## 1.8 与字典有关的计算问题\n",
    "\n",
    "### 问题\n",
    "\n",
    "我们想在字典上对数据执行各式各样的计算（比如求最小值、最大值、排序等）\n",
    "\n",
    "### 解决方案\n",
    "\n",
    "利用 zip() 将字典的 key 和 value 反过来"
   ]
  },
  {
   "cell_type": "code",
   "execution_count": 34,
   "metadata": {},
   "outputs": [
    {
     "name": "stdout",
     "output_type": "stream",
     "text": [
      "min_price is (10.75, 'FB')\n",
      "max_price is (612.78, 'AAPL')\n",
      "************************\n",
      "[(10.75, 'FB'), (37.2, 'HPQ'), (45.23, 'ACME'), (205.55, 'IBM'), (612.78, 'AAPL')]\n"
     ]
    }
   ],
   "source": [
    "prices = {\n",
    "    'ACME': 45.23,\n",
    "    'AAPL': 612.78,\n",
    "    'IBM': 205.55,\n",
    "    'HPQ': 37.20,\n",
    "    'FB': 10.75\n",
    "}\n",
    "min_price = min(zip(prices.values(), prices.keys()))\n",
    "print(f'min_price is {min_price}')\n",
    "max_price = max(zip(prices.values(), prices.keys()))\n",
    "print(f'max_price is {max_price}')\n",
    "prices_sorted = sorted(zip(prices.values(), prices.keys()))\n",
    "print('*'*24)\n",
    "print(prices_sorted)"
   ]
  },
  {
   "cell_type": "markdown",
   "metadata": {},
   "source": [
    "## 1.9 在两个字典中寻找相同点\n",
    "\n",
    "### 问题\n",
    "\n",
    "有两个字典，我们想找出它们中间可能相同的地方（相同的键、相同的值等）\n",
    "\n",
    "### 解决方案\n",
    "\n",
    "通过 keys() 或者 items() 方法执行常见的集合操作"
   ]
  },
  {
   "cell_type": "code",
   "execution_count": 35,
   "metadata": {},
   "outputs": [],
   "source": [
    "a = {\n",
    "    'x': 1,\n",
    "    'y': 2,\n",
    "    'z': 3,\n",
    "}\n",
    "b = {\n",
    "    'w': 10,\n",
    "    'x': 11,\n",
    "    'y': 2,\n",
    "}"
   ]
  },
  {
   "cell_type": "markdown",
   "metadata": {},
   "source": [
    "### 讨论\n",
    "\n",
    "字典的 keys() 会返回 keys-view 对象，支持常见的集合操作，\n",
    "字典的 items() 会返回 items-view 对象，也支持常见的集合操作\n",
    "\n",
    "但是 values() 方法并不支持集合操作，但是可以先将值转化为集合来实现"
   ]
  },
  {
   "cell_type": "code",
   "execution_count": 36,
   "metadata": {},
   "outputs": [
    {
     "data": {
      "text/plain": [
       "{'x', 'y'}"
      ]
     },
     "execution_count": 36,
     "metadata": {},
     "output_type": "execute_result"
    }
   ],
   "source": [
    "a.keys() & b.keys()"
   ]
  },
  {
   "cell_type": "code",
   "execution_count": 37,
   "metadata": {},
   "outputs": [
    {
     "data": {
      "text/plain": [
       "{'z'}"
      ]
     },
     "execution_count": 37,
     "metadata": {},
     "output_type": "execute_result"
    }
   ],
   "source": [
    "a.keys() - b.keys()"
   ]
  },
  {
   "cell_type": "code",
   "execution_count": 38,
   "metadata": {},
   "outputs": [
    {
     "data": {
      "text/plain": [
       "{('y', 2)}"
      ]
     },
     "execution_count": 38,
     "metadata": {},
     "output_type": "execute_result"
    }
   ],
   "source": [
    "a.items() & b.items()"
   ]
  },
  {
   "cell_type": "markdown",
   "metadata": {},
   "source": [
    "## 1.10 从序列中移除重复项且保持元素间顺序不变\n",
    "\n",
    "### 问题\n",
    "\n",
    "我们想去除序列中出现的重复元素，但仍然保持剩下的元素顺序不变\n",
    "\n",
    "### 解决方案\n",
    "\n",
    "如果序列中的值是可哈希（hashable）的，使用集合和生成器\n",
    "\n",
    "可哈希：对象在生存期内必须不可变，需要有一个 __hash__() 方法"
   ]
  },
  {
   "cell_type": "code",
   "execution_count": 44,
   "metadata": {},
   "outputs": [],
   "source": [
    "def dedupe(items):\n",
    "    seen = set()\n",
    "    for item in items:\n",
    "        if item not in seen:\n",
    "            yield item\n",
    "            seen.add(item)"
   ]
  },
  {
   "cell_type": "code",
   "execution_count": 46,
   "metadata": {},
   "outputs": [
    {
     "name": "stdout",
     "output_type": "stream",
     "text": [
      "[3, 4, 10, 7, 2, 10, 7, 7, 4, 1, 9, 1, 7, 8, 6]\n",
      "[3, 4, 10, 7, 2, 1, 9, 8, 6]\n"
     ]
    }
   ],
   "source": [
    "import random\n",
    "a = [random.randint(1, 10) for _ in range(1, 16)]\n",
    "print(a)\n",
    "print(list(dedupe(a)))"
   ]
  },
  {
   "cell_type": "markdown",
   "metadata": {},
   "source": [
    "如果序列中的元素是**不可哈希**的对象"
   ]
  },
  {
   "cell_type": "code",
   "execution_count": 47,
   "metadata": {},
   "outputs": [],
   "source": [
    "def dedupe(items, key=None):\n",
    "    seen = set()\n",
    "    for item in items:\n",
    "        val = item if key is None else key(item)\n",
    "        if val not in seen:\n",
    "            yield item\n",
    "            seen.add(val)"
   ]
  },
  {
   "cell_type": "code",
   "execution_count": 48,
   "metadata": {},
   "outputs": [
    {
     "name": "stdout",
     "output_type": "stream",
     "text": [
      "[{'x': 1, 'y': 2}, {'x': 1, 'y': 3}, {'x': 2, 'y': 4}]\n",
      "[{'x': 1, 'y': 2}, {'x': 2, 'y': 4}]\n"
     ]
    }
   ],
   "source": [
    "a = [{'x':1, 'y':2}, {'x':1, 'y':3}, {'x':1, 'y':2}, {'x':2, 'y':4}]\n",
    "print(list(dedupe(a, key=lambda d: (d['x'], d['y']))))\n",
    "print(list(dedupe(a, key=lambda d: (d['x']))))"
   ]
  },
  {
   "cell_type": "markdown",
   "metadata": {},
   "source": [
    "## 1.11 对切片命名\n",
    "\n",
    "### 问题\n",
    "\n",
    "我们的代码已经变得无法阅读，到处都是硬编码的切片索引，我们想将它们清理干净"
   ]
  },
  {
   "cell_type": "code",
   "execution_count": 50,
   "metadata": {},
   "outputs": [
    {
     "name": "stdout",
     "output_type": "stream",
     "text": [
      "[0, 1, 2, 3, 4, 5, 6]\n",
      "[2, 3]\n",
      "[2, 3]\n",
      "[0, 1, 10, 11, 4, 5, 6]\n",
      "[0, 1, 4, 5, 6]\n"
     ]
    }
   ],
   "source": [
    "items = [0, 1, 2, 3, 4, 5, 6]\n",
    "print(items)\n",
    "a = slice(2, 4)\n",
    "print(items[2:4])\n",
    "print(items[a])\n",
    "items[a] = [10, 11]\n",
    "print(items)\n",
    "del items[a]\n",
    "print(items)"
   ]
  },
  {
   "cell_type": "code",
   "execution_count": 51,
   "metadata": {},
   "outputs": [
    {
     "name": "stdout",
     "output_type": "stream",
     "text": [
      "10\n",
      "50\n",
      "2\n"
     ]
    }
   ],
   "source": [
    "a = slice(10, 50, 2)\n",
    "print(a.start)\n",
    "print(a.stop)\n",
    "print(a.step)"
   ]
  },
  {
   "cell_type": "markdown",
   "metadata": {},
   "source": [
    "使用 indices(size) 方法将切片映射到特定大小的序列上  可避免出现 IndexError 异常"
   ]
  },
  {
   "cell_type": "code",
   "execution_count": 53,
   "metadata": {},
   "outputs": [
    {
     "data": {
      "text/plain": [
       "(5, 10, 2)"
      ]
     },
     "execution_count": 53,
     "metadata": {},
     "output_type": "execute_result"
    }
   ],
   "source": [
    "s = 'HelloWorld'\n",
    "a = slice(5, 20, 2)\n",
    "a.indices(len(s))"
   ]
  },
  {
   "cell_type": "code",
   "execution_count": 54,
   "metadata": {},
   "outputs": [
    {
     "name": "stdout",
     "output_type": "stream",
     "text": [
      "W\n",
      "r\n",
      "d\n"
     ]
    }
   ],
   "source": [
    "for i in range(*a.indices(len(s))):\n",
    "    print(s[i])"
   ]
  },
  {
   "cell_type": "markdown",
   "metadata": {},
   "source": [
    "## 1.12 找出序列中出现次数最多的元素\n",
    "\n",
    "### 问题\n",
    "\n",
    "我们有一个元素序列，想知道在序列中出现次数最多的元素是什么\n",
    "\n",
    "### 解决方案\n",
    "\n",
    "collections 模块中的 Counter 类正是为此类问题所设计的"
   ]
  },
  {
   "cell_type": "code",
   "execution_count": 58,
   "metadata": {},
   "outputs": [
    {
     "name": "stdout",
     "output_type": "stream",
     "text": [
      "[10, 2, 0, 3, 3, 0, 8, 9, 10, 1, 8, 2, 0, 9, 2, 3, 3, 9, 1, 2]\n"
     ]
    }
   ],
   "source": [
    "from random import randint\n",
    "\n",
    "data = [randint(0, 10) for _ in range(20)]\n",
    "print(data)"
   ]
  },
  {
   "cell_type": "code",
   "execution_count": 59,
   "metadata": {},
   "outputs": [
    {
     "name": "stdout",
     "output_type": "stream",
     "text": [
      "Counter({2: 4, 3: 4, 0: 3, 9: 3, 10: 2, 8: 2, 1: 2}) \n",
      "\n",
      "[(2, 4), (3, 4), (0, 3)]\n",
      "2\n"
     ]
    }
   ],
   "source": [
    "from collections import Counter\n",
    "\n",
    "c1 = Counter(data)\n",
    "print(c1, '\\n')\n",
    "\n",
    "print(c1.most_common(3))\n",
    "print(c1.most_common(1)[0][0])"
   ]
  },
  {
   "cell_type": "code",
   "execution_count": 57,
   "metadata": {},
   "outputs": [
    {
     "name": "stdout",
     "output_type": "stream",
     "text": [
      "Counter({7: 4, 8: 3, 0: 3, 2: 2, 9: 2, 10: 2, 3: 2, 5: 1, 6: 1}) \n",
      "\n",
      "[(7, 4), (8, 3), (0, 3)]\n",
      "7\n"
     ]
    }
   ],
   "source": [
    "from collections import Counter\n",
    "\n",
    "c2 = Counter(data)\n",
    "print(c2, '\\n')\n",
    "\n",
    "print(c2.most_common(3))\n",
    "print(c2.most_common(1)[0][0])"
   ]
  },
  {
   "cell_type": "code",
   "execution_count": 62,
   "metadata": {},
   "outputs": [
    {
     "name": "stdout",
     "output_type": "stream",
     "text": [
      "Counter({2: 6, 0: 6, 3: 6, 8: 5, 9: 5, 10: 4, 7: 4, 1: 2, 5: 1, 6: 1})\n",
      "Counter({2: 2, 3: 2, 1: 2, 9: 1})\n"
     ]
    }
   ],
   "source": [
    "a = c1 + c2\n",
    "print(a)\n",
    "b = c1 - c2\n",
    "print(b)"
   ]
  },
  {
   "cell_type": "markdown",
   "metadata": {},
   "source": [
    "## 1.13 通过公共键对字典列表排序\n",
    "\n",
    "### 问题\n",
    "\n",
    "我们有一个字典列表，想根据一个或多个字典中的值来对列表进行排序\n",
    "\n",
    "### 解决方案\n",
    "\n",
    "利用 operator 模块中的 itemgetter 函数"
   ]
  },
  {
   "cell_type": "code",
   "execution_count": 63,
   "metadata": {},
   "outputs": [],
   "source": [
    "rows = [\n",
    "    {'fname': 'Brian', 'lname': 'Jones', 'uid': 1003},\n",
    "    {'fname': 'David', 'lname': 'Beazley', 'uid': 1002},\n",
    "    {'fname': 'John', 'lname': 'Cleese', 'uid': 1001},\n",
    "    {'fname': 'Big', 'lname': 'Jones', 'uid': 1004},\n",
    "]"
   ]
  },
  {
   "cell_type": "code",
   "execution_count": 66,
   "metadata": {},
   "outputs": [
    {
     "name": "stdout",
     "output_type": "stream",
     "text": [
      "[{'fname': 'Big', 'lname': 'Jones', 'uid': 1004},\n",
      " {'fname': 'Brian', 'lname': 'Jones', 'uid': 1003},\n",
      " {'fname': 'David', 'lname': 'Beazley', 'uid': 1002},\n",
      " {'fname': 'John', 'lname': 'Cleese', 'uid': 1001}]\n",
      "\n",
      "[{'fname': 'John', 'lname': 'Cleese', 'uid': 1001},\n",
      " {'fname': 'David', 'lname': 'Beazley', 'uid': 1002},\n",
      " {'fname': 'Brian', 'lname': 'Jones', 'uid': 1003},\n",
      " {'fname': 'Big', 'lname': 'Jones', 'uid': 1004}]\n"
     ]
    }
   ],
   "source": [
    "from operator import itemgetter\n",
    "from pprint import pprint\n",
    "rows_by_fname = sorted(rows, key=itemgetter('fname'))\n",
    "rows_by_uid = sorted(rows, key=itemgetter('uid'))\n",
    "\n",
    "pprint(rows_by_fname)\n",
    "print()\n",
    "pprint(rows_by_uid)"
   ]
  },
  {
   "cell_type": "markdown",
   "metadata": {},
   "source": [
    "itemgetter()函数还可以接受多个键"
   ]
  },
  {
   "cell_type": "code",
   "execution_count": 67,
   "metadata": {},
   "outputs": [
    {
     "name": "stdout",
     "output_type": "stream",
     "text": [
      "[{'fname': 'David', 'lname': 'Beazley', 'uid': 1002},\n",
      " {'fname': 'John', 'lname': 'Cleese', 'uid': 1001},\n",
      " {'fname': 'Big', 'lname': 'Jones', 'uid': 1004},\n",
      " {'fname': 'Brian', 'lname': 'Jones', 'uid': 1003}]\n"
     ]
    }
   ],
   "source": [
    "rows_by_lfname = sorted(rows, key=itemgetter('lname', 'fname'))\n",
    "pprint(rows_by_lfname)"
   ]
  },
  {
   "cell_type": "markdown",
   "metadata": {},
   "source": [
    "有时候会用 lambda 表达式来取代 itemgetter() 的功能，但是 itemgetter() 通常会运行得更快一些"
   ]
  },
  {
   "cell_type": "code",
   "execution_count": 69,
   "metadata": {},
   "outputs": [
    {
     "name": "stdout",
     "output_type": "stream",
     "text": [
      "[{'fname': 'Big', 'lname': 'Jones', 'uid': 1004},\n",
      " {'fname': 'Brian', 'lname': 'Jones', 'uid': 1003},\n",
      " {'fname': 'David', 'lname': 'Beazley', 'uid': 1002},\n",
      " {'fname': 'John', 'lname': 'Cleese', 'uid': 1001}]\n",
      "\n",
      "[{'fname': 'David', 'lname': 'Beazley', 'uid': 1002},\n",
      " {'fname': 'John', 'lname': 'Cleese', 'uid': 1001},\n",
      " {'fname': 'Big', 'lname': 'Jones', 'uid': 1004},\n",
      " {'fname': 'Brian', 'lname': 'Jones', 'uid': 1003}]\n"
     ]
    }
   ],
   "source": [
    "rows_by_fname = sorted(rows, key=lambda r: r['fname'])\n",
    "rows_by_lfname = sorted(rows, key=lambda r: (r['lname'], r['fname']))\n",
    "pprint(rows_by_fname)\n",
    "print()\n",
    "pprint(rows_by_lfname)"
   ]
  },
  {
   "cell_type": "markdown",
   "metadata": {},
   "source": [
    "此操作同样适用于 min() 和 max() 这样的函数"
   ]
  },
  {
   "cell_type": "code",
   "execution_count": 70,
   "metadata": {},
   "outputs": [
    {
     "name": "stdout",
     "output_type": "stream",
     "text": [
      "min:  {'fname': 'John', 'lname': 'Cleese', 'uid': 1001}\n",
      "max:  {'fname': 'Big', 'lname': 'Jones', 'uid': 1004}\n"
     ]
    }
   ],
   "source": [
    "print('min: ', min(rows, key=itemgetter('uid')))\n",
    "print('max: ', max(rows, key=itemgetter('uid')))"
   ]
  },
  {
   "cell_type": "markdown",
   "metadata": {},
   "source": [
    "## 1.14 对不原生支持比较操作的对象排序\n",
    "\n",
    "### 问题\n",
    "\n",
    "我们想在同一个类的实例之间做排序，但是它们并不原生支持比较操作\n",
    "\n",
    "### 解决方案\n",
    "\n",
    "内建的 sorted() 函数可接受一个用来传递可调用对象（callable）的参数 key，而该可调用对象会返回待排序对象中的某些值，sorted 则利用这些值来比较对象。"
   ]
  },
  {
   "cell_type": "code",
   "execution_count": 73,
   "metadata": {},
   "outputs": [
    {
     "name": "stdout",
     "output_type": "stream",
     "text": [
      "[User(23), User(3), User(99)]\n",
      "[User(3), User(23), User(99)]\n",
      "[User(3), User(23), User(99)]\n"
     ]
    }
   ],
   "source": [
    "from operator import attrgetter\n",
    "\n",
    "class User:\n",
    "    def __init__(self, user_id):\n",
    "        self.user_id = user_id\n",
    "    def __repr__(self):\n",
    "        return 'User({})'.format(self.user_id)\n",
    "users = [User(23), User(3), User(99)]\n",
    "print(users)\n",
    "print(sorted(users, key=lambda u:u.user_id))  # 方法一\n",
    "print(sorted(users, key=attrgetter('user_id')))  # 方法二"
   ]
  },
  {
   "cell_type": "code",
   "execution_count": 74,
   "metadata": {},
   "outputs": [
    {
     "name": "stdout",
     "output_type": "stream",
     "text": [
      "min:  User(3)\n",
      "max:  User(99)\n"
     ]
    }
   ],
   "source": [
    "print('min: ', min(users, key=lambda u:u.user_id))\n",
    "print('max: ', max(users, key=lambda u:u.user_id))"
   ]
  },
  {
   "cell_type": "markdown",
   "metadata": {},
   "source": [
    "## 1.15 根据字段将记录分组\n",
    "\n",
    "### 问题\n",
    "\n",
    "有一系列的字典或对象实例，我们想根据某个特定的字段（比如说日期）来分组迭代数据\n",
    "\n",
    "### 解决方案\n",
    "\n",
    "itertools.groupby()函数在对数据进行分组时特别有用"
   ]
  },
  {
   "cell_type": "code",
   "execution_count": 75,
   "metadata": {},
   "outputs": [],
   "source": [
    "rows = [\n",
    "    {'address': '5412 N CLARK', 'date': '07/01/2012'},\n",
    "    {'address': '5148 N CLARK', 'date': '07/04/2012'},\n",
    "    {'address': '5800 E 58TH', 'date': '07/02/2012'},\n",
    "    {'address': '2122 N CLARK', 'date': '07/03/2012'},\n",
    "    {'address': '5645 N RAVENSWOOD', 'date': '07/02/2012'},\n",
    "    {'address': '1060 W ADDISON', 'date': '07/02/2012'},\n",
    "    {'address': '4801 N BROADWAY', 'date': '07/01/2012'},\n",
    "    {'address': '1039 W GRANVILLE', 'date': '07/04/2012'},\n",
    "]"
   ]
  },
  {
   "cell_type": "code",
   "execution_count": 76,
   "metadata": {},
   "outputs": [
    {
     "name": "stdout",
     "output_type": "stream",
     "text": [
      "order rows:  [{'address': '5412 N CLARK', 'date': '07/01/2012'}, {'address': '4801 N BROADWAY', 'date': '07/01/2012'}, {'address': '5800 E 58TH', 'date': '07/02/2012'}, {'address': '5645 N RAVENSWOOD', 'date': '07/02/2012'}, {'address': '1060 W ADDISON', 'date': '07/02/2012'}, {'address': '2122 N CLARK', 'date': '07/03/2012'}, {'address': '5148 N CLARK', 'date': '07/04/2012'}, {'address': '1039 W GRANVILLE', 'date': '07/04/2012'}]\n",
      "07/01/2012\n",
      "  {'address': '5412 N CLARK', 'date': '07/01/2012'}\n",
      "  {'address': '4801 N BROADWAY', 'date': '07/01/2012'}\n",
      "07/02/2012\n",
      "  {'address': '5800 E 58TH', 'date': '07/02/2012'}\n",
      "  {'address': '5645 N RAVENSWOOD', 'date': '07/02/2012'}\n",
      "  {'address': '1060 W ADDISON', 'date': '07/02/2012'}\n",
      "07/03/2012\n",
      "  {'address': '2122 N CLARK', 'date': '07/03/2012'}\n",
      "07/04/2012\n",
      "  {'address': '5148 N CLARK', 'date': '07/04/2012'}\n",
      "  {'address': '1039 W GRANVILLE', 'date': '07/04/2012'}\n"
     ]
    }
   ],
   "source": [
    "from operator import itemgetter\n",
    "from itertools import groupby\n",
    "\n",
    "order_rows = sorted(rows, key=itemgetter('date'))\n",
    "print('order rows: ', order_rows)\n",
    "for date, items in groupby(order_rows, key=itemgetter('date')):\n",
    "    print(date)\n",
    "    for i in items:\n",
    "        print(' ', i)"
   ]
  },
  {
   "cell_type": "markdown",
   "metadata": {},
   "source": [
    "如果只是简单地根据日期将数据分组到一起，放进一个大的数据结构中以允许进行随机访问，可以利用 defaultdict() 构建一个一键多值字典"
   ]
  },
  {
   "cell_type": "code",
   "execution_count": 78,
   "metadata": {},
   "outputs": [
    {
     "name": "stdout",
     "output_type": "stream",
     "text": [
      "defaultdict(<class 'list'>,\n",
      "            {'07/01/2012': [{'address': '5412 N CLARK', 'date': '07/01/2012'},\n",
      "                            {'address': '4801 N BROADWAY',\n",
      "                             'date': '07/01/2012'}],\n",
      "             '07/02/2012': [{'address': '5800 E 58TH', 'date': '07/02/2012'},\n",
      "                            {'address': '5645 N RAVENSWOOD',\n",
      "                             'date': '07/02/2012'},\n",
      "                            {'address': '1060 W ADDISON',\n",
      "                             'date': '07/02/2012'}],\n",
      "             '07/03/2012': [{'address': '2122 N CLARK', 'date': '07/03/2012'}],\n",
      "             '07/04/2012': [{'address': '5148 N CLARK', 'date': '07/04/2012'},\n",
      "                            {'address': '1039 W GRANVILLE',\n",
      "                             'date': '07/04/2012'}]})\n"
     ]
    }
   ],
   "source": [
    "from collections import defaultdict\n",
    "from pprint import pprint\n",
    "rows_by_date = defaultdict(list)\n",
    "for row in rows:\n",
    "    rows_by_date[row['date']].append(row)\n",
    "pprint(rows_by_date)"
   ]
  },
  {
   "cell_type": "markdown",
   "metadata": {},
   "source": [
    "## 1.16 筛选序列中的元素\n",
    "\n",
    "### 问题\n",
    "\n",
    "序列中有一些数据，我们需要提取出其中的值或根据某些标准对序列做删减\n",
    "\n",
    "### 解决方案\n",
    "\n",
    "列表推导式"
   ]
  },
  {
   "cell_type": "code",
   "execution_count": 1,
   "metadata": {},
   "outputs": [
    {
     "name": "stdout",
     "output_type": "stream",
     "text": [
      "[8, -3, -8, -6, 0, -7, -5, -3, 3, 1]\n"
     ]
    }
   ],
   "source": [
    "import random\n",
    "mylist = [random.randint(-10, 10) for _ in range(10)]\n",
    "print(mylist)"
   ]
  },
  {
   "cell_type": "code",
   "execution_count": 2,
   "metadata": {},
   "outputs": [
    {
     "data": {
      "text/plain": [
       "[8, 3, 1]"
      ]
     },
     "execution_count": 2,
     "metadata": {},
     "output_type": "execute_result"
    }
   ],
   "source": [
    "[n for n in mylist if n > 0]"
   ]
  },
  {
   "cell_type": "code",
   "execution_count": 3,
   "metadata": {},
   "outputs": [
    {
     "data": {
      "text/plain": [
       "[-3, -8, -6, -7, -5, -3]"
      ]
     },
     "execution_count": 3,
     "metadata": {},
     "output_type": "execute_result"
    }
   ],
   "source": [
    "[n for n in mylist if n < 0]"
   ]
  },
  {
   "cell_type": "code",
   "execution_count": 5,
   "metadata": {},
   "outputs": [
    {
     "data": {
      "text/plain": [
       "<generator object <genexpr> at 0x0000018159982228>"
      ]
     },
     "execution_count": 5,
     "metadata": {},
     "output_type": "execute_result"
    }
   ],
   "source": [
    "pos = (n for n in mylist if n < 0)\n",
    "pos"
   ]
  },
  {
   "cell_type": "code",
   "execution_count": 6,
   "metadata": {},
   "outputs": [
    {
     "name": "stdout",
     "output_type": "stream",
     "text": [
      "-3\n",
      "-8\n",
      "-6\n",
      "-7\n",
      "-5\n",
      "-3\n"
     ]
    }
   ],
   "source": [
    "for x in pos:\n",
    "    print(x)"
   ]
  },
  {
   "cell_type": "markdown",
   "metadata": {},
   "source": [
    "将处理筛选逻辑的代码放到单独的函数中，然后使用内建的 filter() 函数处理"
   ]
  },
  {
   "cell_type": "code",
   "execution_count": 7,
   "metadata": {},
   "outputs": [
    {
     "name": "stdout",
     "output_type": "stream",
     "text": [
      "['1', '2', '-3', '4', '5']\n"
     ]
    }
   ],
   "source": [
    "values = ['1', '2', '-3', '-', '4', 'N/A', '5']\n",
    "\n",
    "def is_int(val):\n",
    "    try:\n",
    "        x = int(val)\n",
    "        return True\n",
    "    except ValueError:\n",
    "        return False\n",
    "ivals = list(filter(is_int, values))  # filter() 创建了一个迭代器\n",
    "print(ivals)"
   ]
  },
  {
   "cell_type": "code",
   "execution_count": 10,
   "metadata": {},
   "outputs": [
    {
     "data": {
      "text/plain": [
       "[2.8284271247461903, 1.7320508075688772, 1.0]"
      ]
     },
     "execution_count": 10,
     "metadata": {},
     "output_type": "execute_result"
    }
   ],
   "source": [
    "import math\n",
    "\n",
    "[math.sqrt(n) for n in mylist if n > 0]"
   ]
  },
  {
   "cell_type": "markdown",
   "metadata": {},
   "source": [
    "替换掉不满足标准的值demo"
   ]
  },
  {
   "cell_type": "code",
   "execution_count": 11,
   "metadata": {},
   "outputs": [
    {
     "data": {
      "text/plain": [
       "[8, 0, 0, 0, 0, 0, 0, 0, 3, 1]"
      ]
     },
     "execution_count": 11,
     "metadata": {},
     "output_type": "execute_result"
    }
   ],
   "source": [
    "[n if n > 0 else 0 for n in mylist]"
   ]
  },
  {
   "cell_type": "markdown",
   "metadata": {},
   "source": [
    "筛选工具 `itertools.compress()` ,它接受一个可迭代对象以及一个布尔选择器序列作为输入"
   ]
  },
  {
   "cell_type": "code",
   "execution_count": 12,
   "metadata": {},
   "outputs": [
    {
     "name": "stdout",
     "output_type": "stream",
     "text": [
      "more5:  [False, False, True, False, False, True, True, False]\n",
      "['5800 E 58TH', '1060 W ADDISON', '4801 N BROADWAY']\n"
     ]
    }
   ],
   "source": [
    "from itertools import compress\n",
    "addresses = [\n",
    "    '5421 N CLARK',\n",
    "    '5148 N CLARK',\n",
    "    '5800 E 58TH',\n",
    "    '2122 N CLARK',\n",
    "    '5645 N RAVENSWOOD',\n",
    "    '1060 W ADDISON',\n",
    "    '4801 N BROADWAY',\n",
    "    '1039 W GRANVILLE',\n",
    "]\n",
    "counts = [0, 3, 10, 4, 1, 7, 6, 1]\n",
    "more5 = [n > 5 for n in counts]\n",
    "print('more5: ', more5)\n",
    "print(list(compress(addresses, more5)))"
   ]
  },
  {
   "cell_type": "markdown",
   "metadata": {},
   "source": [
    "## 1.17 从字典中提取子集\n",
    "\n",
    "### 问题\n",
    "\n",
    "我们想创建一个字典，其本身是另一个字典的子集\n",
    "\n",
    "### 解决方案\n",
    "\n",
    "利用字典推导式（dictionary comprehension）可轻松解决"
   ]
  },
  {
   "cell_type": "code",
   "execution_count": 14,
   "metadata": {},
   "outputs": [
    {
     "name": "stdout",
     "output_type": "stream",
     "text": [
      "{1: 93, 2: 61, 3: 95, 4: 87, 5: 88, 6: 99, 7: 75, 8: 68, 9: 75, 10: 80, 11: 92, 12: 97, 13: 88, 14: 64, 15: 79, 16: 93, 17: 90, 18: 86, 19: 62, 20: 65}\n"
     ]
    }
   ],
   "source": [
    "d = {x: random.randint(60,100) for x in range(1, 21)}\n",
    "print(d)"
   ]
  },
  {
   "cell_type": "code",
   "execution_count": 15,
   "metadata": {},
   "outputs": [
    {
     "data": {
      "text/plain": [
       "{1: 93, 3: 95, 6: 99, 11: 92, 12: 97, 16: 93, 17: 90}"
      ]
     },
     "execution_count": 15,
     "metadata": {},
     "output_type": "execute_result"
    }
   ],
   "source": [
    "{k:v for k,v in d.items() if v >= 90}"
   ]
  },
  {
   "cell_type": "markdown",
   "metadata": {},
   "source": [
    "## 1.18 将名称映射到序列的元素中\n",
    "\n",
    "### 问题\n",
    "\n",
    "我们的代码是通过位置来访问列表或元组的，但有时候这会使代码变得有些难以阅读。实现通过名称来访问元素\n",
    "\n",
    "### 解决方案\n",
    "\n",
    "`collections.namedtuple()`"
   ]
  },
  {
   "cell_type": "code",
   "execution_count": 34,
   "metadata": {},
   "outputs": [
    {
     "name": "stdout",
     "output_type": "stream",
     "text": [
      "Student(name='Jim', age=16, sex='male', email='jim8721@gmail.com')\n",
      "Student\n"
     ]
    }
   ],
   "source": [
    "from collections import namedtuple\n",
    "\n",
    "student = ('Jim', 16, 'male', 'jim8721@gmail.com')\n",
    "Student = namedtuple('Student', ['name', 'age', 'sex', 'email'])\n",
    "s = Student(*student)\n",
    "print(s)\n",
    "print(Student.__name__)"
   ]
  },
  {
   "cell_type": "code",
   "execution_count": 21,
   "metadata": {},
   "outputs": [
    {
     "name": "stdout",
     "output_type": "stream",
     "text": [
      "Jim\n",
      "16\n",
      "male\n",
      "jim8721@gmail.com\n"
     ]
    }
   ],
   "source": [
    "print(s.name)\n",
    "print(s.age)\n",
    "print(s.sex)\n",
    "print(s.email)"
   ]
  },
  {
   "cell_type": "code",
   "execution_count": 19,
   "metadata": {},
   "outputs": [
    {
     "data": {
      "text/plain": [
       "True"
      ]
     },
     "execution_count": 19,
     "metadata": {},
     "output_type": "execute_result"
    }
   ],
   "source": [
    "isinstance(s, tuple)"
   ]
  },
  {
   "cell_type": "markdown",
   "metadata": {},
   "source": [
    "### 讨论\n",
    "\n",
    "namedtuple 是不可变的 （immutable），如果需要修改任何属性，可以通过 _replace() 方法实现"
   ]
  },
  {
   "cell_type": "code",
   "execution_count": 35,
   "metadata": {},
   "outputs": [
    {
     "name": "stdout",
     "output_type": "stream",
     "text": [
      "Student(name='Jim', age=16, sex='male', email='jim8721@gmail.com')\n",
      "Student(name='Jim', age=23, sex='male', email='jim8721@gmail.com')\n"
     ]
    }
   ],
   "source": [
    "print(s)\n",
    "s = s._replace(age=23)\n",
    "print(s)"
   ]
  },
  {
   "cell_type": "code",
   "execution_count": 38,
   "metadata": {},
   "outputs": [
    {
     "name": "stdout",
     "output_type": "stream",
     "text": [
      "Stock(name='ACME', shares=100, price=123.45, date=None, time=None)\n",
      "Stock(name='ACME', shares=100, price=123.45, date='12/17/2012', time=None)\n"
     ]
    }
   ],
   "source": [
    "from collections import namedtuple\n",
    "a = {'name': 'ACME', 'shares': 100, 'price': 123.45}\n",
    "b = {'name': 'ACME', 'shares': 100, 'price': 123.45, 'date': '12/17/2012'}\n",
    "Stock = namedtuple('Stock', ['name', 'shares', 'price', 'date', 'time'])\n",
    "stock_prototype = Stock('', 0, 0.0, None, None)\n",
    "def dict_to_stock(s):\n",
    "    return stock_prototype._replace(**s)\n",
    "print(dict_to_stock(a))\n",
    "print(dict_to_stock(b))"
   ]
  },
  {
   "cell_type": "markdown",
   "metadata": {},
   "source": [
    "这里的 `stock_prototype._replace(**s)` 可以理解为将字典 s 解包成 name='ACME', shares=100, price=123.45\n",
    "\n",
    "Demo:"
   ]
  },
  {
   "cell_type": "code",
   "execution_count": 49,
   "metadata": {},
   "outputs": [
    {
     "name": "stdout",
     "output_type": "stream",
     "text": [
      "{'x': '1', 'y': 2}\n"
     ]
    }
   ],
   "source": [
    "def foo(**d):\n",
    "    print(d)\n",
    "foo(x='1',y=2)"
   ]
  },
  {
   "cell_type": "markdown",
   "metadata": {},
   "source": [
    "## 1.19 同时对数据做转换和换算\n",
    "\n",
    "### 问题\n",
    "\n",
    "我们需要调用一个换算（reduction）函数（例如sum（）、min（）、max（）），但首先得对数据做转换或筛选。\n",
    "\n",
    "### 解决方案\n",
    "\n",
    "在函数参数中使用生成器表达式。"
   ]
  },
  {
   "cell_type": "code",
   "execution_count": 59,
   "metadata": {},
   "outputs": [
    {
     "name": "stdout",
     "output_type": "stream",
     "text": [
      "[10, 2, 8, 9, 6]\n",
      "285\n"
     ]
    }
   ],
   "source": [
    "import random\n",
    "nums = [random.randint(1, 10) for _ in range(5)]\n",
    "print(nums)\n",
    "s = sum(x * x for x in nums)\n",
    "print(s)"
   ]
  },
  {
   "cell_type": "code",
   "execution_count": 61,
   "metadata": {},
   "outputs": [
    {
     "name": "stdout",
     "output_type": "stream",
     "text": [
      "20\n"
     ]
    }
   ],
   "source": [
    "portfolio = [\n",
    "    {'name': 'GOOG', 'shares': 50},\n",
    "    {'name': 'YHOO', 'shares': 75},\n",
    "    {'name': 'AOL', 'shares': 20},\n",
    "    {'name': 'SCOX', 'shares': 65},\n",
    "]\n",
    "min_shares = min(s['shares'] for s in portfolio)\n",
    "print(min_shares)"
   ]
  },
  {
   "cell_type": "markdown",
   "metadata": {},
   "source": [
    "### 讨论\n",
    "\n",
    "下面两行代码表示的是同一个意思："
   ]
  },
  {
   "cell_type": "code",
   "execution_count": 62,
   "metadata": {},
   "outputs": [],
   "source": [
    "s = sum((x * x for x in nums))\n",
    "s = sum(x * x for x in nums)"
   ]
  },
  {
   "cell_type": "markdown",
   "metadata": {},
   "source": [
    "如果不适用生成器表达式，可能会考虑下面这种实现："
   ]
  },
  {
   "cell_type": "code",
   "execution_count": 63,
   "metadata": {},
   "outputs": [],
   "source": [
    "s = sum([x * x for x in nums])"
   ]
  },
  {
   "cell_type": "markdown",
   "metadata": {},
   "source": [
    "这也能工作，但这引入了一个额外的步骤而且创建了额外的列表。\n",
    "\n",
    "如果nums非常巨大，那么就会创建一个庞大的临时数据结构，而且只用一次就会丢弃。\n",
    "\n",
    "基于生成器的解决方案可以以迭代的方式转换数据，因此在内存使用上要高效得多。"
   ]
  },
  {
   "cell_type": "code",
   "execution_count": 64,
   "metadata": {},
   "outputs": [
    {
     "name": "stdout",
     "output_type": "stream",
     "text": [
      "{'name': 'AOL', 'shares': 20}\n"
     ]
    }
   ],
   "source": [
    "# 使用 key 参数\n",
    "\n",
    "min_shares = min(portfolio, key=lambda s:s['shares'])\n",
    "print(min_shares)"
   ]
  },
  {
   "cell_type": "markdown",
   "metadata": {},
   "source": [
    "## 1.20 将多个映射合并为单个映射\n",
    "\n",
    "### 问题\n",
    "\n",
    "我们有多个字典或映射，想在逻辑上将它们合并为一个单独的映射结构，以此执行某些特定的操作，比如查找值或检查键是否存在\n",
    "\n",
    "### 解决方案\n",
    "\n",
    "利用 collections 模块的 ChainMap 类"
   ]
  },
  {
   "cell_type": "code",
   "execution_count": 70,
   "metadata": {},
   "outputs": [
    {
     "name": "stdout",
     "output_type": "stream",
     "text": [
      "1\n",
      "2\n",
      "3\n"
     ]
    }
   ],
   "source": [
    "from collections import ChainMap\n",
    "\n",
    "a = {'x':1, 'z':3}\n",
    "b = {'y':2, 'z':4}\n",
    "\n",
    "c = ChainMap(a, b)\n",
    "print(c['x'])  # Outputs 1 (from a)\n",
    "print(c['y'])  # Outputs 2 (from b)\n",
    "print(c['z'])  # Outputs 3 (from a)"
   ]
  },
  {
   "cell_type": "markdown",
   "metadata": {},
   "source": [
    "### 讨论\n",
    "\n",
    "如果有重复的键，这里会采用第一个映射中所对应的值。\n",
    "\n",
    "修改映射的操作总是会作用在列出的第一个映射结构上。"
   ]
  },
  {
   "cell_type": "code",
   "execution_count": 71,
   "metadata": {},
   "outputs": [
    {
     "name": "stdout",
     "output_type": "stream",
     "text": [
      "{'z': 10, 'w': 40}\n"
     ]
    }
   ],
   "source": [
    "c['z'] = 10\n",
    "c['w'] = 40\n",
    "del c['x']\n",
    "print(a)"
   ]
  },
  {
   "cell_type": "code",
   "execution_count": 72,
   "metadata": {
    "scrolled": false
   },
   "outputs": [
    {
     "ename": "KeyError",
     "evalue": "\"Key not found in the first mapping: 'y'\"",
     "output_type": "error",
     "traceback": [
      "\u001b[1;31m---------------------------------------------------------------------------\u001b[0m",
      "\u001b[1;31mKeyError\u001b[0m                                  Traceback (most recent call last)",
      "\u001b[1;32mc:\\miniconda3\\lib\\collections\\__init__.py\u001b[0m in \u001b[0;36m__delitem__\u001b[1;34m(self, key)\u001b[0m\n\u001b[0;32m    967\u001b[0m         \u001b[1;32mtry\u001b[0m\u001b[1;33m:\u001b[0m\u001b[1;33m\u001b[0m\u001b[1;33m\u001b[0m\u001b[0m\n\u001b[1;32m--> 968\u001b[1;33m             \u001b[1;32mdel\u001b[0m \u001b[0mself\u001b[0m\u001b[1;33m.\u001b[0m\u001b[0mmaps\u001b[0m\u001b[1;33m[\u001b[0m\u001b[1;36m0\u001b[0m\u001b[1;33m]\u001b[0m\u001b[1;33m[\u001b[0m\u001b[0mkey\u001b[0m\u001b[1;33m]\u001b[0m\u001b[1;33m\u001b[0m\u001b[1;33m\u001b[0m\u001b[0m\n\u001b[0m\u001b[0;32m    969\u001b[0m         \u001b[1;32mexcept\u001b[0m \u001b[0mKeyError\u001b[0m\u001b[1;33m:\u001b[0m\u001b[1;33m\u001b[0m\u001b[1;33m\u001b[0m\u001b[0m\n",
      "\u001b[1;31mKeyError\u001b[0m: 'y'",
      "\nDuring handling of the above exception, another exception occurred:\n",
      "\u001b[1;31mKeyError\u001b[0m                                  Traceback (most recent call last)",
      "\u001b[1;32m<ipython-input-72-1b93a26af00d>\u001b[0m in \u001b[0;36m<module>\u001b[1;34m\u001b[0m\n\u001b[1;32m----> 1\u001b[1;33m \u001b[1;32mdel\u001b[0m \u001b[0mc\u001b[0m\u001b[1;33m[\u001b[0m\u001b[1;34m'y'\u001b[0m\u001b[1;33m]\u001b[0m\u001b[1;33m\u001b[0m\u001b[1;33m\u001b[0m\u001b[0m\n\u001b[0m",
      "\u001b[1;32mc:\\miniconda3\\lib\\collections\\__init__.py\u001b[0m in \u001b[0;36m__delitem__\u001b[1;34m(self, key)\u001b[0m\n\u001b[0;32m    968\u001b[0m             \u001b[1;32mdel\u001b[0m \u001b[0mself\u001b[0m\u001b[1;33m.\u001b[0m\u001b[0mmaps\u001b[0m\u001b[1;33m[\u001b[0m\u001b[1;36m0\u001b[0m\u001b[1;33m]\u001b[0m\u001b[1;33m[\u001b[0m\u001b[0mkey\u001b[0m\u001b[1;33m]\u001b[0m\u001b[1;33m\u001b[0m\u001b[1;33m\u001b[0m\u001b[0m\n\u001b[0;32m    969\u001b[0m         \u001b[1;32mexcept\u001b[0m \u001b[0mKeyError\u001b[0m\u001b[1;33m:\u001b[0m\u001b[1;33m\u001b[0m\u001b[1;33m\u001b[0m\u001b[0m\n\u001b[1;32m--> 970\u001b[1;33m             \u001b[1;32mraise\u001b[0m \u001b[0mKeyError\u001b[0m\u001b[1;33m(\u001b[0m\u001b[1;34m'Key not found in the first mapping: {!r}'\u001b[0m\u001b[1;33m.\u001b[0m\u001b[0mformat\u001b[0m\u001b[1;33m(\u001b[0m\u001b[0mkey\u001b[0m\u001b[1;33m)\u001b[0m\u001b[1;33m)\u001b[0m\u001b[1;33m\u001b[0m\u001b[1;33m\u001b[0m\u001b[0m\n\u001b[0m\u001b[0;32m    971\u001b[0m \u001b[1;33m\u001b[0m\u001b[0m\n\u001b[0;32m    972\u001b[0m     \u001b[1;32mdef\u001b[0m \u001b[0mpopitem\u001b[0m\u001b[1;33m(\u001b[0m\u001b[0mself\u001b[0m\u001b[1;33m)\u001b[0m\u001b[1;33m:\u001b[0m\u001b[1;33m\u001b[0m\u001b[1;33m\u001b[0m\u001b[0m\n",
      "\u001b[1;31mKeyError\u001b[0m: \"Key not found in the first mapping: 'y'\""
     ]
    }
   ],
   "source": [
    "del c['y']"
   ]
  },
  {
   "cell_type": "markdown",
   "metadata": {},
   "source": [
    "ChainMap 与带有作用域的值，比如编程语言中的变量（即全局变量、局部变量等）一起工作时特别有用"
   ]
  },
  {
   "cell_type": "code",
   "execution_count": 74,
   "metadata": {},
   "outputs": [
    {
     "name": "stdout",
     "output_type": "stream",
     "text": [
      "ChainMap({'x': 3}, {'x': 2}, {'x': 1})\n"
     ]
    }
   ],
   "source": [
    "values = ChainMap()\n",
    "values['x'] = 1\n",
    "values = values.new_child()\n",
    "values['x'] = 2\n",
    "values = values.new_child()\n",
    "values['x'] = 3\n",
    "print(values)"
   ]
  },
  {
   "cell_type": "code",
   "execution_count": 76,
   "metadata": {},
   "outputs": [
    {
     "data": {
      "text/plain": [
       "3"
      ]
     },
     "execution_count": 76,
     "metadata": {},
     "output_type": "execute_result"
    }
   ],
   "source": [
    "values['x']"
   ]
  },
  {
   "cell_type": "code",
   "execution_count": 77,
   "metadata": {},
   "outputs": [
    {
     "name": "stdout",
     "output_type": "stream",
     "text": [
      "2\n",
      "1\n",
      "ChainMap({'x': 1})\n"
     ]
    }
   ],
   "source": [
    "values = values.parents\n",
    "print(values['x'])\n",
    "values = values.parents\n",
    "print(values['x'])\n",
    "print(values)"
   ]
  },
  {
   "cell_type": "markdown",
   "metadata": {},
   "source": [
    "### 合并字典"
   ]
  },
  {
   "cell_type": "code",
   "execution_count": 85,
   "metadata": {},
   "outputs": [
    {
     "name": "stdout",
     "output_type": "stream",
     "text": [
      "{'x': 1, 'z': 4, 'y': 2}\n",
      "{'y': 2, 'z': 3, 'x': 1}\n"
     ]
    }
   ],
   "source": [
    "a = {'x':1, 'z':3}\n",
    "b = {'y':2, 'z':4}\n",
    "\n",
    "c1 = dict(a, **b)\n",
    "print(c1)\n",
    "c2 = dict(b, **a)\n",
    "print(c2)"
   ]
  },
  {
   "cell_type": "markdown",
   "metadata": {},
   "source": [
    "上面合并字典过程中后者会覆盖前者，且单独构建了一个完整的字典对象。\n",
    "\n",
    "这么做如果其中任何一个原始字典做了修改，这个改变都不会反应到合并后的字典中。\n",
    "\n",
    "而 ChainMap 使用的就是原始的字典，因此它不会产生这种令人不悦的行为。"
   ]
  },
  {
   "cell_type": "code",
   "execution_count": 86,
   "metadata": {},
   "outputs": [
    {
     "name": "stdout",
     "output_type": "stream",
     "text": [
      "2\n",
      "5\n"
     ]
    }
   ],
   "source": [
    "merged = ChainMap(a, b)\n",
    "print(merged['y'])\n",
    "b['y'] = 5\n",
    "print(merged['y'])"
   ]
  }
 ],
 "metadata": {
  "kernelspec": {
   "display_name": "Python 3",
   "language": "python",
   "name": "python3"
  },
  "language_info": {
   "codemirror_mode": {
    "name": "ipython",
    "version": 3
   },
   "file_extension": ".py",
   "mimetype": "text/x-python",
   "name": "python",
   "nbconvert_exporter": "python",
   "pygments_lexer": "ipython3",
   "version": "3.7.1"
  }
 },
 "nbformat": 4,
 "nbformat_minor": 2
}
